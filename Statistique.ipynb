{
 "cells": [
  {
   "cell_type": "code",
   "execution_count": 38,
   "id": "457507fe-6786-49ef-aa1f-482b191a31ea",
   "metadata": {},
   "outputs": [],
   "source": [
    "import numpy as np"
   ]
  },
  {
   "cell_type": "code",
   "execution_count": 39,
   "id": "ac9d3254-f383-4826-825f-91a98e1b9181",
   "metadata": {},
   "outputs": [
    {
     "data": {
      "text/plain": [
       "(448, 17)"
      ]
     },
     "execution_count": 39,
     "metadata": {},
     "output_type": "execute_result"
    }
   ],
   "source": [
    "import pandas as pd\n",
    "\n",
    "public_digital_path = \"https://www.data.gouv.fr/fr/datasets/r/5da7f49b-8ffc-4466-9e62-58fb476385d0\"\n",
    "\n",
    "public_digital_df = pd.read_csv(public_digital_path)\n",
    "\n",
    "public_digital_df.shape\n",
    "\n"
   ]
  },
  {
   "cell_type": "code",
   "execution_count": 40,
   "id": "7fe71814-b8a2-4c6a-842f-9e1f6341a00c",
   "metadata": {},
   "outputs": [
    {
     "data": {
      "text/html": [
       "<div>\n",
       "<style scoped>\n",
       "    .dataframe tbody tr th:only-of-type {\n",
       "        vertical-align: middle;\n",
       "    }\n",
       "\n",
       "    .dataframe tbody tr th {\n",
       "        vertical-align: top;\n",
       "    }\n",
       "\n",
       "    .dataframe thead th {\n",
       "        text-align: right;\n",
       "    }\n",
       "</style>\n",
       "<table border=\"1\" class=\"dataframe\">\n",
       "  <thead>\n",
       "    <tr style=\"text-align: right;\">\n",
       "      <th></th>\n",
       "      <th>checkbox-themes</th>\n",
       "      <th>radio-consulter-offres-publiques</th>\n",
       "      <th>radio-rejoindre</th>\n",
       "      <th>checkbox-pourquoi</th>\n",
       "      <th>checkbox-souhaits</th>\n",
       "      <th>radio-type-contrat</th>\n",
       "      <th>radio-lieu</th>\n",
       "      <th>text-lieu</th>\n",
       "      <th>number-salaire-min</th>\n",
       "      <th>number-salaire-souhait</th>\n",
       "      <th>checkbox-acceptation</th>\n",
       "      <th>text-condition</th>\n",
       "      <th>radio-genre</th>\n",
       "      <th>radio-metiers</th>\n",
       "      <th>text-autre-metier</th>\n",
       "      <th>number-experience</th>\n",
       "      <th>date</th>\n",
       "    </tr>\n",
       "  </thead>\n",
       "  <tbody>\n",
       "    <tr>\n",
       "      <th>157</th>\n",
       "      <td>Justice, Défense, Renseignement, lutte contre ...</td>\n",
       "      <td>Oui</td>\n",
       "      <td>Je ne sais pas</td>\n",
       "      <td>Servir l'intérêt général</td>\n",
       "      <td>Au sein d'un ministère</td>\n",
       "      <td>CDI</td>\n",
       "      <td>En région parisienne</td>\n",
       "      <td>NaN</td>\n",
       "      <td>5000</td>\n",
       "      <td>5000</td>\n",
       "      <td>Pouvoir travailler 1-2 jours par semaine en té...</td>\n",
       "      <td>NaN</td>\n",
       "      <td>Une femme</td>\n",
       "      <td>Communication</td>\n",
       "      <td>NaN</td>\n",
       "      <td>20.0</td>\n",
       "      <td>2019-07-04T05:32:55+00:00</td>\n",
       "    </tr>\n",
       "    <tr>\n",
       "      <th>254</th>\n",
       "      <td>Écologie, Culture, Sports</td>\n",
       "      <td>Non</td>\n",
       "      <td>Je ne sais pas</td>\n",
       "      <td>Travailler au côté de métiers différents du mien</td>\n",
       "      <td>Au sein d'une région, Au sein d'un département...</td>\n",
       "      <td>CDI</td>\n",
       "      <td>En région parisienne</td>\n",
       "      <td>Clermont-Ferrand</td>\n",
       "      <td>2400</td>\n",
       "      <td>2600</td>\n",
       "      <td>Ne pas être soumis à des habilitations de sécu...</td>\n",
       "      <td>NaN</td>\n",
       "      <td>Un homme</td>\n",
       "      <td>Développement fullstack</td>\n",
       "      <td>NaN</td>\n",
       "      <td>8.0</td>\n",
       "      <td>2019-07-03T08:32:09+00:00</td>\n",
       "    </tr>\n",
       "    <tr>\n",
       "      <th>160</th>\n",
       "      <td>Écologie, Justice, Santé, Enseignement supérie...</td>\n",
       "      <td>Non</td>\n",
       "      <td>Non</td>\n",
       "      <td>Donner du sens à mon travail, Servir l'intérêt...</td>\n",
       "      <td>Au sein d'un ministère, Au sein d'une région, ...</td>\n",
       "      <td>CDI</td>\n",
       "      <td>En métropole</td>\n",
       "      <td>NaN</td>\n",
       "      <td>3000</td>\n",
       "      <td>4500</td>\n",
       "      <td>Ne pas être soumis à des habilitations de sécu...</td>\n",
       "      <td>NaN</td>\n",
       "      <td>Refuse de se prononcer</td>\n",
       "      <td>Administration système</td>\n",
       "      <td>NaN</td>\n",
       "      <td>22.0</td>\n",
       "      <td>2019-07-04T04:36:41+00:00</td>\n",
       "    </tr>\n",
       "    <tr>\n",
       "      <th>122</th>\n",
       "      <td>Écologie, Défense, Éducation nationale, Enseig...</td>\n",
       "      <td>Non</td>\n",
       "      <td>Non</td>\n",
       "      <td>Servir l'intérêt général</td>\n",
       "      <td>Au sein d'un ministère</td>\n",
       "      <td>CDI</td>\n",
       "      <td>En région parisienne</td>\n",
       "      <td>paris</td>\n",
       "      <td>3000</td>\n",
       "      <td>4000</td>\n",
       "      <td>Pouvoir travailler 1-2 jours par semaine en té...</td>\n",
       "      <td>NaN</td>\n",
       "      <td>Un homme</td>\n",
       "      <td>Développement fullstack</td>\n",
       "      <td>NaN</td>\n",
       "      <td>12.0</td>\n",
       "      <td>2019-07-05T17:29:24+00:00</td>\n",
       "    </tr>\n",
       "    <tr>\n",
       "      <th>78</th>\n",
       "      <td>Écologie, Santé, Éducation nationale, Culture,...</td>\n",
       "      <td>Oui</td>\n",
       "      <td>Oui</td>\n",
       "      <td>Servir l'intérêt général, Avoir un impact sur ...</td>\n",
       "      <td>Au sein d'une région, Au sein d'un département</td>\n",
       "      <td>CDI</td>\n",
       "      <td>En métropole</td>\n",
       "      <td>Nantes</td>\n",
       "      <td>2500</td>\n",
       "      <td>3000</td>\n",
       "      <td>Pouvoir travailler 1-2 jours par semaine en té...</td>\n",
       "      <td>NaN</td>\n",
       "      <td>Un homme</td>\n",
       "      <td>Product management</td>\n",
       "      <td>NaN</td>\n",
       "      <td>10.0</td>\n",
       "      <td>2019-07-19T07:32:45+00:00</td>\n",
       "    </tr>\n",
       "    <tr>\n",
       "      <th>323</th>\n",
       "      <td>Écologie, Justice, Éducation nationale, Enseig...</td>\n",
       "      <td>Oui</td>\n",
       "      <td>Oui</td>\n",
       "      <td>Servir l'intérêt général, Avoir un impact sur ...</td>\n",
       "      <td>Au sein d'un ministère, Au sein d'une région, ...</td>\n",
       "      <td>CDI</td>\n",
       "      <td>En métropole</td>\n",
       "      <td>NaN</td>\n",
       "      <td>2000</td>\n",
       "      <td>3000</td>\n",
       "      <td>Pouvoir travailler 1-2 jours par semaine en té...</td>\n",
       "      <td>NaN</td>\n",
       "      <td>Une femme</td>\n",
       "      <td>Développement fullstack</td>\n",
       "      <td>NaN</td>\n",
       "      <td>2.0</td>\n",
       "      <td>2019-07-02T06:50:27+00:00</td>\n",
       "    </tr>\n",
       "    <tr>\n",
       "      <th>256</th>\n",
       "      <td>Écologie, Économie, Éducation nationale, Ensei...</td>\n",
       "      <td>Non</td>\n",
       "      <td>Non</td>\n",
       "      <td>Servir l'intérêt général, Avoir un impact sur ...</td>\n",
       "      <td>Au sein d'un ministère</td>\n",
       "      <td>CDI</td>\n",
       "      <td>En région parisienne</td>\n",
       "      <td>Paris</td>\n",
       "      <td>3500</td>\n",
       "      <td>4000</td>\n",
       "      <td>Travailler en méthodes agiles, Pouvoir travail...</td>\n",
       "      <td>NaN</td>\n",
       "      <td>Une femme</td>\n",
       "      <td>Communication</td>\n",
       "      <td>NaN</td>\n",
       "      <td>5.0</td>\n",
       "      <td>2019-07-03T08:30:49+00:00</td>\n",
       "    </tr>\n",
       "    <tr>\n",
       "      <th>204</th>\n",
       "      <td>Culture</td>\n",
       "      <td>Oui</td>\n",
       "      <td>Je ne sais pas</td>\n",
       "      <td>Servir l'intérêt général, Avoir un impact sur ...</td>\n",
       "      <td>Au sein d'une région, Au sein d'un département...</td>\n",
       "      <td>CDI</td>\n",
       "      <td>En métropole</td>\n",
       "      <td>NaN</td>\n",
       "      <td>2200</td>\n",
       "      <td>2500</td>\n",
       "      <td>Travailler 35h / semaine, Pouvoir travailler 1...</td>\n",
       "      <td>NaN</td>\n",
       "      <td>Une femme</td>\n",
       "      <td>Product management</td>\n",
       "      <td>NaN</td>\n",
       "      <td>10.0</td>\n",
       "      <td>2019-07-03T10:06:44+00:00</td>\n",
       "    </tr>\n",
       "    <tr>\n",
       "      <th>191</th>\n",
       "      <td>Justice, Défense, Éducation nationale, Enseign...</td>\n",
       "      <td>Oui</td>\n",
       "      <td>Je ne sais pas</td>\n",
       "      <td>Donner du sens à mon travail, Servir l'intérêt...</td>\n",
       "      <td>Au sein d'un ministère, Au sein d'une région, ...</td>\n",
       "      <td>CDI</td>\n",
       "      <td>En métropole</td>\n",
       "      <td>occitanie</td>\n",
       "      <td>1450</td>\n",
       "      <td>1700</td>\n",
       "      <td>Avoir des horaires de travail flexibles</td>\n",
       "      <td>NaN</td>\n",
       "      <td>Un homme</td>\n",
       "      <td>Data scientist</td>\n",
       "      <td>Documentaliste spécialisé données</td>\n",
       "      <td>2.0</td>\n",
       "      <td>2019-07-03T12:08:04+00:00</td>\n",
       "    </tr>\n",
       "    <tr>\n",
       "      <th>68</th>\n",
       "      <td>Écologie, Santé, Économie, Éducation nationale...</td>\n",
       "      <td>Oui</td>\n",
       "      <td>Je ne sais pas</td>\n",
       "      <td>Donner du sens à mon travail, Servir l'intérêt...</td>\n",
       "      <td>Au sein d'une région, Au sein d'une commune</td>\n",
       "      <td>CDD (2-3 ans)</td>\n",
       "      <td>En métropole</td>\n",
       "      <td>maubeuge</td>\n",
       "      <td>2500</td>\n",
       "      <td>3500</td>\n",
       "      <td>Pouvoir travailler 1-2 jours par semaine en té...</td>\n",
       "      <td>NaN</td>\n",
       "      <td>Un homme</td>\n",
       "      <td>Design de services</td>\n",
       "      <td>Design thinking, Agilité à l'échelle, Product ...</td>\n",
       "      <td>5.0</td>\n",
       "      <td>2019-07-20T07:50:24+00:00</td>\n",
       "    </tr>\n",
       "    <tr>\n",
       "      <th>334</th>\n",
       "      <td>Justice, Éducation nationale</td>\n",
       "      <td>Non</td>\n",
       "      <td>Je ne sais pas</td>\n",
       "      <td>Servir l'intérêt général, Avoir un impact sur ...</td>\n",
       "      <td>Au sein d'un ministère</td>\n",
       "      <td>Freelance, portage salarial</td>\n",
       "      <td>En métropole</td>\n",
       "      <td>Région Bordelaise</td>\n",
       "      <td>3000</td>\n",
       "      <td>3500</td>\n",
       "      <td>Pouvoir travailler 1-2 jours par semaine en té...</td>\n",
       "      <td>Ne pas avoir dans ma ligne managériale de fonc...</td>\n",
       "      <td>Un homme</td>\n",
       "      <td>Développement fullstack</td>\n",
       "      <td>NaN</td>\n",
       "      <td>8.0</td>\n",
       "      <td>2019-07-02T05:36:25+00:00</td>\n",
       "    </tr>\n",
       "    <tr>\n",
       "      <th>271</th>\n",
       "      <td>Justice, Affaires étrangères, Défense, Économi...</td>\n",
       "      <td>Non</td>\n",
       "      <td>Je ne sais pas</td>\n",
       "      <td>Servir l'intérêt général, Avoir un impact sur ...</td>\n",
       "      <td>Au sein d'un ministère, Au sein d'une région</td>\n",
       "      <td>CDI</td>\n",
       "      <td>En métropole</td>\n",
       "      <td>PARIS / LYON</td>\n",
       "      <td>2100</td>\n",
       "      <td>2500</td>\n",
       "      <td>Être libre d'installer les logiciels dont j'ai...</td>\n",
       "      <td>NaN</td>\n",
       "      <td>Un homme</td>\n",
       "      <td>Design de services</td>\n",
       "      <td>NaN</td>\n",
       "      <td>1.0</td>\n",
       "      <td>2019-07-02T23:09:05+00:00</td>\n",
       "    </tr>\n",
       "    <tr>\n",
       "      <th>240</th>\n",
       "      <td>Justice, Affaires étrangères, Santé, Éducation...</td>\n",
       "      <td>Oui</td>\n",
       "      <td>Je ne sais pas</td>\n",
       "      <td>Donner du sens à mon travail, Servir l'intérêt...</td>\n",
       "      <td>Au sein d'un ministère</td>\n",
       "      <td>CDI</td>\n",
       "      <td>En région parisienne</td>\n",
       "      <td>Paris</td>\n",
       "      <td>4000</td>\n",
       "      <td>5000</td>\n",
       "      <td>Avoir des horaires de travail flexibles, Pouvo...</td>\n",
       "      <td>NaN</td>\n",
       "      <td>Un homme</td>\n",
       "      <td>Autre</td>\n",
       "      <td>QA/Test</td>\n",
       "      <td>7.0</td>\n",
       "      <td>2019-07-03T08:49:47+00:00</td>\n",
       "    </tr>\n",
       "    <tr>\n",
       "      <th>114</th>\n",
       "      <td>Écologie, Justice, Défense, Santé, Éducation n...</td>\n",
       "      <td>Oui</td>\n",
       "      <td>Je ne sais pas</td>\n",
       "      <td>Donner du sens à mon travail, Servir l'intérêt...</td>\n",
       "      <td>Au sein d'une région, Au sein d'un département...</td>\n",
       "      <td>CDI</td>\n",
       "      <td>En métropole</td>\n",
       "      <td>Rouen</td>\n",
       "      <td>3000</td>\n",
       "      <td>4000</td>\n",
       "      <td>Pouvoir travailler 1-2 jours par semaine en té...</td>\n",
       "      <td>NaN</td>\n",
       "      <td>Un homme</td>\n",
       "      <td>Développement fullstack</td>\n",
       "      <td>NaN</td>\n",
       "      <td>3.0</td>\n",
       "      <td>2019-07-08T15:18:03+00:00</td>\n",
       "    </tr>\n",
       "    <tr>\n",
       "      <th>126</th>\n",
       "      <td>Justice, Affaires étrangères, Défense, Renseig...</td>\n",
       "      <td>Oui</td>\n",
       "      <td>Oui</td>\n",
       "      <td>Servir l'intérêt général, Avoir un impact sur ...</td>\n",
       "      <td>Au sein d'un ministère</td>\n",
       "      <td>CDD (2-3 ans)</td>\n",
       "      <td>En région parisienne</td>\n",
       "      <td>Paris</td>\n",
       "      <td>2800</td>\n",
       "      <td>3500</td>\n",
       "      <td>Travailler 35h / semaine, Pouvoir travailler 1...</td>\n",
       "      <td>NaN</td>\n",
       "      <td>Une femme</td>\n",
       "      <td>Design de services</td>\n",
       "      <td>NaN</td>\n",
       "      <td>15.0</td>\n",
       "      <td>2019-07-05T13:27:49+00:00</td>\n",
       "    </tr>\n",
       "    <tr>\n",
       "      <th>292</th>\n",
       "      <td>Enseignement supérieur et recherche</td>\n",
       "      <td>Oui</td>\n",
       "      <td>Non</td>\n",
       "      <td>Servir l'intérêt général</td>\n",
       "      <td>Au sein d'une région</td>\n",
       "      <td>CDI</td>\n",
       "      <td>En métropole</td>\n",
       "      <td>Grand Est</td>\n",
       "      <td>3230</td>\n",
       "      <td>3500</td>\n",
       "      <td>Travailler 35h / semaine, Pouvoir travailler 1...</td>\n",
       "      <td>NaN</td>\n",
       "      <td>Un homme</td>\n",
       "      <td>Développement fullstack</td>\n",
       "      <td>NaN</td>\n",
       "      <td>10.0</td>\n",
       "      <td>2019-07-02T13:01:31+00:00</td>\n",
       "    </tr>\n",
       "    <tr>\n",
       "      <th>446</th>\n",
       "      <td>Écologie, Affaires étrangères, Santé, Économie...</td>\n",
       "      <td>Oui</td>\n",
       "      <td>Oui</td>\n",
       "      <td>Donner du sens à mon travail, Servir l'intérêt...</td>\n",
       "      <td>Au sein d'un ministère, Au sein d'une région</td>\n",
       "      <td>CDI</td>\n",
       "      <td>En métropole</td>\n",
       "      <td>NaN</td>\n",
       "      <td>3500</td>\n",
       "      <td>4200</td>\n",
       "      <td>Ne pas être soumis à des habilitations de sécu...</td>\n",
       "      <td>NaN</td>\n",
       "      <td>Un homme</td>\n",
       "      <td>Développement fullstack</td>\n",
       "      <td>NaN</td>\n",
       "      <td>10.0</td>\n",
       "      <td>2019-07-01T08:33:52+00:00</td>\n",
       "    </tr>\n",
       "    <tr>\n",
       "      <th>38</th>\n",
       "      <td>Écologie, Renseignement, lutte contre la fraude</td>\n",
       "      <td>Non</td>\n",
       "      <td>Je ne sais pas</td>\n",
       "      <td>Avoir un impact sur le quotidien, Travailler a...</td>\n",
       "      <td>Au sein d'un ministère, Au sein d'une région</td>\n",
       "      <td>CDI</td>\n",
       "      <td>En région parisienne</td>\n",
       "      <td>78</td>\n",
       "      <td>4000</td>\n",
       "      <td>5000</td>\n",
       "      <td>Pouvoir travailler 1-2 jours par semaine en té...</td>\n",
       "      <td>NaN</td>\n",
       "      <td>Un homme</td>\n",
       "      <td>Data scientist</td>\n",
       "      <td>NaN</td>\n",
       "      <td>1.0</td>\n",
       "      <td>2019-07-21T16:13:01+00:00</td>\n",
       "    </tr>\n",
       "    <tr>\n",
       "      <th>44</th>\n",
       "      <td>Écologie, Affaires étrangères, Défense, Économ...</td>\n",
       "      <td>Non</td>\n",
       "      <td>Oui</td>\n",
       "      <td>Donner du sens à mon travail, Servir l'intérêt...</td>\n",
       "      <td>Au sein d'un ministère, Au sein d'une région, ...</td>\n",
       "      <td>CDI</td>\n",
       "      <td>En métropole</td>\n",
       "      <td>NaN</td>\n",
       "      <td>2200</td>\n",
       "      <td>2500</td>\n",
       "      <td>Pouvoir travailler à 80-100% en télétravail, A...</td>\n",
       "      <td>NaN</td>\n",
       "      <td>Un homme</td>\n",
       "      <td>Développement fullstack</td>\n",
       "      <td>NaN</td>\n",
       "      <td>1.0</td>\n",
       "      <td>2019-07-21T12:08:05+00:00</td>\n",
       "    </tr>\n",
       "    <tr>\n",
       "      <th>324</th>\n",
       "      <td>Écologie, Éducation nationale, Culture, Sports...</td>\n",
       "      <td>Non</td>\n",
       "      <td>Oui</td>\n",
       "      <td>Servir l'intérêt général, Pour réorienter ma c...</td>\n",
       "      <td>Au sein d'un ministère</td>\n",
       "      <td>CDI</td>\n",
       "      <td>En région parisienne</td>\n",
       "      <td>NaN</td>\n",
       "      <td>3000</td>\n",
       "      <td>3800</td>\n",
       "      <td>Pouvoir travailler 1-2 jours par semaine en té...</td>\n",
       "      <td>NaN</td>\n",
       "      <td>Un homme</td>\n",
       "      <td>Product management</td>\n",
       "      <td>NaN</td>\n",
       "      <td>12.0</td>\n",
       "      <td>2019-07-02T06:42:53+00:00</td>\n",
       "    </tr>\n",
       "  </tbody>\n",
       "</table>\n",
       "</div>"
      ],
      "text/plain": [
       "                                       checkbox-themes  \\\n",
       "157  Justice, Défense, Renseignement, lutte contre ...   \n",
       "254                          Écologie, Culture, Sports   \n",
       "160  Écologie, Justice, Santé, Enseignement supérie...   \n",
       "122  Écologie, Défense, Éducation nationale, Enseig...   \n",
       "78   Écologie, Santé, Éducation nationale, Culture,...   \n",
       "323  Écologie, Justice, Éducation nationale, Enseig...   \n",
       "256  Écologie, Économie, Éducation nationale, Ensei...   \n",
       "204                                            Culture   \n",
       "191  Justice, Défense, Éducation nationale, Enseign...   \n",
       "68   Écologie, Santé, Économie, Éducation nationale...   \n",
       "334                       Justice, Éducation nationale   \n",
       "271  Justice, Affaires étrangères, Défense, Économi...   \n",
       "240  Justice, Affaires étrangères, Santé, Éducation...   \n",
       "114  Écologie, Justice, Défense, Santé, Éducation n...   \n",
       "126  Justice, Affaires étrangères, Défense, Renseig...   \n",
       "292                Enseignement supérieur et recherche   \n",
       "446  Écologie, Affaires étrangères, Santé, Économie...   \n",
       "38     Écologie, Renseignement, lutte contre la fraude   \n",
       "44   Écologie, Affaires étrangères, Défense, Économ...   \n",
       "324  Écologie, Éducation nationale, Culture, Sports...   \n",
       "\n",
       "    radio-consulter-offres-publiques radio-rejoindre  \\\n",
       "157                              Oui  Je ne sais pas   \n",
       "254                              Non  Je ne sais pas   \n",
       "160                              Non             Non   \n",
       "122                              Non             Non   \n",
       "78                               Oui             Oui   \n",
       "323                              Oui             Oui   \n",
       "256                              Non             Non   \n",
       "204                              Oui  Je ne sais pas   \n",
       "191                              Oui  Je ne sais pas   \n",
       "68                               Oui  Je ne sais pas   \n",
       "334                              Non  Je ne sais pas   \n",
       "271                              Non  Je ne sais pas   \n",
       "240                              Oui  Je ne sais pas   \n",
       "114                              Oui  Je ne sais pas   \n",
       "126                              Oui             Oui   \n",
       "292                              Oui             Non   \n",
       "446                              Oui             Oui   \n",
       "38                               Non  Je ne sais pas   \n",
       "44                               Non             Oui   \n",
       "324                              Non             Oui   \n",
       "\n",
       "                                     checkbox-pourquoi  \\\n",
       "157                           Servir l'intérêt général   \n",
       "254   Travailler au côté de métiers différents du mien   \n",
       "160  Donner du sens à mon travail, Servir l'intérêt...   \n",
       "122                           Servir l'intérêt général   \n",
       "78   Servir l'intérêt général, Avoir un impact sur ...   \n",
       "323  Servir l'intérêt général, Avoir un impact sur ...   \n",
       "256  Servir l'intérêt général, Avoir un impact sur ...   \n",
       "204  Servir l'intérêt général, Avoir un impact sur ...   \n",
       "191  Donner du sens à mon travail, Servir l'intérêt...   \n",
       "68   Donner du sens à mon travail, Servir l'intérêt...   \n",
       "334  Servir l'intérêt général, Avoir un impact sur ...   \n",
       "271  Servir l'intérêt général, Avoir un impact sur ...   \n",
       "240  Donner du sens à mon travail, Servir l'intérêt...   \n",
       "114  Donner du sens à mon travail, Servir l'intérêt...   \n",
       "126  Servir l'intérêt général, Avoir un impact sur ...   \n",
       "292                           Servir l'intérêt général   \n",
       "446  Donner du sens à mon travail, Servir l'intérêt...   \n",
       "38   Avoir un impact sur le quotidien, Travailler a...   \n",
       "44   Donner du sens à mon travail, Servir l'intérêt...   \n",
       "324  Servir l'intérêt général, Pour réorienter ma c...   \n",
       "\n",
       "                                     checkbox-souhaits  \\\n",
       "157                             Au sein d'un ministère   \n",
       "254  Au sein d'une région, Au sein d'un département...   \n",
       "160  Au sein d'un ministère, Au sein d'une région, ...   \n",
       "122                             Au sein d'un ministère   \n",
       "78      Au sein d'une région, Au sein d'un département   \n",
       "323  Au sein d'un ministère, Au sein d'une région, ...   \n",
       "256                             Au sein d'un ministère   \n",
       "204  Au sein d'une région, Au sein d'un département...   \n",
       "191  Au sein d'un ministère, Au sein d'une région, ...   \n",
       "68         Au sein d'une région, Au sein d'une commune   \n",
       "334                             Au sein d'un ministère   \n",
       "271       Au sein d'un ministère, Au sein d'une région   \n",
       "240                             Au sein d'un ministère   \n",
       "114  Au sein d'une région, Au sein d'un département...   \n",
       "126                             Au sein d'un ministère   \n",
       "292                               Au sein d'une région   \n",
       "446       Au sein d'un ministère, Au sein d'une région   \n",
       "38        Au sein d'un ministère, Au sein d'une région   \n",
       "44   Au sein d'un ministère, Au sein d'une région, ...   \n",
       "324                             Au sein d'un ministère   \n",
       "\n",
       "              radio-type-contrat            radio-lieu          text-lieu  \\\n",
       "157                          CDI  En région parisienne                NaN   \n",
       "254                          CDI  En région parisienne   Clermont-Ferrand   \n",
       "160                          CDI          En métropole                NaN   \n",
       "122                          CDI  En région parisienne              paris   \n",
       "78                           CDI          En métropole             Nantes   \n",
       "323                          CDI          En métropole                NaN   \n",
       "256                          CDI  En région parisienne              Paris   \n",
       "204                          CDI          En métropole                NaN   \n",
       "191                          CDI          En métropole          occitanie   \n",
       "68                 CDD (2-3 ans)          En métropole           maubeuge   \n",
       "334  Freelance, portage salarial          En métropole  Région Bordelaise   \n",
       "271                          CDI          En métropole       PARIS / LYON   \n",
       "240                          CDI  En région parisienne              Paris   \n",
       "114                          CDI          En métropole              Rouen   \n",
       "126                CDD (2-3 ans)  En région parisienne              Paris   \n",
       "292                          CDI          En métropole          Grand Est   \n",
       "446                          CDI          En métropole                NaN   \n",
       "38                           CDI  En région parisienne                 78   \n",
       "44                           CDI          En métropole                NaN   \n",
       "324                          CDI  En région parisienne                NaN   \n",
       "\n",
       "     number-salaire-min  number-salaire-souhait  \\\n",
       "157                5000                    5000   \n",
       "254                2400                    2600   \n",
       "160                3000                    4500   \n",
       "122                3000                    4000   \n",
       "78                 2500                    3000   \n",
       "323                2000                    3000   \n",
       "256                3500                    4000   \n",
       "204                2200                    2500   \n",
       "191                1450                    1700   \n",
       "68                 2500                    3500   \n",
       "334                3000                    3500   \n",
       "271                2100                    2500   \n",
       "240                4000                    5000   \n",
       "114                3000                    4000   \n",
       "126                2800                    3500   \n",
       "292                3230                    3500   \n",
       "446                3500                    4200   \n",
       "38                 4000                    5000   \n",
       "44                 2200                    2500   \n",
       "324                3000                    3800   \n",
       "\n",
       "                                  checkbox-acceptation  \\\n",
       "157  Pouvoir travailler 1-2 jours par semaine en té...   \n",
       "254  Ne pas être soumis à des habilitations de sécu...   \n",
       "160  Ne pas être soumis à des habilitations de sécu...   \n",
       "122  Pouvoir travailler 1-2 jours par semaine en té...   \n",
       "78   Pouvoir travailler 1-2 jours par semaine en té...   \n",
       "323  Pouvoir travailler 1-2 jours par semaine en té...   \n",
       "256  Travailler en méthodes agiles, Pouvoir travail...   \n",
       "204  Travailler 35h / semaine, Pouvoir travailler 1...   \n",
       "191            Avoir des horaires de travail flexibles   \n",
       "68   Pouvoir travailler 1-2 jours par semaine en té...   \n",
       "334  Pouvoir travailler 1-2 jours par semaine en té...   \n",
       "271  Être libre d'installer les logiciels dont j'ai...   \n",
       "240  Avoir des horaires de travail flexibles, Pouvo...   \n",
       "114  Pouvoir travailler 1-2 jours par semaine en té...   \n",
       "126  Travailler 35h / semaine, Pouvoir travailler 1...   \n",
       "292  Travailler 35h / semaine, Pouvoir travailler 1...   \n",
       "446  Ne pas être soumis à des habilitations de sécu...   \n",
       "38   Pouvoir travailler 1-2 jours par semaine en té...   \n",
       "44   Pouvoir travailler à 80-100% en télétravail, A...   \n",
       "324  Pouvoir travailler 1-2 jours par semaine en té...   \n",
       "\n",
       "                                        text-condition  \\\n",
       "157                                                NaN   \n",
       "254                                                NaN   \n",
       "160                                                NaN   \n",
       "122                                                NaN   \n",
       "78                                                 NaN   \n",
       "323                                                NaN   \n",
       "256                                                NaN   \n",
       "204                                                NaN   \n",
       "191                                                NaN   \n",
       "68                                                 NaN   \n",
       "334  Ne pas avoir dans ma ligne managériale de fonc...   \n",
       "271                                                NaN   \n",
       "240                                                NaN   \n",
       "114                                                NaN   \n",
       "126                                                NaN   \n",
       "292                                                NaN   \n",
       "446                                                NaN   \n",
       "38                                                 NaN   \n",
       "44                                                 NaN   \n",
       "324                                                NaN   \n",
       "\n",
       "                radio-genre            radio-metiers  \\\n",
       "157               Une femme            Communication   \n",
       "254                Un homme  Développement fullstack   \n",
       "160  Refuse de se prononcer   Administration système   \n",
       "122                Un homme  Développement fullstack   \n",
       "78                 Un homme       Product management   \n",
       "323               Une femme  Développement fullstack   \n",
       "256               Une femme            Communication   \n",
       "204               Une femme       Product management   \n",
       "191                Un homme           Data scientist   \n",
       "68                 Un homme       Design de services   \n",
       "334                Un homme  Développement fullstack   \n",
       "271                Un homme       Design de services   \n",
       "240                Un homme                    Autre   \n",
       "114                Un homme  Développement fullstack   \n",
       "126               Une femme       Design de services   \n",
       "292                Un homme  Développement fullstack   \n",
       "446                Un homme  Développement fullstack   \n",
       "38                 Un homme           Data scientist   \n",
       "44                 Un homme  Développement fullstack   \n",
       "324                Un homme       Product management   \n",
       "\n",
       "                                     text-autre-metier  number-experience  \\\n",
       "157                                                NaN               20.0   \n",
       "254                                                NaN                8.0   \n",
       "160                                                NaN               22.0   \n",
       "122                                                NaN               12.0   \n",
       "78                                                 NaN               10.0   \n",
       "323                                                NaN                2.0   \n",
       "256                                                NaN                5.0   \n",
       "204                                                NaN               10.0   \n",
       "191                 Documentaliste spécialisé données                 2.0   \n",
       "68   Design thinking, Agilité à l'échelle, Product ...                5.0   \n",
       "334                                                NaN                8.0   \n",
       "271                                                NaN                1.0   \n",
       "240                                            QA/Test                7.0   \n",
       "114                                                NaN                3.0   \n",
       "126                                                NaN               15.0   \n",
       "292                                                NaN               10.0   \n",
       "446                                                NaN               10.0   \n",
       "38                                                 NaN                1.0   \n",
       "44                                                 NaN                1.0   \n",
       "324                                                NaN               12.0   \n",
       "\n",
       "                          date  \n",
       "157  2019-07-04T05:32:55+00:00  \n",
       "254  2019-07-03T08:32:09+00:00  \n",
       "160  2019-07-04T04:36:41+00:00  \n",
       "122  2019-07-05T17:29:24+00:00  \n",
       "78   2019-07-19T07:32:45+00:00  \n",
       "323  2019-07-02T06:50:27+00:00  \n",
       "256  2019-07-03T08:30:49+00:00  \n",
       "204  2019-07-03T10:06:44+00:00  \n",
       "191  2019-07-03T12:08:04+00:00  \n",
       "68   2019-07-20T07:50:24+00:00  \n",
       "334  2019-07-02T05:36:25+00:00  \n",
       "271  2019-07-02T23:09:05+00:00  \n",
       "240  2019-07-03T08:49:47+00:00  \n",
       "114  2019-07-08T15:18:03+00:00  \n",
       "126  2019-07-05T13:27:49+00:00  \n",
       "292  2019-07-02T13:01:31+00:00  \n",
       "446  2019-07-01T08:33:52+00:00  \n",
       "38   2019-07-21T16:13:01+00:00  \n",
       "44   2019-07-21T12:08:05+00:00  \n",
       "324  2019-07-02T06:42:53+00:00  "
      ]
     },
     "execution_count": 40,
     "metadata": {},
     "output_type": "execute_result"
    }
   ],
   "source": [
    "public_digital_df.sample(20)"
   ]
  },
  {
   "cell_type": "markdown",
   "id": "fd5e0aa2-a766-44cf-9476-09d32548d245",
   "metadata": {},
   "source": [
    "<span style=\"color: black; font-weight: bold; font-size: 50px;\">Valeurs maquantes</span>"
   ]
  },
  {
   "cell_type": "code",
   "execution_count": 41,
   "id": "040122f7-173f-4697-ae1f-34e504a13465",
   "metadata": {},
   "outputs": [
    {
     "data": {
      "text/html": [
       "<div>\n",
       "<style scoped>\n",
       "    .dataframe tbody tr th:only-of-type {\n",
       "        vertical-align: middle;\n",
       "    }\n",
       "\n",
       "    .dataframe tbody tr th {\n",
       "        vertical-align: top;\n",
       "    }\n",
       "\n",
       "    .dataframe thead th {\n",
       "        text-align: right;\n",
       "    }\n",
       "</style>\n",
       "<table border=\"1\" class=\"dataframe\">\n",
       "  <thead>\n",
       "    <tr style=\"text-align: right;\">\n",
       "      <th></th>\n",
       "      <th>checkbox-themes</th>\n",
       "      <th>radio-consulter-offres-publiques</th>\n",
       "      <th>radio-rejoindre</th>\n",
       "      <th>checkbox-pourquoi</th>\n",
       "      <th>checkbox-souhaits</th>\n",
       "      <th>radio-type-contrat</th>\n",
       "      <th>radio-lieu</th>\n",
       "      <th>text-lieu</th>\n",
       "      <th>number-salaire-min</th>\n",
       "      <th>number-salaire-souhait</th>\n",
       "      <th>checkbox-acceptation</th>\n",
       "      <th>text-condition</th>\n",
       "      <th>radio-genre</th>\n",
       "      <th>radio-metiers</th>\n",
       "      <th>text-autre-metier</th>\n",
       "      <th>number-experience</th>\n",
       "      <th>date</th>\n",
       "    </tr>\n",
       "  </thead>\n",
       "  <tbody>\n",
       "    <tr>\n",
       "      <th>count</th>\n",
       "      <td>448</td>\n",
       "      <td>448</td>\n",
       "      <td>448</td>\n",
       "      <td>448</td>\n",
       "      <td>448</td>\n",
       "      <td>448</td>\n",
       "      <td>448</td>\n",
       "      <td>448</td>\n",
       "      <td>448</td>\n",
       "      <td>448</td>\n",
       "      <td>448</td>\n",
       "      <td>448</td>\n",
       "      <td>448</td>\n",
       "      <td>448</td>\n",
       "      <td>448</td>\n",
       "      <td>448</td>\n",
       "      <td>448</td>\n",
       "    </tr>\n",
       "    <tr>\n",
       "      <th>unique</th>\n",
       "      <td>1</td>\n",
       "      <td>1</td>\n",
       "      <td>1</td>\n",
       "      <td>1</td>\n",
       "      <td>1</td>\n",
       "      <td>1</td>\n",
       "      <td>1</td>\n",
       "      <td>2</td>\n",
       "      <td>1</td>\n",
       "      <td>1</td>\n",
       "      <td>1</td>\n",
       "      <td>2</td>\n",
       "      <td>1</td>\n",
       "      <td>1</td>\n",
       "      <td>2</td>\n",
       "      <td>1</td>\n",
       "      <td>1</td>\n",
       "    </tr>\n",
       "    <tr>\n",
       "      <th>top</th>\n",
       "      <td>False</td>\n",
       "      <td>False</td>\n",
       "      <td>False</td>\n",
       "      <td>False</td>\n",
       "      <td>False</td>\n",
       "      <td>False</td>\n",
       "      <td>False</td>\n",
       "      <td>False</td>\n",
       "      <td>False</td>\n",
       "      <td>False</td>\n",
       "      <td>False</td>\n",
       "      <td>True</td>\n",
       "      <td>False</td>\n",
       "      <td>False</td>\n",
       "      <td>True</td>\n",
       "      <td>False</td>\n",
       "      <td>False</td>\n",
       "    </tr>\n",
       "    <tr>\n",
       "      <th>freq</th>\n",
       "      <td>448</td>\n",
       "      <td>448</td>\n",
       "      <td>448</td>\n",
       "      <td>448</td>\n",
       "      <td>448</td>\n",
       "      <td>448</td>\n",
       "      <td>448</td>\n",
       "      <td>271</td>\n",
       "      <td>448</td>\n",
       "      <td>448</td>\n",
       "      <td>448</td>\n",
       "      <td>371</td>\n",
       "      <td>448</td>\n",
       "      <td>448</td>\n",
       "      <td>312</td>\n",
       "      <td>448</td>\n",
       "      <td>448</td>\n",
       "    </tr>\n",
       "  </tbody>\n",
       "</table>\n",
       "</div>"
      ],
      "text/plain": [
       "       checkbox-themes radio-consulter-offres-publiques radio-rejoindre  \\\n",
       "count              448                              448             448   \n",
       "unique               1                                1               1   \n",
       "top              False                            False           False   \n",
       "freq               448                              448             448   \n",
       "\n",
       "       checkbox-pourquoi checkbox-souhaits radio-type-contrat radio-lieu  \\\n",
       "count                448               448                448        448   \n",
       "unique                 1                 1                  1          1   \n",
       "top                False             False              False      False   \n",
       "freq                 448               448                448        448   \n",
       "\n",
       "       text-lieu number-salaire-min number-salaire-souhait  \\\n",
       "count        448                448                    448   \n",
       "unique         2                  1                      1   \n",
       "top        False              False                  False   \n",
       "freq         271                448                    448   \n",
       "\n",
       "       checkbox-acceptation text-condition radio-genre radio-metiers  \\\n",
       "count                   448            448         448           448   \n",
       "unique                    1              2           1             1   \n",
       "top                   False           True       False         False   \n",
       "freq                    448            371         448           448   \n",
       "\n",
       "       text-autre-metier number-experience   date  \n",
       "count                448               448    448  \n",
       "unique                 2                 1      1  \n",
       "top                 True             False  False  \n",
       "freq                 312               448    448  "
      ]
     },
     "execution_count": 41,
     "metadata": {},
     "output_type": "execute_result"
    }
   ],
   "source": [
    "public_digital_df.isnull().describe() #.isnull retourne true ou false s'il y a une valeur maquante ou pas"
   ]
  },
  {
   "cell_type": "markdown",
   "id": "3830c92f-44f1-4989-9c9c-82113af669d6",
   "metadata": {},
   "source": [
    "<span style=\"color: black; font-weight: bold; font-size: 50px;\">Typage de pandas non adapté aux analyses statistique</span>"
   ]
  },
  {
   "cell_type": "code",
   "execution_count": 42,
   "id": "61894e80-392a-43bc-a8b2-e57621e1a11f",
   "metadata": {},
   "outputs": [
    {
     "name": "stdout",
     "output_type": "stream",
     "text": [
      "<class 'pandas.core.frame.DataFrame'>\n",
      "RangeIndex: 448 entries, 0 to 447\n",
      "Data columns (total 17 columns):\n",
      " #   Column                            Non-Null Count  Dtype  \n",
      "---  ------                            --------------  -----  \n",
      " 0   checkbox-themes                   448 non-null    object \n",
      " 1   radio-consulter-offres-publiques  448 non-null    object \n",
      " 2   radio-rejoindre                   448 non-null    object \n",
      " 3   checkbox-pourquoi                 448 non-null    object \n",
      " 4   checkbox-souhaits                 448 non-null    object \n",
      " 5   radio-type-contrat                448 non-null    object \n",
      " 6   radio-lieu                        448 non-null    object \n",
      " 7   text-lieu                         271 non-null    object \n",
      " 8   number-salaire-min                448 non-null    int64  \n",
      " 9   number-salaire-souhait            448 non-null    int64  \n",
      " 10  checkbox-acceptation              448 non-null    object \n",
      " 11  text-condition                    77 non-null     object \n",
      " 12  radio-genre                       448 non-null    object \n",
      " 13  radio-metiers                     448 non-null    object \n",
      " 14  text-autre-metier                 136 non-null    object \n",
      " 15  number-experience                 448 non-null    float64\n",
      " 16  date                              448 non-null    object \n",
      "dtypes: float64(1), int64(2), object(14)\n",
      "memory usage: 59.6+ KB\n"
     ]
    }
   ],
   "source": [
    "public_digital_df.info()"
   ]
  },
  {
   "cell_type": "code",
   "execution_count": null,
   "id": "48914a03-2bb4-4f28-ac3c-5c9526cfa63d",
   "metadata": {},
   "outputs": [],
   "source": []
  },
  {
   "cell_type": "code",
   "execution_count": 43,
   "id": "4c50d6b4-cc3f-4523-9b9c-855dbe070cf3",
   "metadata": {},
   "outputs": [],
   "source": [
    "non_date_text_columns = [column for column in public_digital_df \n",
    "                         if (not column.startswith(\"text-\")) and (column != \"date\")]\n"
   ]
  },
  {
   "cell_type": "code",
   "execution_count": 44,
   "id": "b216d6ec-946c-4b92-8360-03baf2cd6746",
   "metadata": {},
   "outputs": [
    {
     "data": {
      "text/plain": [
       "['checkbox-themes',\n",
       " 'radio-consulter-offres-publiques',\n",
       " 'radio-rejoindre',\n",
       " 'checkbox-pourquoi',\n",
       " 'checkbox-souhaits',\n",
       " 'radio-type-contrat',\n",
       " 'radio-lieu',\n",
       " 'number-salaire-min',\n",
       " 'number-salaire-souhait',\n",
       " 'checkbox-acceptation',\n",
       " 'radio-genre',\n",
       " 'radio-metiers',\n",
       " 'number-experience']"
      ]
     },
     "execution_count": 44,
     "metadata": {},
     "output_type": "execute_result"
    }
   ],
   "source": [
    "non_date_text_columns"
   ]
  },
  {
   "cell_type": "code",
   "execution_count": 45,
   "id": "08db004d-c7d7-4a45-a51f-845c3625dbfb",
   "metadata": {},
   "outputs": [
    {
     "name": "stdout",
     "output_type": "stream",
     "text": [
      "checkbox-themes\n",
      "nombre de valeurs uniques 344\n",
      "****\n",
      "radio-consulter-offres-publiques\n",
      "nombre de valeurs uniques 2\n",
      "****\n",
      "radio-rejoindre\n",
      "nombre de valeurs uniques 3\n",
      "****\n",
      "checkbox-pourquoi\n",
      "nombre de valeurs uniques 76\n",
      "****\n",
      "checkbox-souhaits\n",
      "nombre de valeurs uniques 15\n",
      "****\n",
      "radio-type-contrat\n",
      "nombre de valeurs uniques 3\n",
      "****\n",
      "radio-lieu\n",
      "nombre de valeurs uniques 3\n",
      "****\n",
      "number-salaire-min\n",
      "nombre de valeurs uniques 52\n",
      "****\n",
      "number-salaire-souhait\n",
      "nombre de valeurs uniques 59\n",
      "****\n",
      "checkbox-acceptation\n",
      "nombre de valeurs uniques 361\n",
      "****\n",
      "radio-genre\n",
      "nombre de valeurs uniques 3\n",
      "****\n",
      "radio-metiers\n",
      "nombre de valeurs uniques 12\n",
      "****\n",
      "number-experience\n",
      "nombre de valeurs uniques 34\n",
      "****\n"
     ]
    }
   ],
   "source": [
    "len(non_date_text_columns)\n",
    "\n",
    "for column in non_date_text_columns:\n",
    "    print(column)\n",
    "    print(\"nombre de valeurs uniques\", public_digital_df[column].nunique())\n",
    "    print('****')\n"
   ]
  },
  {
   "cell_type": "code",
   "execution_count": 46,
   "id": "8f331791-638e-44ac-a992-778f7d2fd27d",
   "metadata": {},
   "outputs": [
    {
     "data": {
      "text/plain": [
       "['radio-type-contrat', 'radio-rejoindre']"
      ]
     },
     "execution_count": 46,
     "metadata": {},
     "output_type": "execute_result"
    }
   ],
   "source": [
    "variables_qualitatives_ordinales = [\"radio-type-contrat\", \"radio-rejoindre\"]\n",
    "variables_qualitatives_ordinales\n"
   ]
  },
  {
   "cell_type": "code",
   "execution_count": 47,
   "id": "7214f48b-61a2-4293-92fd-50963e18af33",
   "metadata": {},
   "outputs": [
    {
     "data": {
      "text/plain": [
       "['radio-genre',\n",
       " 'radio-metiers',\n",
       " 'radio-lieu',\n",
       " 'radio-consulter-offres-publiques',\n",
       " 'checkbox-themes',\n",
       " 'checkbox-souhaits',\n",
       " 'checkbox-acceptation',\n",
       " 'checkbox-pourquoi']"
      ]
     },
     "execution_count": 47,
     "metadata": {},
     "output_type": "execute_result"
    }
   ],
   "source": [
    "variables_qualitatives_nominales = [\"radio-genre\", \"radio-metiers\", \"radio-lieu\", \n",
    "                                    \"radio-consulter-offres-publiques\", \"checkbox-themes\", \n",
    "                                    \"checkbox-souhaits\", \"checkbox-acceptation\", \n",
    "                                    \"checkbox-pourquoi\"]  # Visiblement chaque modalité est une combinaison de modalités\n",
    "variables_qualitatives_nominales"
   ]
  },
  {
   "cell_type": "code",
   "execution_count": 48,
   "id": "5063b07a-4e59-4c5d-98e7-f909bd027c82",
   "metadata": {},
   "outputs": [
    {
     "data": {
      "text/plain": [
       "['number-experience']"
      ]
     },
     "execution_count": 48,
     "metadata": {},
     "output_type": "execute_result"
    }
   ],
   "source": [
    "variables_quantitatives_discretes = [\"number-experience\"]\n",
    "variables_quantitatives_discretes"
   ]
  },
  {
   "cell_type": "code",
   "execution_count": 49,
   "id": "3e7c5245-47f8-4aa7-af2c-47bba4aa0c08",
   "metadata": {},
   "outputs": [
    {
     "data": {
      "text/plain": [
       "['number-salaire-min', 'number-salaire-souhait']"
      ]
     },
     "execution_count": 49,
     "metadata": {},
     "output_type": "execute_result"
    }
   ],
   "source": [
    "variables_quantitatives_continues = [\"number-salaire-min\", \"number-salaire-souhait\"]\n",
    "variables_quantitatives_continues"
   ]
  },
  {
   "cell_type": "code",
   "execution_count": 50,
   "id": "176f35ae-534c-4d18-aad4-d3c555344679",
   "metadata": {},
   "outputs": [
    {
     "data": {
      "text/plain": [
       "0                 Oui\n",
       "1      Je ne sais pas\n",
       "2                 Oui\n",
       "3      Je ne sais pas\n",
       "4                 Oui\n",
       "            ...      \n",
       "443               Oui\n",
       "444               Oui\n",
       "445               Non\n",
       "446               Oui\n",
       "447    Je ne sais pas\n",
       "Name: radio-rejoindre, Length: 448, dtype: object"
      ]
     },
     "execution_count": 50,
     "metadata": {},
     "output_type": "execute_result"
    }
   ],
   "source": [
    "public_digital_df[\"radio-rejoindre\"]"
   ]
  },
  {
   "cell_type": "code",
   "execution_count": 51,
   "id": "5eb45f68-01c0-4e04-af86-306188b9abde",
   "metadata": {},
   "outputs": [],
   "source": [
    "public_digital_df[\"radio-rejoindre\"] = pd.Categorical(public_digital_df[\"radio-rejoindre\"], \n",
    "                                                      categories=[\"Oui\", \"Je ne sais pas\", \"Non\"], \n",
    "                                                      ordered=False)"
   ]
  },
  {
   "cell_type": "code",
   "execution_count": 52,
   "id": "296a778d-6481-4f6d-b2ed-21d59d761ca6",
   "metadata": {},
   "outputs": [
    {
     "data": {
      "text/plain": [
       "0                 Oui\n",
       "1      Je ne sais pas\n",
       "2                 Oui\n",
       "3      Je ne sais pas\n",
       "4                 Oui\n",
       "            ...      \n",
       "443               Oui\n",
       "444               Oui\n",
       "445               Non\n",
       "446               Oui\n",
       "447    Je ne sais pas\n",
       "Name: radio-rejoindre, Length: 448, dtype: category\n",
       "Categories (3, object): ['Oui', 'Je ne sais pas', 'Non']"
      ]
     },
     "execution_count": 52,
     "metadata": {},
     "output_type": "execute_result"
    }
   ],
   "source": [
    "public_digital_df[\"radio-rejoindre\"]"
   ]
  },
  {
   "cell_type": "code",
   "execution_count": 53,
   "id": "0d65e99d-b208-4528-86d7-930bcc31e972",
   "metadata": {},
   "outputs": [],
   "source": [
    "public_digital_df[\"radio-type-contrat\"] = pd.Categorical(public_digital_df[\"radio-type-contrat\"], \n",
    "                                                         categories=[\"CDI\", \"CDD (2-3 ans)\", \"Freelance, portage salarial\"], \n",
    "                                                         ordered=False)"
   ]
  },
  {
   "cell_type": "code",
   "execution_count": 54,
   "id": "5c9a0ff4-7281-4bdc-ab1f-352333c1da96",
   "metadata": {},
   "outputs": [
    {
     "data": {
      "text/plain": [
       "0                    CDD (2-3 ans)\n",
       "1                              CDI\n",
       "2                    CDD (2-3 ans)\n",
       "3                              CDI\n",
       "4                              CDI\n",
       "                  ...             \n",
       "443    Freelance, portage salarial\n",
       "444                  CDD (2-3 ans)\n",
       "445                            CDI\n",
       "446                            CDI\n",
       "447                  CDD (2-3 ans)\n",
       "Name: radio-type-contrat, Length: 448, dtype: category\n",
       "Categories (3, object): ['CDI', 'CDD (2-3 ans)', 'Freelance, portage salarial']"
      ]
     },
     "execution_count": 54,
     "metadata": {},
     "output_type": "execute_result"
    }
   ],
   "source": [
    "public_digital_df[\"radio-type-contrat\"]"
   ]
  },
  {
   "cell_type": "markdown",
   "id": "12bf11ad-3889-443e-8915-ef211cfde2db",
   "metadata": {},
   "source": [
    "<span style=\"color: black; font-weight: bold; font-size: 50px;\">Frequences</span>"
   ]
  },
  {
   "cell_type": "markdown",
   "id": "4862ea7f-a57d-44db-a1f0-9e6460b12846",
   "metadata": {},
   "source": [
    "<span style=\"color: black; font-weight: bold; font-size: 50px;\">Volonté de rejoindre (variable qualitative ordinale)</span>"
   ]
  },
  {
   "cell_type": "code",
   "execution_count": 55,
   "id": "4d638fea-2572-47c8-a7dc-bb4ca9f877e6",
   "metadata": {},
   "outputs": [
    {
     "data": {
      "text/plain": [
       "radio-rejoindre\n",
       "Je ne sais pas    0.47\n",
       "Oui               0.42\n",
       "Non               0.11\n",
       "Name: proportion, dtype: float64"
      ]
     },
     "execution_count": 55,
     "metadata": {},
     "output_type": "execute_result"
    }
   ],
   "source": [
    "public_digital_df[\"radio-rejoindre\"].value_counts(normalize=True).round(2)"
   ]
  },
  {
   "cell_type": "code",
   "execution_count": 56,
   "id": "32434034-108b-4d89-be6e-66b5b198d0f9",
   "metadata": {},
   "outputs": [
    {
     "data": {
      "text/html": [
       "<div>\n",
       "<style scoped>\n",
       "    .dataframe tbody tr th:only-of-type {\n",
       "        vertical-align: middle;\n",
       "    }\n",
       "\n",
       "    .dataframe tbody tr th {\n",
       "        vertical-align: top;\n",
       "    }\n",
       "\n",
       "    .dataframe thead th {\n",
       "        text-align: right;\n",
       "    }\n",
       "</style>\n",
       "<table border=\"1\" class=\"dataframe\">\n",
       "  <thead>\n",
       "    <tr style=\"text-align: right;\">\n",
       "      <th></th>\n",
       "      <th>proportion</th>\n",
       "    </tr>\n",
       "    <tr>\n",
       "      <th>radio-rejoindre</th>\n",
       "      <th></th>\n",
       "    </tr>\n",
       "  </thead>\n",
       "  <tbody>\n",
       "    <tr>\n",
       "      <th>Je ne sais pas</th>\n",
       "      <td>0.47</td>\n",
       "    </tr>\n",
       "    <tr>\n",
       "      <th>Oui</th>\n",
       "      <td>0.42</td>\n",
       "    </tr>\n",
       "    <tr>\n",
       "      <th>Non</th>\n",
       "      <td>0.11</td>\n",
       "    </tr>\n",
       "  </tbody>\n",
       "</table>\n",
       "</div>"
      ],
      "text/plain": [
       "                 proportion\n",
       "radio-rejoindre            \n",
       "Je ne sais pas         0.47\n",
       "Oui                    0.42\n",
       "Non                    0.11"
      ]
     },
     "execution_count": 56,
     "metadata": {},
     "output_type": "execute_result"
    }
   ],
   "source": [
    "public_digital_df[\"radio-rejoindre\"].value_counts(normalize=True).round(2).to_frame()"
   ]
  },
  {
   "cell_type": "code",
   "execution_count": 57,
   "id": "9489c65c-81ea-466f-b6d7-38d43248b815",
   "metadata": {},
   "outputs": [
    {
     "data": {
      "text/plain": [
       "<Axes: ylabel='proportion'>"
      ]
     },
     "execution_count": 57,
     "metadata": {},
     "output_type": "execute_result"
    },
    {
     "data": {
      "image/png": "[encoded data removed]",
      "text/plain": [
       "<Figure size 640x480 with 1 Axes>"
      ]
     },
     "metadata": {},
     "output_type": "display_data"
    }
   ],
   "source": [
    "public_digital_df[\"radio-rejoindre\"].value_counts(normalize=True).round(2).plot(kind=\"pie\")"
   ]
  },
  {
   "cell_type": "code",
   "execution_count": 58,
   "id": "56de9806-7a9c-431e-83f0-b6c2e4a59248",
   "metadata": {},
   "outputs": [
    {
     "data": {
      "text/plain": [
       "<Axes: xlabel='radio-rejoindre'>"
      ]
     },
     "execution_count": 58,
     "metadata": {},
     "output_type": "execute_result"
    },
    {
     "data": {
      "image/png": "[encoded data removed]",
      "text/plain": [
       "<Figure size 640x480 with 1 Axes>"
      ]
     },
     "metadata": {},
     "output_type": "display_data"
    }
   ],
   "source": [
    "public_digital_df[\"radio-rejoindre\"].value_counts(normalize=True).round(2).plot(kind=\"bar\")\n"
   ]
  },
  {
   "cell_type": "code",
   "execution_count": 59,
   "id": "51ba4017-17d0-4ff6-8c07-bcec54038d82",
   "metadata": {},
   "outputs": [
    {
     "data": {
      "text/plain": [
       "<Axes: xlabel='radio-rejoindre'>"
      ]
     },
     "execution_count": 59,
     "metadata": {},
     "output_type": "execute_result"
    },
    {
     "data": {
      "image/png": "[encoded data removed]",
      "text/plain": [
       "<Figure size 640x480 with 1 Axes>"
      ]
     },
     "metadata": {},
     "output_type": "display_data"
    }
   ],
   "source": [
    "public_digital_df[\"radio-rejoindre\"].value_counts(normalize=True).round(2).sort_index().plot(kind=\"bar\")\n"
   ]
  },
  {
   "cell_type": "markdown",
   "id": "4df23f7e-8519-42c1-95a8-fc8b5fea2135",
   "metadata": {},
   "source": [
    "<span style=\"color: black; font-weight: bold; font-size: 50px;\">variable qualitative nominale</span>"
   ]
  },
  {
   "cell_type": "code",
   "execution_count": 60,
   "id": "21f58e24-75bc-44e6-a667-fc2f63248313",
   "metadata": {},
   "outputs": [
    {
     "data": {
      "text/html": [
       "<div>\n",
       "<style scoped>\n",
       "    .dataframe tbody tr th:only-of-type {\n",
       "        vertical-align: middle;\n",
       "    }\n",
       "\n",
       "    .dataframe tbody tr th {\n",
       "        vertical-align: top;\n",
       "    }\n",
       "\n",
       "    .dataframe thead th {\n",
       "        text-align: right;\n",
       "    }\n",
       "</style>\n",
       "<table border=\"1\" class=\"dataframe\">\n",
       "  <thead>\n",
       "    <tr style=\"text-align: right;\">\n",
       "      <th></th>\n",
       "      <th>proportion</th>\n",
       "    </tr>\n",
       "    <tr>\n",
       "      <th>radio-metiers</th>\n",
       "      <th></th>\n",
       "    </tr>\n",
       "  </thead>\n",
       "  <tbody>\n",
       "    <tr>\n",
       "      <th>Autre</th>\n",
       "      <td>0.24</td>\n",
       "    </tr>\n",
       "    <tr>\n",
       "      <th>Développement fullstack</th>\n",
       "      <td>0.20</td>\n",
       "    </tr>\n",
       "    <tr>\n",
       "      <th>Data scientist</th>\n",
       "      <td>0.13</td>\n",
       "    </tr>\n",
       "    <tr>\n",
       "      <th>Product management</th>\n",
       "      <td>0.10</td>\n",
       "    </tr>\n",
       "    <tr>\n",
       "      <th>Administration système</th>\n",
       "      <td>0.09</td>\n",
       "    </tr>\n",
       "    <tr>\n",
       "      <th>Développement backend</th>\n",
       "      <td>0.08</td>\n",
       "    </tr>\n",
       "    <tr>\n",
       "      <th>Design de services</th>\n",
       "      <td>0.04</td>\n",
       "    </tr>\n",
       "    <tr>\n",
       "      <th>Communication</th>\n",
       "      <td>0.04</td>\n",
       "    </tr>\n",
       "    <tr>\n",
       "      <th>Marketing</th>\n",
       "      <td>0.03</td>\n",
       "    </tr>\n",
       "    <tr>\n",
       "      <th>Développement frontend</th>\n",
       "      <td>0.02</td>\n",
       "    </tr>\n",
       "    <tr>\n",
       "      <th>Design UI/UX</th>\n",
       "      <td>0.02</td>\n",
       "    </tr>\n",
       "    <tr>\n",
       "      <th>Développement mobile</th>\n",
       "      <td>0.01</td>\n",
       "    </tr>\n",
       "  </tbody>\n",
       "</table>\n",
       "</div>"
      ],
      "text/plain": [
       "                         proportion\n",
       "radio-metiers                      \n",
       "Autre                          0.24\n",
       "Développement fullstack        0.20\n",
       "Data scientist                 0.13\n",
       "Product management             0.10\n",
       "Administration système         0.09\n",
       "Développement backend          0.08\n",
       "Design de services             0.04\n",
       "Communication                  0.04\n",
       "Marketing                      0.03\n",
       "Développement frontend         0.02\n",
       "Design UI/UX                   0.02\n",
       "Développement mobile           0.01"
      ]
     },
     "execution_count": 60,
     "metadata": {},
     "output_type": "execute_result"
    }
   ],
   "source": [
    "public_digital_df[\"radio-metiers\"].value_counts(normalize=True).round(2).to_frame()\n"
   ]
  },
  {
   "cell_type": "code",
   "execution_count": 61,
   "id": "1f383eca-dedf-4fe4-9e1a-f16d3085a2a4",
   "metadata": {},
   "outputs": [
    {
     "data": {
      "text/plain": [
       "<Axes: ylabel='proportion'>"
      ]
     },
     "execution_count": 61,
     "metadata": {},
     "output_type": "execute_result"
    },
    {
     "data": {
      "image/png": "[encoded data removed]",
      "text/plain": [
       "<Figure size 640x480 with 1 Axes>"
      ]
     },
     "metadata": {},
     "output_type": "display_data"
    }
   ],
   "source": [
    "public_digital_df[\"radio-metiers\"].value_counts(normalize=True).round(2).plot(kind=\"pie\")"
   ]
  },
  {
   "cell_type": "code",
   "execution_count": 62,
   "id": "494705b1-fb0b-48a9-94af-8ebcfac438b6",
   "metadata": {},
   "outputs": [
    {
     "data": {
      "text/plain": [
       "<Axes: xlabel='radio-metiers'>"
      ]
     },
     "execution_count": 62,
     "metadata": {},
     "output_type": "execute_result"
    },
    {
     "data": {
      "image/png": "[encoded data removed]",
      "text/plain": [
       "<Figure size 640x480 with 1 Axes>"
      ]
     },
     "metadata": {},
     "output_type": "display_data"
    }
   ],
   "source": [
    "public_digital_df[\"radio-metiers\"].value_counts(normalize=True).round(2).plot(kind=\"bar\")\n"
   ]
  },
  {
   "cell_type": "code",
   "execution_count": 63,
   "id": "7a3b8ccb-b5ea-4a45-87d4-22a950d07688",
   "metadata": {},
   "outputs": [
    {
     "data": {
      "text/plain": [
       "<Axes: xlabel='radio-metiers'>"
      ]
     },
     "execution_count": 63,
     "metadata": {},
     "output_type": "execute_result"
    },
    {
     "data": {
      "image/png": "[encoded data removed]",
      "text/plain": [
       "<Figure size 640x480 with 1 Axes>"
      ]
     },
     "metadata": {},
     "output_type": "display_data"
    }
   ],
   "source": [
    "public_digital_df[\"radio-metiers\"].value_counts(normalize=True).round(2).sort_index().plot(kind=\"bar\")\n"
   ]
  },
  {
   "cell_type": "markdown",
   "id": "1ec433c9-97c5-4f41-8109-13ea2a80b4ed",
   "metadata": {},
   "source": [
    "<span style=\"color: black; font-weight: bold; font-size: 50px;\"> Experience variable quantitative discret</span>"
   ]
  },
  {
   "cell_type": "code",
   "execution_count": 64,
   "id": "9d9612de-3961-4dee-a19e-93a04bc8a83d",
   "metadata": {},
   "outputs": [
    {
     "data": {
      "text/html": [
       "<div>\n",
       "<style scoped>\n",
       "    .dataframe tbody tr th:only-of-type {\n",
       "        vertical-align: middle;\n",
       "    }\n",
       "\n",
       "    .dataframe tbody tr th {\n",
       "        vertical-align: top;\n",
       "    }\n",
       "\n",
       "    .dataframe thead th {\n",
       "        text-align: right;\n",
       "    }\n",
       "</style>\n",
       "<table border=\"1\" class=\"dataframe\">\n",
       "  <thead>\n",
       "    <tr style=\"text-align: right;\">\n",
       "      <th></th>\n",
       "      <th>proportion</th>\n",
       "    </tr>\n",
       "    <tr>\n",
       "      <th>number-experience</th>\n",
       "      <th></th>\n",
       "    </tr>\n",
       "  </thead>\n",
       "  <tbody>\n",
       "    <tr>\n",
       "      <th>10.0</th>\n",
       "      <td>0.12</td>\n",
       "    </tr>\n",
       "    <tr>\n",
       "      <th>20.0</th>\n",
       "      <td>0.12</td>\n",
       "    </tr>\n",
       "    <tr>\n",
       "      <th>3.0</th>\n",
       "      <td>0.10</td>\n",
       "    </tr>\n",
       "    <tr>\n",
       "      <th>5.0</th>\n",
       "      <td>0.07</td>\n",
       "    </tr>\n",
       "    <tr>\n",
       "      <th>8.0</th>\n",
       "      <td>0.07</td>\n",
       "    </tr>\n",
       "    <tr>\n",
       "      <th>1.0</th>\n",
       "      <td>0.06</td>\n",
       "    </tr>\n",
       "    <tr>\n",
       "      <th>11.0</th>\n",
       "      <td>0.05</td>\n",
       "    </tr>\n",
       "    <tr>\n",
       "      <th>12.0</th>\n",
       "      <td>0.05</td>\n",
       "    </tr>\n",
       "    <tr>\n",
       "      <th>15.0</th>\n",
       "      <td>0.05</td>\n",
       "    </tr>\n",
       "    <tr>\n",
       "      <th>2.0</th>\n",
       "      <td>0.04</td>\n",
       "    </tr>\n",
       "  </tbody>\n",
       "</table>\n",
       "</div>"
      ],
      "text/plain": [
       "                   proportion\n",
       "number-experience            \n",
       "10.0                     0.12\n",
       "20.0                     0.12\n",
       "3.0                      0.10\n",
       "5.0                      0.07\n",
       "8.0                      0.07\n",
       "1.0                      0.06\n",
       "11.0                     0.05\n",
       "12.0                     0.05\n",
       "15.0                     0.05\n",
       "2.0                      0.04"
      ]
     },
     "execution_count": 64,
     "metadata": {},
     "output_type": "execute_result"
    }
   ],
   "source": [
    "public_digital_df[\"number-experience\"].value_counts(normalize=True).round(2).to_frame().head(10)\n"
   ]
  },
  {
   "cell_type": "code",
   "execution_count": 65,
   "id": "8eed4fa7-8b48-4d35-98c5-2a6984498b04",
   "metadata": {},
   "outputs": [
    {
     "data": {
      "text/plain": [
       "<Axes: ylabel='proportion'>"
      ]
     },
     "execution_count": 65,
     "metadata": {},
     "output_type": "execute_result"
    },
    {
     "data": {
      "image/png": "[encoded data removed]",
      "text/plain": [
       "<Figure size 640x480 with 1 Axes>"
      ]
     },
     "metadata": {},
     "output_type": "display_data"
    }
   ],
   "source": [
    "public_digital_df[\"number-experience\"].value_counts(normalize=True).round(2).sort_index().plot(kind=\"pie\")"
   ]
  },
  {
   "cell_type": "markdown",
   "id": "4684c84c-64c2-4298-9205-8b9557a955f9",
   "metadata": {},
   "source": [
    "<span style=\"color: black; font-weight: bold; font-size: 50px;\"> La discretisation</span>"
   ]
  },
  {
   "cell_type": "code",
   "execution_count": 66,
   "id": "e364bcf9-bfac-40c4-bc07-8880a364a849",
   "metadata": {},
   "outputs": [
    {
     "data": {
      "text/html": [
       "<div>\n",
       "<style scoped>\n",
       "    .dataframe tbody tr th:only-of-type {\n",
       "        vertical-align: middle;\n",
       "    }\n",
       "\n",
       "    .dataframe tbody tr th {\n",
       "        vertical-align: top;\n",
       "    }\n",
       "\n",
       "    .dataframe thead th {\n",
       "        text-align: right;\n",
       "    }\n",
       "</style>\n",
       "<table border=\"1\" class=\"dataframe\">\n",
       "  <thead>\n",
       "    <tr style=\"text-align: right;\">\n",
       "      <th></th>\n",
       "      <th>proportion</th>\n",
       "    </tr>\n",
       "    <tr>\n",
       "      <th>number-experience</th>\n",
       "      <th></th>\n",
       "    </tr>\n",
       "  </thead>\n",
       "  <tbody>\n",
       "    <tr>\n",
       "      <th>(0.0, 2.0]</th>\n",
       "      <td>0.10</td>\n",
       "    </tr>\n",
       "    <tr>\n",
       "      <th>(2.0, 5.0]</th>\n",
       "      <td>0.21</td>\n",
       "    </tr>\n",
       "    <tr>\n",
       "      <th>(5.0, 10.0]</th>\n",
       "      <td>0.26</td>\n",
       "    </tr>\n",
       "    <tr>\n",
       "      <th>(10.0, 15.0]</th>\n",
       "      <td>0.19</td>\n",
       "    </tr>\n",
       "    <tr>\n",
       "      <th>(15.0, 20.0]</th>\n",
       "      <td>0.17</td>\n",
       "    </tr>\n",
       "    <tr>\n",
       "      <th>(20.0, inf]</th>\n",
       "      <td>0.08</td>\n",
       "    </tr>\n",
       "  </tbody>\n",
       "</table>\n",
       "</div>"
      ],
      "text/plain": [
       "                   proportion\n",
       "number-experience            \n",
       "(0.0, 2.0]               0.10\n",
       "(2.0, 5.0]               0.21\n",
       "(5.0, 10.0]              0.26\n",
       "(10.0, 15.0]             0.19\n",
       "(15.0, 20.0]             0.17\n",
       "(20.0, inf]              0.08"
      ]
     },
     "execution_count": 66,
     "metadata": {},
     "output_type": "execute_result"
    }
   ],
   "source": [
    "pd.cut(public_digital_df[\"number-experience\"], [0,2,5,10,15,20,np.inf]).value_counts(normalize=True).round(2).sort_index().to_frame()\n",
    "#entre 0 et 2 ans entre 2 et 5 disons c'est les confirment entre 5 et 10 ans les senior et entre 10 et 15 ans les managers etc\n",
    "# du coup apres dans le tableau voir 10 des gens qui ont entre 0 et 2 année d'expérience etc"
   ]
  },
  {
   "cell_type": "markdown",
   "id": "a55ef369-6bf2-4d36-9083-3a95e5b34156",
   "metadata": {
    "scrolled": true
   },
   "source": [
    "<span style=\"color: black; font-weight: bold; font-size: 50px;\"> Valeur quantitative continue</span>"
   ]
  },
  {
   "cell_type": "code",
   "execution_count": 67,
   "id": "66ee5e6d-142e-4c66-9d4b-f916d505dace",
   "metadata": {},
   "outputs": [
    {
     "data": {
      "text/html": [
       "<div>\n",
       "<style scoped>\n",
       "    .dataframe tbody tr th:only-of-type {\n",
       "        vertical-align: middle;\n",
       "    }\n",
       "\n",
       "    .dataframe tbody tr th {\n",
       "        vertical-align: top;\n",
       "    }\n",
       "\n",
       "    .dataframe thead th {\n",
       "        text-align: right;\n",
       "    }\n",
       "</style>\n",
       "<table border=\"1\" class=\"dataframe\">\n",
       "  <thead>\n",
       "    <tr style=\"text-align: right;\">\n",
       "      <th></th>\n",
       "      <th>proportion</th>\n",
       "    </tr>\n",
       "    <tr>\n",
       "      <th>number-salaire-min</th>\n",
       "      <th></th>\n",
       "    </tr>\n",
       "  </thead>\n",
       "  <tbody>\n",
       "    <tr>\n",
       "      <th>(0.0, 2000.0]</th>\n",
       "      <td>0.18</td>\n",
       "    </tr>\n",
       "    <tr>\n",
       "      <th>(2000.0, 3000.0]</th>\n",
       "      <td>0.50</td>\n",
       "    </tr>\n",
       "    <tr>\n",
       "      <th>(3000.0, 4000.0]</th>\n",
       "      <td>0.22</td>\n",
       "    </tr>\n",
       "    <tr>\n",
       "      <th>(4000.0, 5000.0]</th>\n",
       "      <td>0.07</td>\n",
       "    </tr>\n",
       "    <tr>\n",
       "      <th>(5000.0, inf]</th>\n",
       "      <td>0.04</td>\n",
       "    </tr>\n",
       "  </tbody>\n",
       "</table>\n",
       "</div>"
      ],
      "text/plain": [
       "                    proportion\n",
       "number-salaire-min            \n",
       "(0.0, 2000.0]             0.18\n",
       "(2000.0, 3000.0]          0.50\n",
       "(3000.0, 4000.0]          0.22\n",
       "(4000.0, 5000.0]          0.07\n",
       "(5000.0, inf]             0.04"
      ]
     },
     "execution_count": 67,
     "metadata": {},
     "output_type": "execute_result"
    }
   ],
   "source": [
    "pd.cut(public_digital_df[\"number-salaire-min\"], [0,2000,3000,4000,5000,np.inf]).value_counts(normalize=True).round(2).sort_index().to_frame()\n",
    "#cut pour couper en intervalle"
   ]
  },
  {
   "cell_type": "code",
   "execution_count": 68,
   "id": "de39e7f6-12f8-41a3-973a-8ef5be0d404f",
   "metadata": {},
   "outputs": [
    {
     "data": {
      "text/plain": [
       "<Axes: ylabel='proportion'>"
      ]
     },
     "execution_count": 68,
     "metadata": {},
     "output_type": "execute_result"
    },
    {
     "data": {
      "image/png": "[encoded data removed]",
      "text/plain": [
       "<Figure size 640x480 with 1 Axes>"
      ]
     },
     "metadata": {},
     "output_type": "display_data"
    }
   ],
   "source": [
    "pd.cut(public_digital_df[\"number-salaire-min\"], [0,2000,3000,4000,5000,np.inf]).value_counts(normalize=True).round(2).plot(kind=\"pie\")"
   ]
  },
  {
   "cell_type": "code",
   "execution_count": 69,
   "id": "e94b708e-8c81-49f9-89bf-364fe2ec8c9b",
   "metadata": {},
   "outputs": [
    {
     "data": {
      "text/html": [
       "<div>\n",
       "<style scoped>\n",
       "    .dataframe tbody tr th:only-of-type {\n",
       "        vertical-align: middle;\n",
       "    }\n",
       "\n",
       "    .dataframe tbody tr th {\n",
       "        vertical-align: top;\n",
       "    }\n",
       "\n",
       "    .dataframe thead th {\n",
       "        text-align: right;\n",
       "    }\n",
       "</style>\n",
       "<table border=\"1\" class=\"dataframe\">\n",
       "  <thead>\n",
       "    <tr style=\"text-align: right;\">\n",
       "      <th>radio-metiers</th>\n",
       "      <th>Administration système</th>\n",
       "      <th>Autre</th>\n",
       "      <th>Communication</th>\n",
       "      <th>Data scientist</th>\n",
       "      <th>Design UI/UX</th>\n",
       "      <th>Design de services</th>\n",
       "      <th>Développement backend</th>\n",
       "      <th>Développement frontend</th>\n",
       "      <th>Développement fullstack</th>\n",
       "      <th>Développement mobile</th>\n",
       "      <th>Marketing</th>\n",
       "      <th>Product management</th>\n",
       "      <th>All</th>\n",
       "    </tr>\n",
       "    <tr>\n",
       "      <th>radio-rejoindre</th>\n",
       "      <th></th>\n",
       "      <th></th>\n",
       "      <th></th>\n",
       "      <th></th>\n",
       "      <th></th>\n",
       "      <th></th>\n",
       "      <th></th>\n",
       "      <th></th>\n",
       "      <th></th>\n",
       "      <th></th>\n",
       "      <th></th>\n",
       "      <th></th>\n",
       "      <th></th>\n",
       "    </tr>\n",
       "  </thead>\n",
       "  <tbody>\n",
       "    <tr>\n",
       "      <th>Oui</th>\n",
       "      <td>0.04</td>\n",
       "      <td>0.11</td>\n",
       "      <td>0.02</td>\n",
       "      <td>0.07</td>\n",
       "      <td>0.00</td>\n",
       "      <td>0.03</td>\n",
       "      <td>0.02</td>\n",
       "      <td>0.00</td>\n",
       "      <td>0.07</td>\n",
       "      <td>0.00</td>\n",
       "      <td>0.01</td>\n",
       "      <td>0.04</td>\n",
       "      <td>0.42</td>\n",
       "    </tr>\n",
       "    <tr>\n",
       "      <th>Je ne sais pas</th>\n",
       "      <td>0.04</td>\n",
       "      <td>0.11</td>\n",
       "      <td>0.01</td>\n",
       "      <td>0.06</td>\n",
       "      <td>0.01</td>\n",
       "      <td>0.02</td>\n",
       "      <td>0.04</td>\n",
       "      <td>0.02</td>\n",
       "      <td>0.09</td>\n",
       "      <td>0.01</td>\n",
       "      <td>0.02</td>\n",
       "      <td>0.05</td>\n",
       "      <td>0.47</td>\n",
       "    </tr>\n",
       "    <tr>\n",
       "      <th>Non</th>\n",
       "      <td>0.01</td>\n",
       "      <td>0.02</td>\n",
       "      <td>0.01</td>\n",
       "      <td>0.01</td>\n",
       "      <td>0.00</td>\n",
       "      <td>0.00</td>\n",
       "      <td>0.01</td>\n",
       "      <td>0.00</td>\n",
       "      <td>0.04</td>\n",
       "      <td>0.00</td>\n",
       "      <td>0.00</td>\n",
       "      <td>0.01</td>\n",
       "      <td>0.11</td>\n",
       "    </tr>\n",
       "    <tr>\n",
       "      <th>All</th>\n",
       "      <td>0.09</td>\n",
       "      <td>0.24</td>\n",
       "      <td>0.04</td>\n",
       "      <td>0.13</td>\n",
       "      <td>0.02</td>\n",
       "      <td>0.04</td>\n",
       "      <td>0.08</td>\n",
       "      <td>0.02</td>\n",
       "      <td>0.20</td>\n",
       "      <td>0.01</td>\n",
       "      <td>0.03</td>\n",
       "      <td>0.10</td>\n",
       "      <td>1.00</td>\n",
       "    </tr>\n",
       "  </tbody>\n",
       "</table>\n",
       "</div>"
      ],
      "text/plain": [
       "radio-metiers    Administration système  Autre  Communication  Data scientist  \\\n",
       "radio-rejoindre                                                                 \n",
       "Oui                                0.04   0.11           0.02            0.07   \n",
       "Je ne sais pas                     0.04   0.11           0.01            0.06   \n",
       "Non                                0.01   0.02           0.01            0.01   \n",
       "All                                0.09   0.24           0.04            0.13   \n",
       "\n",
       "radio-metiers    Design UI/UX  Design de services  Développement backend  \\\n",
       "radio-rejoindre                                                            \n",
       "Oui                      0.00                0.03                   0.02   \n",
       "Je ne sais pas           0.01                0.02                   0.04   \n",
       "Non                      0.00                0.00                   0.01   \n",
       "All                      0.02                0.04                   0.08   \n",
       "\n",
       "radio-metiers    Développement frontend  Développement fullstack  \\\n",
       "radio-rejoindre                                                    \n",
       "Oui                                0.00                     0.07   \n",
       "Je ne sais pas                     0.02                     0.09   \n",
       "Non                                0.00                     0.04   \n",
       "All                                0.02                     0.20   \n",
       "\n",
       "radio-metiers    Développement mobile  Marketing  Product management   All  \n",
       "radio-rejoindre                                                             \n",
       "Oui                              0.00       0.01                0.04  0.42  \n",
       "Je ne sais pas                   0.01       0.02                0.05  0.47  \n",
       "Non                              0.00       0.00                0.01  0.11  \n",
       "All                              0.01       0.03                0.10  1.00  "
      ]
     },
     "execution_count": 69,
     "metadata": {},
     "output_type": "execute_result"
    }
   ],
   "source": [
    "pd.crosstab(public_digital_df[\"radio-rejoindre\"],\n",
    "            public_digital_df[\"radio-metiers\"],\n",
    "            normalize=True,\n",
    "            margins=True).round(2)\n",
    "#on peut voir 4% de l'echantillon a repondu OUI au niveau de l'administration\n",
    "            "
   ]
  },
  {
   "cell_type": "markdown",
   "id": "a161747f-8155-4270-bc4b-c88822a68ac6",
   "metadata": {},
   "source": [
    "<span style=\"color: black; font-weight: bold; font-size: 50px;\"> Salaire minimum souhaité</span>"
   ]
  },
  {
   "cell_type": "code",
   "execution_count": 70,
   "id": "8d0ace98-0575-4567-a2bd-983c700542de",
   "metadata": {},
   "outputs": [
    {
     "data": {
      "text/plain": [
       "10.879464285714286"
      ]
     },
     "execution_count": 70,
     "metadata": {},
     "output_type": "execute_result"
    }
   ],
   "source": [
    "public_digital_df[\"number-experience\"].mean()"
   ]
  },
  {
   "cell_type": "markdown",
   "id": "d88c241b-08b9-48bd-adf4-09f1a0bf4f3e",
   "metadata": {},
   "source": [
    "<span style=\"color: blue; font-weight: bold; font-size: 50px;\"> Salaire Moyenne souhaité</span>"
   ]
  },
  {
   "cell_type": "code",
   "execution_count": 71,
   "id": "84e61b3b-c27a-4baa-84ae-404508d2a72f",
   "metadata": {},
   "outputs": [
    {
     "data": {
      "text/plain": [
       "<matplotlib.lines.Line2D at 0x24d06ccba10>"
      ]
     },
     "execution_count": 71,
     "metadata": {},
     "output_type": "execute_result"
    },
    {
     "data": {
      "image/png": "[encoded data removed]",
      "text/plain": [
       "<Figure size 640x480 with 1 Axes>"
      ]
     },
     "metadata": {},
     "output_type": "display_data"
    }
   ],
   "source": [
    "# Création de l'histogramme\n",
    "bar_plot = public_digital_df[\"number-experience\"].plot(kind='hist')\n",
    "\n",
    "# Ajout de la ligne représentant la moyenne\n",
    "mean_value = public_digital_df[\"number-experience\"].mean()\n",
    "bar_plot.axvline(mean_value, color='red', linewidth=2)"
   ]
  },
  {
   "cell_type": "code",
   "execution_count": 72,
   "id": "e8554f5f-9070-4286-ad7d-7c06cb4ea97a",
   "metadata": {},
   "outputs": [
    {
     "data": {
      "text/plain": [
       "<matplotlib.lines.Line2D at 0x24d09548c90>"
      ]
     },
     "execution_count": 72,
     "metadata": {},
     "output_type": "execute_result"
    },
    {
     "data": {
      "image/png": "[encoded data removed]",
      "text/plain": [
       "<Figure size 640x480 with 1 Axes>"
      ]
     },
     "metadata": {},
     "output_type": "display_data"
    }
   ],
   "source": [
    "# Création de l'histogramme\n",
    "bar_plot = public_digital_df[\"number-salaire-min\"].plot(kind='hist')\n",
    "\n",
    "# Ajout de la ligne représentant la moyenne\n",
    "mean_value = public_digital_df[\"number-salaire-min\"].mean()\n",
    "bar_plot.axvline(mean_value, color='red', linewidth=2)"
   ]
  },
  {
   "cell_type": "code",
   "execution_count": 73,
   "id": "64667eec-0216-4f91-8209-b06ac258c32a",
   "metadata": {},
   "outputs": [
    {
     "data": {
      "text/plain": [
       "2993.3816964285716"
      ]
     },
     "execution_count": 73,
     "metadata": {},
     "output_type": "execute_result"
    }
   ],
   "source": [
    "public_digital_df[\"number-salaire-min\"].mean()"
   ]
  },
  {
   "cell_type": "markdown",
   "id": "79c8acf6-92af-41a3-b61b-2e04961137ec",
   "metadata": {
    "scrolled": true
   },
   "source": [
    "<span style=\"color: black; font-weight: bold; font-size: 50px;\"> Salaire moyen souhaité</span>"
   ]
  },
  {
   "cell_type": "code",
   "execution_count": 74,
   "id": "1ec46362-f623-41e1-bdb8-58a9c858ae83",
   "metadata": {},
   "outputs": [
    {
     "data": {
      "text/plain": [
       "0      True\n",
       "1      True\n",
       "2      True\n",
       "3      True\n",
       "4      True\n",
       "       ... \n",
       "443    True\n",
       "444    True\n",
       "445    True\n",
       "446    True\n",
       "447    True\n",
       "Name: number-salaire-souhait, Length: 448, dtype: bool"
      ]
     },
     "execution_count": 74,
     "metadata": {},
     "output_type": "execute_result"
    }
   ],
   "source": [
    "salaire_souhait_outliers_mask = public_digital_df[\"number-salaire-souhait\"].between(0, 6000)\n",
    "salaire_souhait_outliers_mask\n"
   ]
  },
  {
   "cell_type": "code",
   "execution_count": 75,
   "id": "b698da29-26d5-4bbd-b3a0-6fb07f180e76",
   "metadata": {},
   "outputs": [
    {
     "data": {
      "text/plain": [
       "number-salaire-souhait\n",
       "True     431\n",
       "False     17\n",
       "Name: count, dtype: int64"
      ]
     },
     "execution_count": 75,
     "metadata": {},
     "output_type": "execute_result"
    }
   ],
   "source": [
    "salaire_souhait_outliers_mask.value_counts()\n",
    "\n"
   ]
  },
  {
   "cell_type": "code",
   "execution_count": 76,
   "id": "9c1b9b14-bab3-40d1-83ca-3bf5c08ce944",
   "metadata": {},
   "outputs": [
    {
     "data": {
      "text/plain": [
       "3474.8051044083527"
      ]
     },
     "execution_count": 76,
     "metadata": {},
     "output_type": "execute_result"
    }
   ],
   "source": [
    "public_digital_df[salaire_souhait_outliers_mask][\"number-salaire-souhait\"].mean()\n",
    "#on peut constaté une baisse de 10% apres déduction des 17 false \n"
   ]
  },
  {
   "cell_type": "markdown",
   "id": "ff68353c-1ee2-4292-9799-a9d52c408140",
   "metadata": {},
   "source": [
    "<span style=\"color: black; font-weight: bold; font-size: 50px;\"> Moyenne des expériences, salaire souhaité min et salaire souhaité dont je veux la moyenne mais par type de contrat</span>"
   ]
  },
  {
   "cell_type": "code",
   "execution_count": 77,
   "id": "c791b17c-ea95-4d17-831a-e627d51f7c30",
   "metadata": {},
   "outputs": [
    {
     "name": "stderr",
     "output_type": "stream",
     "text": [
      "C:\\Users\\PC\\AppData\\Local\\Temp\\ipykernel_28792\\2344721647.py:1: FutureWarning: The default of observed=False is deprecated and will be changed to True in a future version of pandas. Pass observed=False to retain current behavior or observed=True to adopt the future default and silence this warning.\n",
      "  public_digital_df.groupby([\"radio-type-contrat\"])[[\"number-experience\", \"number-salaire-min\", \"number-salaire-souhait\"]].agg([\"mean\"])\n"
     ]
    },
    {
     "data": {
      "text/html": [
       "<div>\n",
       "<style scoped>\n",
       "    .dataframe tbody tr th:only-of-type {\n",
       "        vertical-align: middle;\n",
       "    }\n",
       "\n",
       "    .dataframe tbody tr th {\n",
       "        vertical-align: top;\n",
       "    }\n",
       "\n",
       "    .dataframe thead tr th {\n",
       "        text-align: left;\n",
       "    }\n",
       "\n",
       "    .dataframe thead tr:last-of-type th {\n",
       "        text-align: right;\n",
       "    }\n",
       "</style>\n",
       "<table border=\"1\" class=\"dataframe\">\n",
       "  <thead>\n",
       "    <tr>\n",
       "      <th></th>\n",
       "      <th>number-experience</th>\n",
       "      <th>number-salaire-min</th>\n",
       "      <th>number-salaire-souhait</th>\n",
       "    </tr>\n",
       "    <tr>\n",
       "      <th></th>\n",
       "      <th>mean</th>\n",
       "      <th>mean</th>\n",
       "      <th>mean</th>\n",
       "    </tr>\n",
       "    <tr>\n",
       "      <th>radio-type-contrat</th>\n",
       "      <th></th>\n",
       "      <th></th>\n",
       "      <th></th>\n",
       "    </tr>\n",
       "  </thead>\n",
       "  <tbody>\n",
       "    <tr>\n",
       "      <th>CDI</th>\n",
       "      <td>10.902857</td>\n",
       "      <td>2993.845714</td>\n",
       "      <td>3612.117143</td>\n",
       "    </tr>\n",
       "    <tr>\n",
       "      <th>CDD (2-3 ans)</th>\n",
       "      <td>8.590909</td>\n",
       "      <td>2671.590909</td>\n",
       "      <td>3236.363636</td>\n",
       "    </tr>\n",
       "    <tr>\n",
       "      <th>Freelance, portage salarial</th>\n",
       "      <td>12.592593</td>\n",
       "      <td>3252.574074</td>\n",
       "      <td>4129.611111</td>\n",
       "    </tr>\n",
       "  </tbody>\n",
       "</table>\n",
       "</div>"
      ],
      "text/plain": [
       "                            number-experience number-salaire-min  \\\n",
       "                                         mean               mean   \n",
       "radio-type-contrat                                                 \n",
       "CDI                                 10.902857        2993.845714   \n",
       "CDD (2-3 ans)                        8.590909        2671.590909   \n",
       "Freelance, portage salarial         12.592593        3252.574074   \n",
       "\n",
       "                            number-salaire-souhait  \n",
       "                                              mean  \n",
       "radio-type-contrat                                  \n",
       "CDI                                    3612.117143  \n",
       "CDD (2-3 ans)                          3236.363636  \n",
       "Freelance, portage salarial            4129.611111  "
      ]
     },
     "execution_count": 77,
     "metadata": {},
     "output_type": "execute_result"
    }
   ],
   "source": [
    "public_digital_df.groupby([\"radio-type-contrat\"])[[\"number-experience\", \"number-salaire-min\", \"number-salaire-souhait\"]].agg([\"mean\"])\n"
   ]
  },
  {
   "cell_type": "markdown",
   "id": "a7e67cc7-320d-46fd-a575-0038e6181536",
   "metadata": {},
   "source": [
    "<span style=\"color: black; font-weight: bold; font-size: 50px;\"> Quantiles</span>"
   ]
  },
  {
   "cell_type": "code",
   "execution_count": 78,
   "id": "3ac0c0c8-a76c-4ec6-a271-2195fda0819c",
   "metadata": {},
   "outputs": [],
   "source": [
    "Age = [32, 45, 27, 32, 27, 50, 45, 40, 32, 27, 40]"
   ]
  },
  {
   "cell_type": "code",
   "execution_count": 79,
   "id": "62fe37b6-3af3-4dea-be5f-d247526a910f",
   "metadata": {},
   "outputs": [
    {
     "data": {
      "text/plain": [
       "11"
      ]
     },
     "execution_count": 79,
     "metadata": {},
     "output_type": "execute_result"
    }
   ],
   "source": [
    "len(Age)"
   ]
  },
  {
   "cell_type": "code",
   "execution_count": 80,
   "id": "bd5581eb-52cb-4cfb-9cb6-6540771745e8",
   "metadata": {},
   "outputs": [
    {
     "data": {
      "text/plain": [
       "[27, 27, 27, 32, 32, 32, 40, 40, 45, 45, 50]"
      ]
     },
     "execution_count": 80,
     "metadata": {},
     "output_type": "execute_result"
    }
   ],
   "source": [
    "sorted(Age)"
   ]
  },
  {
   "cell_type": "code",
   "execution_count": 81,
   "id": "46db1c6a-4680-46ef-b5a4-107521f166b9",
   "metadata": {},
   "outputs": [
    {
     "data": {
      "text/plain": [
       "29.5"
      ]
     },
     "execution_count": 81,
     "metadata": {},
     "output_type": "execute_result"
    }
   ],
   "source": [
    "np.quantile(Age, q=0.25)"
   ]
  },
  {
   "cell_type": "markdown",
   "id": "3910bfc8-b849-44c4-b9aa-7ab3b8306196",
   "metadata": {},
   "source": [
    "<span style=\"color: black; font-weight: bold; font-size: 50px;\"> Position=q×(Taille−1) </br> où \n",
    "𝑞=0.25 q=0.25 et la taille de la liste est 11, ce qui donne une position de 2.5. </br> Valeur du quartile=0.5×27+0.5×32=29.5</span>"
   ]
  },
  {
   "cell_type": "code",
   "execution_count": 82,
   "id": "b2fe22c5-b1dc-4f9d-9092-b80071f7bbff",
   "metadata": {},
   "outputs": [
    {
     "data": {
      "text/plain": [
       "(array([0. , 0.1, 0.2, 0.3, 0.4, 0.5, 0.6, 0.7, 0.8, 0.9, 1. ]),\n",
       " array([0.  , 0.25, 0.5 , 0.75, 1.  ]))"
      ]
     },
     "execution_count": 82,
     "metadata": {},
     "output_type": "execute_result"
    }
   ],
   "source": [
    "np.linspace(0, 1, 11), np.linspace(0, 1, 5)"
   ]
  },
  {
   "cell_type": "code",
   "execution_count": 83,
   "id": "a54ca1bd-5e7e-41f1-8fde-eb4fd5cee975",
   "metadata": {},
   "outputs": [],
   "source": [
    "deciles=np.linspace(0, 1, 11)\n",
    "quartiles=np.linspace(0, 1, 5)"
   ]
  },
  {
   "cell_type": "markdown",
   "id": "20d082ef-1db6-496a-8bd2-f7bb9665ca98",
   "metadata": {},
   "source": [
    "<span style=\"color: black; font-weight: bold; font-size: 50px;\"> Les quartiles</span>"
   ]
  },
  {
   "cell_type": "code",
   "execution_count": 84,
   "id": "228b8466-9728-45c9-abf1-a343542b995e",
   "metadata": {},
   "outputs": [
    {
     "data": {
      "text/plain": [
       "count    448.000000\n",
       "mean      10.879464\n",
       "std        7.365041\n",
       "min        1.000000\n",
       "25%        5.000000\n",
       "50%       10.000000\n",
       "75%       15.000000\n",
       "max       40.000000\n",
       "Name: number-experience, dtype: float64"
      ]
     },
     "execution_count": 84,
     "metadata": {},
     "output_type": "execute_result"
    }
   ],
   "source": [
    "public_digital_df[\"number-experience\"].describe()\n",
    "# on peut voir que le quartile 0 c'est le minimum et la qaurtile 5 est le maximum et on voit que j'ai 4 intervalles a partir de min a max"
   ]
  },
  {
   "cell_type": "code",
   "execution_count": 85,
   "id": "78de9ab7-5656-45c1-92e8-748215997aca",
   "metadata": {},
   "outputs": [
    {
     "data": {
      "text/plain": [
       "count    448.000000\n",
       "mean      10.879464\n",
       "std        7.365041\n",
       "min        1.000000\n",
       "0%         1.000000\n",
       "10%        2.700000\n",
       "20%        3.500000\n",
       "30%        5.000000\n",
       "40%        8.000000\n",
       "50%       10.000000\n",
       "60%       11.000000\n",
       "70%       14.000000\n",
       "80%       19.000000\n",
       "90%       20.000000\n",
       "100%      40.000000\n",
       "max       40.000000\n",
       "Name: number-experience, dtype: float64"
      ]
     },
     "execution_count": 85,
     "metadata": {},
     "output_type": "execute_result"
    }
   ],
   "source": [
    "public_digital_df[\"number-experience\"].describe(percentiles=deciles)"
   ]
  },
  {
   "cell_type": "markdown",
   "id": "f849e85e-dc71-4a86-b12d-54bfa81157a9",
   "metadata": {},
   "source": [
    "<span style=\"color: black; font-weight: bold; font-size: 50px;\"> IQR et etendue expérience</span>"
   ]
  },
  {
   "cell_type": "code",
   "execution_count": 86,
   "id": "59ed5d59-0232-4aea-a44a-cf17365d96b2",
   "metadata": {},
   "outputs": [
    {
     "data": {
      "text/plain": [
       "39.0"
      ]
     },
     "execution_count": 86,
     "metadata": {},
     "output_type": "execute_result"
    }
   ],
   "source": [
    "public_digital_df[\"number-experience\"].min()\n",
    "public_digital_df[\"number-experience\"].max()\n",
    "public_digital_df[\"number-experience\"].max() - public_digital_df[\"number-experience\"].min()\n"
   ]
  },
  {
   "cell_type": "markdown",
   "id": "4fdf826f-1268-4a89-acef-0dae638301e9",
   "metadata": {},
   "source": [
    "<span style=\"color: black; font-weight: bold; font-size: 50px;\"> IQR</span>"
   ]
  },
  {
   "cell_type": "code",
   "execution_count": 89,
   "id": "6933ce05-6fba-4247-a9ac-8a47437003a6",
   "metadata": {},
   "outputs": [
    {
     "data": {
      "text/plain": [
       "10.0"
      ]
     },
     "execution_count": 89,
     "metadata": {},
     "output_type": "execute_result"
    }
   ],
   "source": [
    "public_digital_df[\"number-experience\"].quantile(q=0.25)# premiere quartile ce qui fera 5\n",
    "public_digital_df[\"number-experience\"].quantile(q=0.75),# Troisieme quartile ce qui fera 15\n",
    "public_digital_df[\"number-experience\"].quantile(q=0.75) - public_digital_df[\"number-experience\"].quantile(q=0.25)\n"
   ]
  },
  {
   "cell_type": "code",
   "execution_count": 90,
   "id": "86d83204-4930-43d7-b45d-26a079694dcb",
   "metadata": {},
   "outputs": [
    {
     "data": {
      "text/plain": [
       "<matplotlib.lines.Line2D at 0x24d099bf710>"
      ]
     },
     "execution_count": 90,
     "metadata": {},
     "output_type": "execute_result"
    },
    {
     "data": {
      "image/png": "[encoded data removed]",
      "text/plain": [
       "<Figure size 640x480 with 1 Axes>"
      ]
     },
     "metadata": {},
     "output_type": "display_data"
    }
   ],
   "source": [
    "bar_plot = public_digital_df[\"number-experience\"].plot(kind='hist')\n",
    "bar_plot.axvline(public_digital_df[\"number-experience\"].quantile(q=0.25), color='red', linewidth=2)\n",
    "bar_plot.axvline(public_digital_df[\"number-experience\"].quantile(q=0.75), color='red', linewidth=2)\n"
   ]
  },
  {
   "cell_type": "code",
   "execution_count": null,
   "id": "266f1fe6-c86b-43cc-85a0-245dbbf82c0e",
   "metadata": {},
   "outputs": [],
   "source": []
  },
  {
   "cell_type": "code",
   "execution_count": null,
   "id": "db311bbb-2d25-4cd3-a908-d2f0d52ed465",
   "metadata": {},
   "outputs": [],
   "source": []
  },
  {
   "cell_type": "markdown",
   "id": "55faa87b-c948-4213-a941-c2526dd0b339",
   "metadata": {},
   "source": [
    "<span style=\"color: black; font-weight: bold; font-size: 50px;\"> Moyenne et medianes et IQR des experiences, salaires souhaités et min par contrat</span>"
   ]
  },
  {
   "cell_type": "code",
   "execution_count": 91,
   "id": "c2f08b01-1289-4f98-9017-ac43eb46019b",
   "metadata": {},
   "outputs": [],
   "source": [
    "from scipy.stats import iqr # ça nous permettra de ne pas de ne pas calculer l'etendu max-min\n"
   ]
  },
  {
   "cell_type": "code",
   "execution_count": 92,
   "id": "6d2b1d20-059f-47d3-897f-80cb7e4a5c60",
   "metadata": {},
   "outputs": [
    {
     "data": {
      "text/plain": [
       "10.0"
      ]
     },
     "execution_count": 92,
     "metadata": {},
     "output_type": "execute_result"
    }
   ],
   "source": [
    "iqr(public_digital_df[\"number-experience\"])\n"
   ]
  },
  {
   "cell_type": "code",
   "execution_count": 93,
   "id": "a69b7a4c-7d7b-4b5d-86f0-8af65e495198",
   "metadata": {},
   "outputs": [
    {
     "data": {
      "text/plain": [
       "count    448.000000\n",
       "mean      10.879464\n",
       "std        7.365041\n",
       "min        1.000000\n",
       "25%        5.000000\n",
       "50%       10.000000\n",
       "75%       15.000000\n",
       "max       40.000000\n",
       "Name: number-experience, dtype: float64"
      ]
     },
     "execution_count": 93,
     "metadata": {},
     "output_type": "execute_result"
    }
   ],
   "source": [
    "public_digital_df[\"number-experience\"].describe()\n"
   ]
  },
  {
   "cell_type": "code",
   "execution_count": 94,
   "id": "57635d9e-7792-41c7-b42b-c7e84189a723",
   "metadata": {},
   "outputs": [
    {
     "name": "stderr",
     "output_type": "stream",
     "text": [
      "C:\\Users\\PC\\AppData\\Local\\Temp\\ipykernel_28792\\3109332858.py:1: FutureWarning: The default of observed=False is deprecated and will be changed to True in a future version of pandas. Pass observed=False to retain current behavior or observed=True to adopt the future default and silence this warning.\n",
      "  public_digital_df.groupby([\"radio-type-contrat\"])[[\"number-experience\", \"number-salaire-min\", \"number-salaire-souhait\"]].agg([\"mean\", \"median\", iqr])\n"
     ]
    },
    {
     "data": {
      "text/html": [
       "<div>\n",
       "<style scoped>\n",
       "    .dataframe tbody tr th:only-of-type {\n",
       "        vertical-align: middle;\n",
       "    }\n",
       "\n",
       "    .dataframe tbody tr th {\n",
       "        vertical-align: top;\n",
       "    }\n",
       "\n",
       "    .dataframe thead tr th {\n",
       "        text-align: left;\n",
       "    }\n",
       "\n",
       "    .dataframe thead tr:last-of-type th {\n",
       "        text-align: right;\n",
       "    }\n",
       "</style>\n",
       "<table border=\"1\" class=\"dataframe\">\n",
       "  <thead>\n",
       "    <tr>\n",
       "      <th></th>\n",
       "      <th colspan=\"3\" halign=\"left\">number-experience</th>\n",
       "      <th colspan=\"3\" halign=\"left\">number-salaire-min</th>\n",
       "      <th colspan=\"3\" halign=\"left\">number-salaire-souhait</th>\n",
       "    </tr>\n",
       "    <tr>\n",
       "      <th></th>\n",
       "      <th>mean</th>\n",
       "      <th>median</th>\n",
       "      <th>iqr</th>\n",
       "      <th>mean</th>\n",
       "      <th>median</th>\n",
       "      <th>iqr</th>\n",
       "      <th>mean</th>\n",
       "      <th>median</th>\n",
       "      <th>iqr</th>\n",
       "    </tr>\n",
       "    <tr>\n",
       "      <th>radio-type-contrat</th>\n",
       "      <th></th>\n",
       "      <th></th>\n",
       "      <th></th>\n",
       "      <th></th>\n",
       "      <th></th>\n",
       "      <th></th>\n",
       "      <th></th>\n",
       "      <th></th>\n",
       "      <th></th>\n",
       "    </tr>\n",
       "  </thead>\n",
       "  <tbody>\n",
       "    <tr>\n",
       "      <th>CDI</th>\n",
       "      <td>10.902857</td>\n",
       "      <td>10.0</td>\n",
       "      <td>10.75</td>\n",
       "      <td>2993.845714</td>\n",
       "      <td>2900.0</td>\n",
       "      <td>1100.0</td>\n",
       "      <td>3612.117143</td>\n",
       "      <td>3500.0</td>\n",
       "      <td>1200.0</td>\n",
       "    </tr>\n",
       "    <tr>\n",
       "      <th>CDD (2-3 ans)</th>\n",
       "      <td>8.590909</td>\n",
       "      <td>7.0</td>\n",
       "      <td>7.25</td>\n",
       "      <td>2671.590909</td>\n",
       "      <td>2500.0</td>\n",
       "      <td>925.0</td>\n",
       "      <td>3236.363636</td>\n",
       "      <td>3000.0</td>\n",
       "      <td>950.0</td>\n",
       "    </tr>\n",
       "    <tr>\n",
       "      <th>Freelance, portage salarial</th>\n",
       "      <td>12.592593</td>\n",
       "      <td>11.0</td>\n",
       "      <td>9.00</td>\n",
       "      <td>3252.574074</td>\n",
       "      <td>3000.0</td>\n",
       "      <td>1800.0</td>\n",
       "      <td>4129.611111</td>\n",
       "      <td>3750.0</td>\n",
       "      <td>2000.0</td>\n",
       "    </tr>\n",
       "  </tbody>\n",
       "</table>\n",
       "</div>"
      ],
      "text/plain": [
       "                            number-experience                \\\n",
       "                                         mean median    iqr   \n",
       "radio-type-contrat                                            \n",
       "CDI                                 10.902857   10.0  10.75   \n",
       "CDD (2-3 ans)                        8.590909    7.0   7.25   \n",
       "Freelance, portage salarial         12.592593   11.0   9.00   \n",
       "\n",
       "                            number-salaire-min                  \\\n",
       "                                          mean  median     iqr   \n",
       "radio-type-contrat                                               \n",
       "CDI                                2993.845714  2900.0  1100.0   \n",
       "CDD (2-3 ans)                      2671.590909  2500.0   925.0   \n",
       "Freelance, portage salarial        3252.574074  3000.0  1800.0   \n",
       "\n",
       "                            number-salaire-souhait                  \n",
       "                                              mean  median     iqr  \n",
       "radio-type-contrat                                                  \n",
       "CDI                                    3612.117143  3500.0  1200.0  \n",
       "CDD (2-3 ans)                          3236.363636  3000.0   950.0  \n",
       "Freelance, portage salarial            4129.611111  3750.0  2000.0  "
      ]
     },
     "execution_count": 94,
     "metadata": {},
     "output_type": "execute_result"
    }
   ],
   "source": [
    "public_digital_df.groupby([\"radio-type-contrat\"])[[\"number-experience\", \"number-salaire-min\", \"number-salaire-souhait\"]].agg([\"mean\", \"median\", iqr])\n"
   ]
  },
  {
   "cell_type": "markdown",
   "id": "6a8cff97-ae92-4ce5-a5c7-fd596553362b",
   "metadata": {},
   "source": [
    "<span style=\"color: black; font-weight: bold; font-size: 50px;\"> Itération: qui veut rejoindre le service public</span>"
   ]
  },
  {
   "cell_type": "code",
   "execution_count": 95,
   "id": "3cfb2d8b-1e3d-4ff7-958b-05539cf8f1d3",
   "metadata": {},
   "outputs": [
    {
     "data": {
      "text/plain": [
       "radio-rejoindre\n",
       "Je ne sais pas    212\n",
       "Oui               186\n",
       "Non                50\n",
       "Name: count, dtype: int64"
      ]
     },
     "execution_count": 95,
     "metadata": {},
     "output_type": "execute_result"
    }
   ],
   "source": [
    "public_digital_df[\"radio-rejoindre\"].value_counts()"
   ]
  },
  {
   "cell_type": "code",
   "execution_count": 96,
   "id": "805d14f3-d575-4232-ae61-12cdb66ffd10",
   "metadata": {},
   "outputs": [
    {
     "name": "stderr",
     "output_type": "stream",
     "text": [
      "C:\\Users\\PC\\AppData\\Local\\Temp\\ipykernel_28792\\2136599162.py:1: FutureWarning: The default of observed=False is deprecated and will be changed to True in a future version of pandas. Pass observed=False to retain current behavior or observed=True to adopt the future default and silence this warning.\n",
      "  plot = public_digital_df.hist(column=\"number-salaire-min\", by=\"radio-rejoindre\", figsize=(10, 10), align='mid')\n"
     ]
    },
    {
     "data": {
      "image/png": "[encoded data removed]",
      "text/plain": [
       "<Figure size 1000x1000 with 4 Axes>"
      ]
     },
     "metadata": {},
     "output_type": "display_data"
    }
   ],
   "source": [
    "plot = public_digital_df.hist(column=\"number-salaire-min\", by=\"radio-rejoindre\", figsize=(10, 10), align='mid')\n"
   ]
  },
  {
   "cell_type": "code",
   "execution_count": 98,
   "id": "2810bd72-727d-43d2-98fa-198e1c5734fb",
   "metadata": {},
   "outputs": [],
   "source": [
    "import seaborn as sns"
   ]
  },
  {
   "cell_type": "code",
   "execution_count": 100,
   "id": "7e3b81c4-a3da-468c-b269-0c72e14cbe94",
   "metadata": {},
   "outputs": [
    {
     "name": "stderr",
     "output_type": "stream",
     "text": [
      "C:\\Users\\PC\\AppData\\Local\\Temp\\ipykernel_28792\\3083122742.py:1: FutureWarning: The default of observed=False is deprecated and will be changed to True in a future version of pandas. Pass observed=False to retain current behavior or observed=True to adopt the future default and silence this warning.\n",
      "  public_digital_df.groupby(\"radio-rejoindre\")[[\"number-salaire-min\", \"number-salaire-souhait\", \"number-experience\"]].agg([\"mean\", \"median\", iqr]).round(1)\n"
     ]
    },
    {
     "data": {
      "text/html": [
       "<div>\n",
       "<style scoped>\n",
       "    .dataframe tbody tr th:only-of-type {\n",
       "        vertical-align: middle;\n",
       "    }\n",
       "\n",
       "    .dataframe tbody tr th {\n",
       "        vertical-align: top;\n",
       "    }\n",
       "\n",
       "    .dataframe thead tr th {\n",
       "        text-align: left;\n",
       "    }\n",
       "\n",
       "    .dataframe thead tr:last-of-type th {\n",
       "        text-align: right;\n",
       "    }\n",
       "</style>\n",
       "<table border=\"1\" class=\"dataframe\">\n",
       "  <thead>\n",
       "    <tr>\n",
       "      <th></th>\n",
       "      <th colspan=\"3\" halign=\"left\">number-salaire-min</th>\n",
       "      <th colspan=\"3\" halign=\"left\">number-salaire-souhait</th>\n",
       "      <th colspan=\"3\" halign=\"left\">number-experience</th>\n",
       "    </tr>\n",
       "    <tr>\n",
       "      <th></th>\n",
       "      <th>mean</th>\n",
       "      <th>median</th>\n",
       "      <th>iqr</th>\n",
       "      <th>mean</th>\n",
       "      <th>median</th>\n",
       "      <th>iqr</th>\n",
       "      <th>mean</th>\n",
       "      <th>median</th>\n",
       "      <th>iqr</th>\n",
       "    </tr>\n",
       "    <tr>\n",
       "      <th>radio-rejoindre</th>\n",
       "      <th></th>\n",
       "      <th></th>\n",
       "      <th></th>\n",
       "      <th></th>\n",
       "      <th></th>\n",
       "      <th></th>\n",
       "      <th></th>\n",
       "      <th></th>\n",
       "      <th></th>\n",
       "    </tr>\n",
       "  </thead>\n",
       "  <tbody>\n",
       "    <tr>\n",
       "      <th>Oui</th>\n",
       "      <td>2828.7</td>\n",
       "      <td>2550.0</td>\n",
       "      <td>1300.0</td>\n",
       "      <td>3458.7</td>\n",
       "      <td>3448.5</td>\n",
       "      <td>1400.0</td>\n",
       "      <td>10.1</td>\n",
       "      <td>9.0</td>\n",
       "      <td>12.0</td>\n",
       "    </tr>\n",
       "    <tr>\n",
       "      <th>Je ne sais pas</th>\n",
       "      <td>3070.4</td>\n",
       "      <td>2950.0</td>\n",
       "      <td>1025.0</td>\n",
       "      <td>3728.6</td>\n",
       "      <td>3500.0</td>\n",
       "      <td>1050.0</td>\n",
       "      <td>11.3</td>\n",
       "      <td>10.0</td>\n",
       "      <td>11.0</td>\n",
       "    </tr>\n",
       "    <tr>\n",
       "      <th>Non</th>\n",
       "      <td>3279.5</td>\n",
       "      <td>3000.0</td>\n",
       "      <td>1502.2</td>\n",
       "      <td>3916.9</td>\n",
       "      <td>3500.0</td>\n",
       "      <td>1500.8</td>\n",
       "      <td>11.9</td>\n",
       "      <td>10.0</td>\n",
       "      <td>6.8</td>\n",
       "    </tr>\n",
       "  </tbody>\n",
       "</table>\n",
       "</div>"
      ],
      "text/plain": [
       "                number-salaire-min                 number-salaire-souhait  \\\n",
       "                              mean  median     iqr                   mean   \n",
       "radio-rejoindre                                                             \n",
       "Oui                         2828.7  2550.0  1300.0                 3458.7   \n",
       "Je ne sais pas              3070.4  2950.0  1025.0                 3728.6   \n",
       "Non                         3279.5  3000.0  1502.2                 3916.9   \n",
       "\n",
       "                                number-experience               \n",
       "                 median     iqr              mean median   iqr  \n",
       "radio-rejoindre                                                 \n",
       "Oui              3448.5  1400.0              10.1    9.0  12.0  \n",
       "Je ne sais pas   3500.0  1050.0              11.3   10.0  11.0  \n",
       "Non              3500.0  1500.8              11.9   10.0   6.8  "
      ]
     },
     "execution_count": 100,
     "metadata": {},
     "output_type": "execute_result"
    }
   ],
   "source": [
    "public_digital_df.groupby(\"radio-rejoindre\")[[\"number-salaire-min\", \"number-salaire-souhait\", \"number-experience\"]].agg([\"mean\", \"median\", iqr]).round(1)\n"
   ]
  },
  {
   "cell_type": "code",
   "execution_count": 101,
   "id": "11843e1c-2839-4424-9d38-a414927080f5",
   "metadata": {},
   "outputs": [
    {
     "data": {
      "text/plain": [
       "<Axes: xlabel='number-salaire-souhait', ylabel='number-salaire-min'>"
      ]
     },
     "execution_count": 101,
     "metadata": {},
     "output_type": "execute_result"
    },
    {
     "data": {
      "image/png": "[encoded data removed]",
      "text/plain": [
       "<Figure size 640x480 with 1 Axes>"
      ]
     },
     "metadata": {},
     "output_type": "display_data"
    }
   ],
   "source": [
    "sns.scatterplot(data=public_digital_df, x=\"number-salaire-souhait\", y=\"number-salaire-min\", hue=\"radio-rejoindre\")\n"
   ]
  },
  {
   "cell_type": "code",
   "execution_count": null,
   "id": "9e9d19a4-932c-4127-a051-0065c62acac0",
   "metadata": {},
   "outputs": [],
   "source": []
  }
 ],
 "metadata": {
  "kernelspec": {
   "display_name": "Python 3 (ipykernel)",
   "language": "python",
   "name": "python3"
  },
  "language_info": {
   "codemirror_mode": {
    "name": "ipython",
    "version": 3
   },
   "file_extension": ".py",
   "mimetype": "text/x-python",
   "name": "python",
   "nbconvert_exporter": "python",
   "pygments_lexer": "ipython3",
   "version": "3.11.7"
  }
 },
 "nbformat": 4,
 "nbformat_minor": 5
}
