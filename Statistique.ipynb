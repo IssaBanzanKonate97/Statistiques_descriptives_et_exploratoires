{
 "cells": [
  {
   "cell_type": "code",
   "execution_count": 3,
   "id": "457507fe-6786-49ef-aa1f-482b191a31ea",
   "metadata": {},
   "outputs": [],
   "source": [
    "import numpy as np"
   ]
  },
  {
   "cell_type": "code",
   "execution_count": 4,
   "id": "ac9d3254-f383-4826-825f-91a98e1b9181",
   "metadata": {},
   "outputs": [
    {
     "data": {
      "text/plain": [
       "(448, 17)"
      ]
     },
     "execution_count": 4,
     "metadata": {},
     "output_type": "execute_result"
    }
   ],
   "source": [
    "import pandas as pd\n",
    "\n",
    "public_digital_path = \"https://www.data.gouv.fr/fr/datasets/r/5da7f49b-8ffc-4466-9e62-58fb476385d0\"\n",
    "\n",
    "public_digital_df = pd.read_csv(public_digital_path)\n",
    "\n",
    "public_digital_df.shape\n",
    "\n"
   ]
  },
  {
   "cell_type": "code",
   "execution_count": 5,
   "id": "7fe71814-b8a2-4c6a-842f-9e1f6341a00c",
   "metadata": {},
   "outputs": [
    {
     "data": {
      "text/html": [
       "<div>\n",
       "<style scoped>\n",
       "    .dataframe tbody tr th:only-of-type {\n",
       "        vertical-align: middle;\n",
       "    }\n",
       "\n",
       "    .dataframe tbody tr th {\n",
       "        vertical-align: top;\n",
       "    }\n",
       "\n",
       "    .dataframe thead th {\n",
       "        text-align: right;\n",
       "    }\n",
       "</style>\n",
       "<table border=\"1\" class=\"dataframe\">\n",
       "  <thead>\n",
       "    <tr style=\"text-align: right;\">\n",
       "      <th></th>\n",
       "      <th>checkbox-themes</th>\n",
       "      <th>radio-consulter-offres-publiques</th>\n",
       "      <th>radio-rejoindre</th>\n",
       "      <th>checkbox-pourquoi</th>\n",
       "      <th>checkbox-souhaits</th>\n",
       "      <th>radio-type-contrat</th>\n",
       "      <th>radio-lieu</th>\n",
       "      <th>text-lieu</th>\n",
       "      <th>number-salaire-min</th>\n",
       "      <th>number-salaire-souhait</th>\n",
       "      <th>checkbox-acceptation</th>\n",
       "      <th>text-condition</th>\n",
       "      <th>radio-genre</th>\n",
       "      <th>radio-metiers</th>\n",
       "      <th>text-autre-metier</th>\n",
       "      <th>number-experience</th>\n",
       "      <th>date</th>\n",
       "    </tr>\n",
       "  </thead>\n",
       "  <tbody>\n",
       "    <tr>\n",
       "      <th>29</th>\n",
       "      <td>Écologie, Santé, Éducation nationale, Enseigne...</td>\n",
       "      <td>Non</td>\n",
       "      <td>Je ne sais pas</td>\n",
       "      <td>Avoir un impact sur le quotidien</td>\n",
       "      <td>Au sein d'une région, Au sein d'un département</td>\n",
       "      <td>CDI</td>\n",
       "      <td>En région parisienne</td>\n",
       "      <td>Lorraine, Moselle</td>\n",
       "      <td>2700</td>\n",
       "      <td>3000</td>\n",
       "      <td>Pouvoir avoir une activité annexe (enseignemen...</td>\n",
       "      <td>Travailler en équipe, avoir une accroche sur l...</td>\n",
       "      <td>Un homme</td>\n",
       "      <td>Design de services</td>\n",
       "      <td>NaN</td>\n",
       "      <td>10.0</td>\n",
       "      <td>2019-07-21T18:02:28+00:00</td>\n",
       "    </tr>\n",
       "    <tr>\n",
       "      <th>432</th>\n",
       "      <td>Écologie, Justice, Santé, Éducation nationale</td>\n",
       "      <td>Non</td>\n",
       "      <td>Je ne sais pas</td>\n",
       "      <td>Servir l'intérêt général, Avoir un impact sur ...</td>\n",
       "      <td>Au sein d'un ministère</td>\n",
       "      <td>CDI</td>\n",
       "      <td>En région parisienne</td>\n",
       "      <td>Paris</td>\n",
       "      <td>3600</td>\n",
       "      <td>4000</td>\n",
       "      <td>Pouvoir travailler à 80-100% en télétravail, A...</td>\n",
       "      <td>NaN</td>\n",
       "      <td>Un homme</td>\n",
       "      <td>Développement frontend</td>\n",
       "      <td>NaN</td>\n",
       "      <td>10.0</td>\n",
       "      <td>2019-07-01T11:58:29+00:00</td>\n",
       "    </tr>\n",
       "    <tr>\n",
       "      <th>174</th>\n",
       "      <td>Écologie, Affaires étrangères, Éducation natio...</td>\n",
       "      <td>Non</td>\n",
       "      <td>Non</td>\n",
       "      <td>Donner du sens à mon travail, Servir l'intérêt...</td>\n",
       "      <td>Au sein d'une région, Au sein d'un département</td>\n",
       "      <td>CDI</td>\n",
       "      <td>En métropole</td>\n",
       "      <td>Strasbourg</td>\n",
       "      <td>2500</td>\n",
       "      <td>2850</td>\n",
       "      <td>Pouvoir travailler 1-2 jours par semaine en té...</td>\n",
       "      <td>NaN</td>\n",
       "      <td>Un homme</td>\n",
       "      <td>Développement fullstack</td>\n",
       "      <td>NaN</td>\n",
       "      <td>15.0</td>\n",
       "      <td>2019-07-03T18:49:11+00:00</td>\n",
       "    </tr>\n",
       "    <tr>\n",
       "      <th>106</th>\n",
       "      <td>Écologie, Justice, Affaires étrangères, Défens...</td>\n",
       "      <td>Non</td>\n",
       "      <td>Oui</td>\n",
       "      <td>Donner du sens à mon travail, Servir l'intérêt...</td>\n",
       "      <td>Au sein d'un ministère, Au sein d'une région, ...</td>\n",
       "      <td>CDI</td>\n",
       "      <td>En région parisienne</td>\n",
       "      <td>Paris</td>\n",
       "      <td>3500</td>\n",
       "      <td>4000</td>\n",
       "      <td>Avoir des horaires de travail flexibles, Pouvo...</td>\n",
       "      <td>NaN</td>\n",
       "      <td>Un homme</td>\n",
       "      <td>Développement fullstack</td>\n",
       "      <td>NaN</td>\n",
       "      <td>3.0</td>\n",
       "      <td>2019-07-08T18:35:59+00:00</td>\n",
       "    </tr>\n",
       "    <tr>\n",
       "      <th>76</th>\n",
       "      <td>Écologie, Justice, Éducation nationale, Enseig...</td>\n",
       "      <td>Oui</td>\n",
       "      <td>Oui</td>\n",
       "      <td>Servir l'intérêt général, Pour avoir un travai...</td>\n",
       "      <td>Au sein d'un ministère, Au sein d'une région, ...</td>\n",
       "      <td>CDI</td>\n",
       "      <td>En métropole</td>\n",
       "      <td>NaN</td>\n",
       "      <td>2200</td>\n",
       "      <td>2500</td>\n",
       "      <td>Pouvoir travailler 1-2 jours par semaine en té...</td>\n",
       "      <td>NaN</td>\n",
       "      <td>Une femme</td>\n",
       "      <td>Communication</td>\n",
       "      <td>NaN</td>\n",
       "      <td>15.0</td>\n",
       "      <td>2019-07-19T08:10:56+00:00</td>\n",
       "    </tr>\n",
       "    <tr>\n",
       "      <th>290</th>\n",
       "      <td>Écologie, Santé, Éducation nationale, Enseigne...</td>\n",
       "      <td>Oui</td>\n",
       "      <td>Oui</td>\n",
       "      <td>Donner du sens à mon travail, Servir l'intérêt...</td>\n",
       "      <td>Au sein d'un ministère</td>\n",
       "      <td>CDI</td>\n",
       "      <td>En métropole</td>\n",
       "      <td>Languedoc Roussillon</td>\n",
       "      <td>2850</td>\n",
       "      <td>3400</td>\n",
       "      <td>Travailler 35h / semaine, Pouvoir travailler 1...</td>\n",
       "      <td>Stabilité de l'emploi</td>\n",
       "      <td>Un homme</td>\n",
       "      <td>Administration système</td>\n",
       "      <td>NaN</td>\n",
       "      <td>19.0</td>\n",
       "      <td>2019-07-02T13:06:19+00:00</td>\n",
       "    </tr>\n",
       "    <tr>\n",
       "      <th>263</th>\n",
       "      <td>Éducation nationale, Sécurité / secours, Rense...</td>\n",
       "      <td>Non</td>\n",
       "      <td>Oui</td>\n",
       "      <td>Donner du sens à mon travail, Servir l'intérêt...</td>\n",
       "      <td>Au sein d'un ministère, Au sein d'une région, ...</td>\n",
       "      <td>CDI</td>\n",
       "      <td>En métropole</td>\n",
       "      <td>NaN</td>\n",
       "      <td>3500</td>\n",
       "      <td>5000</td>\n",
       "      <td>Travailler 35h / semaine, Pouvoir travailler à...</td>\n",
       "      <td>NaN</td>\n",
       "      <td>Un homme</td>\n",
       "      <td>Administration système</td>\n",
       "      <td>NaN</td>\n",
       "      <td>20.0</td>\n",
       "      <td>2019-07-03T07:56:13+00:00</td>\n",
       "    </tr>\n",
       "    <tr>\n",
       "      <th>309</th>\n",
       "      <td>Écologie, Affaires étrangères, Éducation natio...</td>\n",
       "      <td>Non</td>\n",
       "      <td>Je ne sais pas</td>\n",
       "      <td>Donner du sens à mon travail, Servir l'intérêt...</td>\n",
       "      <td>Au sein d'un ministère, Au sein d'une région, ...</td>\n",
       "      <td>CDI</td>\n",
       "      <td>En métropole</td>\n",
       "      <td>Bretagne</td>\n",
       "      <td>3000</td>\n",
       "      <td>3400</td>\n",
       "      <td>Pouvoir travailler 1-2 jours par semaine en té...</td>\n",
       "      <td>NaN</td>\n",
       "      <td>Un homme</td>\n",
       "      <td>Autre</td>\n",
       "      <td>Conseil Données / transformation numérique</td>\n",
       "      <td>10.0</td>\n",
       "      <td>2019-07-02T08:25:37+00:00</td>\n",
       "    </tr>\n",
       "    <tr>\n",
       "      <th>14</th>\n",
       "      <td>Écologie, Santé, Éducation nationale, Enseigne...</td>\n",
       "      <td>Oui</td>\n",
       "      <td>Non</td>\n",
       "      <td>Servir l'intérêt général</td>\n",
       "      <td>Au sein d'un ministère</td>\n",
       "      <td>Freelance, portage salarial</td>\n",
       "      <td>En région parisienne</td>\n",
       "      <td>NaN</td>\n",
       "      <td>7000</td>\n",
       "      <td>9000</td>\n",
       "      <td>Pouvoir travailler à 80-100% en télétravail, A...</td>\n",
       "      <td>NaN</td>\n",
       "      <td>Un homme</td>\n",
       "      <td>Développement fullstack</td>\n",
       "      <td>NaN</td>\n",
       "      <td>25.0</td>\n",
       "      <td>2019-07-21T22:41:44+00:00</td>\n",
       "    </tr>\n",
       "    <tr>\n",
       "      <th>360</th>\n",
       "      <td>Écologie, Justice, Santé, Éducation nationale,...</td>\n",
       "      <td>Oui</td>\n",
       "      <td>Je ne sais pas</td>\n",
       "      <td>Donner du sens à mon travail, Servir l'intérêt...</td>\n",
       "      <td>Au sein d'un ministère, Au sein d'une région, ...</td>\n",
       "      <td>CDI</td>\n",
       "      <td>En métropole</td>\n",
       "      <td>Centre et Grand Ouest</td>\n",
       "      <td>2400</td>\n",
       "      <td>2700</td>\n",
       "      <td>Avoir des horaires de travail flexibles, Pouvo...</td>\n",
       "      <td>C'est quand même un peu n'impporte quoi comme ...</td>\n",
       "      <td>Refuse de se prononcer</td>\n",
       "      <td>Administration système</td>\n",
       "      <td>NaN</td>\n",
       "      <td>10.0</td>\n",
       "      <td>2019-07-01T20:00:17+00:00</td>\n",
       "    </tr>\n",
       "    <tr>\n",
       "      <th>218</th>\n",
       "      <td>Défense, Éducation nationale, Sécurité / secou...</td>\n",
       "      <td>Oui</td>\n",
       "      <td>Oui</td>\n",
       "      <td>Servir l'intérêt général, Pour avoir un travai...</td>\n",
       "      <td>Au sein d'un ministère, Au sein d'une région, ...</td>\n",
       "      <td>CDI</td>\n",
       "      <td>En région parisienne</td>\n",
       "      <td>Paris, Hauts de seine</td>\n",
       "      <td>2300</td>\n",
       "      <td>2700</td>\n",
       "      <td>Avoir des horaires de travail flexibles, Pouvo...</td>\n",
       "      <td>Pouvoir continuer a exercer une activité au se...</td>\n",
       "      <td>Un homme</td>\n",
       "      <td>Autre</td>\n",
       "      <td>Chef de projet // Responsable Digital</td>\n",
       "      <td>6.0</td>\n",
       "      <td>2019-07-03T09:32:40+00:00</td>\n",
       "    </tr>\n",
       "    <tr>\n",
       "      <th>142</th>\n",
       "      <td>Écologie, Justice, Affaires étrangères, Défens...</td>\n",
       "      <td>Oui</td>\n",
       "      <td>Oui</td>\n",
       "      <td>Donner du sens à mon travail, Servir l'intérêt...</td>\n",
       "      <td>Au sein d'un ministère, Au sein d'une région, ...</td>\n",
       "      <td>CDD (2-3 ans)</td>\n",
       "      <td>En région parisienne</td>\n",
       "      <td>Paris idéalement</td>\n",
       "      <td>2500</td>\n",
       "      <td>3000</td>\n",
       "      <td>Avoir un accès à Internet sans aucun filtrage,...</td>\n",
       "      <td>NaN</td>\n",
       "      <td>Un homme</td>\n",
       "      <td>Product management</td>\n",
       "      <td>NaN</td>\n",
       "      <td>3.0</td>\n",
       "      <td>2019-07-04T11:32:47+00:00</td>\n",
       "    </tr>\n",
       "    <tr>\n",
       "      <th>143</th>\n",
       "      <td>Écologie, Justice, Affaires étrangères, Santé,...</td>\n",
       "      <td>Oui</td>\n",
       "      <td>Oui</td>\n",
       "      <td>Donner du sens à mon travail, Servir l'intérêt...</td>\n",
       "      <td>Au sein d'un ministère, Au sein d'une région, ...</td>\n",
       "      <td>CDI</td>\n",
       "      <td>En métropole</td>\n",
       "      <td>NaN</td>\n",
       "      <td>2500</td>\n",
       "      <td>2500</td>\n",
       "      <td>Ne pas être soumis à des habilitations de sécu...</td>\n",
       "      <td>Ne produire que du code métier pertinent avec ...</td>\n",
       "      <td>Un homme</td>\n",
       "      <td>Autre</td>\n",
       "      <td>Fonctionnaire, développeur et  architecte SI. ...</td>\n",
       "      <td>40.0</td>\n",
       "      <td>2019-07-04T10:53:07+00:00</td>\n",
       "    </tr>\n",
       "    <tr>\n",
       "      <th>31</th>\n",
       "      <td>Écologie, Affaires étrangères, Santé, Éducatio...</td>\n",
       "      <td>Oui</td>\n",
       "      <td>Je ne sais pas</td>\n",
       "      <td>Servir l'intérêt général, Avoir un impact sur ...</td>\n",
       "      <td>Au sein d'un ministère</td>\n",
       "      <td>CDI</td>\n",
       "      <td>En région parisienne</td>\n",
       "      <td>NaN</td>\n",
       "      <td>2700</td>\n",
       "      <td>3500</td>\n",
       "      <td>Pouvoir travailler 1-2 jours par semaine en té...</td>\n",
       "      <td>NaN</td>\n",
       "      <td>Refuse de se prononcer</td>\n",
       "      <td>Développement fullstack</td>\n",
       "      <td>NaN</td>\n",
       "      <td>3.0</td>\n",
       "      <td>2019-07-21T17:39:42+00:00</td>\n",
       "    </tr>\n",
       "    <tr>\n",
       "      <th>77</th>\n",
       "      <td>Écologie, Santé, Éducation nationale, Enseigne...</td>\n",
       "      <td>Oui</td>\n",
       "      <td>Oui</td>\n",
       "      <td>Donner du sens à mon travail, Servir l'intérêt...</td>\n",
       "      <td>Au sein d'un ministère, Au sein d'une région, ...</td>\n",
       "      <td>CDI</td>\n",
       "      <td>En région parisienne</td>\n",
       "      <td>Île de France</td>\n",
       "      <td>3200</td>\n",
       "      <td>3700</td>\n",
       "      <td>Pouvoir travailler sous MacOS, Pouvoir utilise...</td>\n",
       "      <td>NaN</td>\n",
       "      <td>Une femme</td>\n",
       "      <td>Design de services</td>\n",
       "      <td>NaN</td>\n",
       "      <td>8.0</td>\n",
       "      <td>2019-07-19T07:35:04+00:00</td>\n",
       "    </tr>\n",
       "    <tr>\n",
       "      <th>284</th>\n",
       "      <td>Justice, Santé, Économie, Culture, Interminist...</td>\n",
       "      <td>Oui</td>\n",
       "      <td>Oui</td>\n",
       "      <td>Donner du sens à mon travail, Servir l'intérêt...</td>\n",
       "      <td>Au sein d'un ministère</td>\n",
       "      <td>CDI</td>\n",
       "      <td>En région parisienne</td>\n",
       "      <td>Paris</td>\n",
       "      <td>3500</td>\n",
       "      <td>5000</td>\n",
       "      <td>Pouvoir travailler 1-2 jours par semaine en té...</td>\n",
       "      <td>NaN</td>\n",
       "      <td>Un homme</td>\n",
       "      <td>Design de services</td>\n",
       "      <td>NaN</td>\n",
       "      <td>3.0</td>\n",
       "      <td>2019-07-02T14:49:00+00:00</td>\n",
       "    </tr>\n",
       "    <tr>\n",
       "      <th>358</th>\n",
       "      <td>Écologie, Économie, Éducation nationale, Ensei...</td>\n",
       "      <td>Non</td>\n",
       "      <td>Je ne sais pas</td>\n",
       "      <td>Pour avoir un travail stable, Pour faire une c...</td>\n",
       "      <td>Au sein d'un ministère, Au sein d'une région, ...</td>\n",
       "      <td>CDI</td>\n",
       "      <td>En région parisienne</td>\n",
       "      <td>NaN</td>\n",
       "      <td>4000</td>\n",
       "      <td>5000</td>\n",
       "      <td>Pouvoir travailler 1-2 jours par semaine en té...</td>\n",
       "      <td>NaN</td>\n",
       "      <td>Une femme</td>\n",
       "      <td>Data scientist</td>\n",
       "      <td>NaN</td>\n",
       "      <td>13.0</td>\n",
       "      <td>2019-07-01T20:04:02+00:00</td>\n",
       "    </tr>\n",
       "    <tr>\n",
       "      <th>139</th>\n",
       "      <td>Écologie, Économie</td>\n",
       "      <td>Non</td>\n",
       "      <td>Non</td>\n",
       "      <td>Donner du sens à mon travail</td>\n",
       "      <td>Au sein d'un ministère</td>\n",
       "      <td>CDI</td>\n",
       "      <td>En métropole</td>\n",
       "      <td>NaN</td>\n",
       "      <td>3300</td>\n",
       "      <td>3300</td>\n",
       "      <td>Pouvoir travailler sous GNU/Linux</td>\n",
       "      <td>NaN</td>\n",
       "      <td>Un homme</td>\n",
       "      <td>Développement fullstack</td>\n",
       "      <td>NaN</td>\n",
       "      <td>8.0</td>\n",
       "      <td>2019-07-04T12:05:59+00:00</td>\n",
       "    </tr>\n",
       "    <tr>\n",
       "      <th>386</th>\n",
       "      <td>Écologie, Justice, Affaires étrangères, Santé,...</td>\n",
       "      <td>Oui</td>\n",
       "      <td>Oui</td>\n",
       "      <td>Donner du sens à mon travail, Servir l'intérêt...</td>\n",
       "      <td>Au sein d'un ministère, Au sein d'une région, ...</td>\n",
       "      <td>CDI</td>\n",
       "      <td>En région parisienne</td>\n",
       "      <td>Paris</td>\n",
       "      <td>3200</td>\n",
       "      <td>4000</td>\n",
       "      <td>Pouvoir travailler 1-2 jours par semaine en té...</td>\n",
       "      <td>(aucune de ces conditions n'est rédhibitoire i...</td>\n",
       "      <td>Une femme</td>\n",
       "      <td>Product management</td>\n",
       "      <td>NaN</td>\n",
       "      <td>8.0</td>\n",
       "      <td>2019-07-01T16:57:38+00:00</td>\n",
       "    </tr>\n",
       "    <tr>\n",
       "      <th>291</th>\n",
       "      <td>Écologie, Santé, Enseignement supérieur et rec...</td>\n",
       "      <td>Oui</td>\n",
       "      <td>Oui</td>\n",
       "      <td>Pour faire une césure</td>\n",
       "      <td>Au sein d'un ministère, Au sein d'une région, ...</td>\n",
       "      <td>CDI</td>\n",
       "      <td>En métropole</td>\n",
       "      <td>NaN</td>\n",
       "      <td>3500</td>\n",
       "      <td>4000</td>\n",
       "      <td>Travailler 35h / semaine</td>\n",
       "      <td>NaN</td>\n",
       "      <td>Un homme</td>\n",
       "      <td>Administration système</td>\n",
       "      <td>NaN</td>\n",
       "      <td>20.0</td>\n",
       "      <td>2019-07-02T13:05:27+00:00</td>\n",
       "    </tr>\n",
       "  </tbody>\n",
       "</table>\n",
       "</div>"
      ],
      "text/plain": [
       "                                       checkbox-themes  \\\n",
       "29   Écologie, Santé, Éducation nationale, Enseigne...   \n",
       "432      Écologie, Justice, Santé, Éducation nationale   \n",
       "174  Écologie, Affaires étrangères, Éducation natio...   \n",
       "106  Écologie, Justice, Affaires étrangères, Défens...   \n",
       "76   Écologie, Justice, Éducation nationale, Enseig...   \n",
       "290  Écologie, Santé, Éducation nationale, Enseigne...   \n",
       "263  Éducation nationale, Sécurité / secours, Rense...   \n",
       "309  Écologie, Affaires étrangères, Éducation natio...   \n",
       "14   Écologie, Santé, Éducation nationale, Enseigne...   \n",
       "360  Écologie, Justice, Santé, Éducation nationale,...   \n",
       "218  Défense, Éducation nationale, Sécurité / secou...   \n",
       "142  Écologie, Justice, Affaires étrangères, Défens...   \n",
       "143  Écologie, Justice, Affaires étrangères, Santé,...   \n",
       "31   Écologie, Affaires étrangères, Santé, Éducatio...   \n",
       "77   Écologie, Santé, Éducation nationale, Enseigne...   \n",
       "284  Justice, Santé, Économie, Culture, Interminist...   \n",
       "358  Écologie, Économie, Éducation nationale, Ensei...   \n",
       "139                                 Écologie, Économie   \n",
       "386  Écologie, Justice, Affaires étrangères, Santé,...   \n",
       "291  Écologie, Santé, Enseignement supérieur et rec...   \n",
       "\n",
       "    radio-consulter-offres-publiques radio-rejoindre  \\\n",
       "29                               Non  Je ne sais pas   \n",
       "432                              Non  Je ne sais pas   \n",
       "174                              Non             Non   \n",
       "106                              Non             Oui   \n",
       "76                               Oui             Oui   \n",
       "290                              Oui             Oui   \n",
       "263                              Non             Oui   \n",
       "309                              Non  Je ne sais pas   \n",
       "14                               Oui             Non   \n",
       "360                              Oui  Je ne sais pas   \n",
       "218                              Oui             Oui   \n",
       "142                              Oui             Oui   \n",
       "143                              Oui             Oui   \n",
       "31                               Oui  Je ne sais pas   \n",
       "77                               Oui             Oui   \n",
       "284                              Oui             Oui   \n",
       "358                              Non  Je ne sais pas   \n",
       "139                              Non             Non   \n",
       "386                              Oui             Oui   \n",
       "291                              Oui             Oui   \n",
       "\n",
       "                                     checkbox-pourquoi  \\\n",
       "29                    Avoir un impact sur le quotidien   \n",
       "432  Servir l'intérêt général, Avoir un impact sur ...   \n",
       "174  Donner du sens à mon travail, Servir l'intérêt...   \n",
       "106  Donner du sens à mon travail, Servir l'intérêt...   \n",
       "76   Servir l'intérêt général, Pour avoir un travai...   \n",
       "290  Donner du sens à mon travail, Servir l'intérêt...   \n",
       "263  Donner du sens à mon travail, Servir l'intérêt...   \n",
       "309  Donner du sens à mon travail, Servir l'intérêt...   \n",
       "14                            Servir l'intérêt général   \n",
       "360  Donner du sens à mon travail, Servir l'intérêt...   \n",
       "218  Servir l'intérêt général, Pour avoir un travai...   \n",
       "142  Donner du sens à mon travail, Servir l'intérêt...   \n",
       "143  Donner du sens à mon travail, Servir l'intérêt...   \n",
       "31   Servir l'intérêt général, Avoir un impact sur ...   \n",
       "77   Donner du sens à mon travail, Servir l'intérêt...   \n",
       "284  Donner du sens à mon travail, Servir l'intérêt...   \n",
       "358  Pour avoir un travail stable, Pour faire une c...   \n",
       "139                       Donner du sens à mon travail   \n",
       "386  Donner du sens à mon travail, Servir l'intérêt...   \n",
       "291                              Pour faire une césure   \n",
       "\n",
       "                                     checkbox-souhaits  \\\n",
       "29      Au sein d'une région, Au sein d'un département   \n",
       "432                             Au sein d'un ministère   \n",
       "174     Au sein d'une région, Au sein d'un département   \n",
       "106  Au sein d'un ministère, Au sein d'une région, ...   \n",
       "76   Au sein d'un ministère, Au sein d'une région, ...   \n",
       "290                             Au sein d'un ministère   \n",
       "263  Au sein d'un ministère, Au sein d'une région, ...   \n",
       "309  Au sein d'un ministère, Au sein d'une région, ...   \n",
       "14                              Au sein d'un ministère   \n",
       "360  Au sein d'un ministère, Au sein d'une région, ...   \n",
       "218  Au sein d'un ministère, Au sein d'une région, ...   \n",
       "142  Au sein d'un ministère, Au sein d'une région, ...   \n",
       "143  Au sein d'un ministère, Au sein d'une région, ...   \n",
       "31                              Au sein d'un ministère   \n",
       "77   Au sein d'un ministère, Au sein d'une région, ...   \n",
       "284                             Au sein d'un ministère   \n",
       "358  Au sein d'un ministère, Au sein d'une région, ...   \n",
       "139                             Au sein d'un ministère   \n",
       "386  Au sein d'un ministère, Au sein d'une région, ...   \n",
       "291  Au sein d'un ministère, Au sein d'une région, ...   \n",
       "\n",
       "              radio-type-contrat            radio-lieu              text-lieu  \\\n",
       "29                           CDI  En région parisienne      Lorraine, Moselle   \n",
       "432                          CDI  En région parisienne                  Paris   \n",
       "174                          CDI          En métropole             Strasbourg   \n",
       "106                          CDI  En région parisienne                  Paris   \n",
       "76                           CDI          En métropole                    NaN   \n",
       "290                          CDI          En métropole   Languedoc Roussillon   \n",
       "263                          CDI          En métropole                    NaN   \n",
       "309                          CDI          En métropole               Bretagne   \n",
       "14   Freelance, portage salarial  En région parisienne                    NaN   \n",
       "360                          CDI          En métropole  Centre et Grand Ouest   \n",
       "218                          CDI  En région parisienne  Paris, Hauts de seine   \n",
       "142                CDD (2-3 ans)  En région parisienne       Paris idéalement   \n",
       "143                          CDI          En métropole                    NaN   \n",
       "31                           CDI  En région parisienne                    NaN   \n",
       "77                           CDI  En région parisienne         Île de France    \n",
       "284                          CDI  En région parisienne                  Paris   \n",
       "358                          CDI  En région parisienne                    NaN   \n",
       "139                          CDI          En métropole                    NaN   \n",
       "386                          CDI  En région parisienne                  Paris   \n",
       "291                          CDI          En métropole                    NaN   \n",
       "\n",
       "     number-salaire-min  number-salaire-souhait  \\\n",
       "29                 2700                    3000   \n",
       "432                3600                    4000   \n",
       "174                2500                    2850   \n",
       "106                3500                    4000   \n",
       "76                 2200                    2500   \n",
       "290                2850                    3400   \n",
       "263                3500                    5000   \n",
       "309                3000                    3400   \n",
       "14                 7000                    9000   \n",
       "360                2400                    2700   \n",
       "218                2300                    2700   \n",
       "142                2500                    3000   \n",
       "143                2500                    2500   \n",
       "31                 2700                    3500   \n",
       "77                 3200                    3700   \n",
       "284                3500                    5000   \n",
       "358                4000                    5000   \n",
       "139                3300                    3300   \n",
       "386                3200                    4000   \n",
       "291                3500                    4000   \n",
       "\n",
       "                                  checkbox-acceptation  \\\n",
       "29   Pouvoir avoir une activité annexe (enseignemen...   \n",
       "432  Pouvoir travailler à 80-100% en télétravail, A...   \n",
       "174  Pouvoir travailler 1-2 jours par semaine en té...   \n",
       "106  Avoir des horaires de travail flexibles, Pouvo...   \n",
       "76   Pouvoir travailler 1-2 jours par semaine en té...   \n",
       "290  Travailler 35h / semaine, Pouvoir travailler 1...   \n",
       "263  Travailler 35h / semaine, Pouvoir travailler à...   \n",
       "309  Pouvoir travailler 1-2 jours par semaine en té...   \n",
       "14   Pouvoir travailler à 80-100% en télétravail, A...   \n",
       "360  Avoir des horaires de travail flexibles, Pouvo...   \n",
       "218  Avoir des horaires de travail flexibles, Pouvo...   \n",
       "142  Avoir un accès à Internet sans aucun filtrage,...   \n",
       "143  Ne pas être soumis à des habilitations de sécu...   \n",
       "31   Pouvoir travailler 1-2 jours par semaine en té...   \n",
       "77   Pouvoir travailler sous MacOS, Pouvoir utilise...   \n",
       "284  Pouvoir travailler 1-2 jours par semaine en té...   \n",
       "358  Pouvoir travailler 1-2 jours par semaine en té...   \n",
       "139                  Pouvoir travailler sous GNU/Linux   \n",
       "386  Pouvoir travailler 1-2 jours par semaine en té...   \n",
       "291                           Travailler 35h / semaine   \n",
       "\n",
       "                                        text-condition  \\\n",
       "29   Travailler en équipe, avoir une accroche sur l...   \n",
       "432                                                NaN   \n",
       "174                                                NaN   \n",
       "106                                                NaN   \n",
       "76                                                 NaN   \n",
       "290                              Stabilité de l'emploi   \n",
       "263                                                NaN   \n",
       "309                                                NaN   \n",
       "14                                                 NaN   \n",
       "360  C'est quand même un peu n'impporte quoi comme ...   \n",
       "218  Pouvoir continuer a exercer une activité au se...   \n",
       "142                                                NaN   \n",
       "143  Ne produire que du code métier pertinent avec ...   \n",
       "31                                                 NaN   \n",
       "77                                                 NaN   \n",
       "284                                                NaN   \n",
       "358                                                NaN   \n",
       "139                                                NaN   \n",
       "386  (aucune de ces conditions n'est rédhibitoire i...   \n",
       "291                                                NaN   \n",
       "\n",
       "                radio-genre            radio-metiers  \\\n",
       "29                 Un homme       Design de services   \n",
       "432                Un homme   Développement frontend   \n",
       "174                Un homme  Développement fullstack   \n",
       "106                Un homme  Développement fullstack   \n",
       "76                Une femme            Communication   \n",
       "290                Un homme   Administration système   \n",
       "263                Un homme   Administration système   \n",
       "309                Un homme                    Autre   \n",
       "14                 Un homme  Développement fullstack   \n",
       "360  Refuse de se prononcer   Administration système   \n",
       "218                Un homme                    Autre   \n",
       "142                Un homme       Product management   \n",
       "143                Un homme                    Autre   \n",
       "31   Refuse de se prononcer  Développement fullstack   \n",
       "77                Une femme       Design de services   \n",
       "284                Un homme       Design de services   \n",
       "358               Une femme           Data scientist   \n",
       "139                Un homme  Développement fullstack   \n",
       "386               Une femme       Product management   \n",
       "291                Un homme   Administration système   \n",
       "\n",
       "                                     text-autre-metier  number-experience  \\\n",
       "29                                                 NaN               10.0   \n",
       "432                                                NaN               10.0   \n",
       "174                                                NaN               15.0   \n",
       "106                                                NaN                3.0   \n",
       "76                                                 NaN               15.0   \n",
       "290                                                NaN               19.0   \n",
       "263                                                NaN               20.0   \n",
       "309        Conseil Données / transformation numérique                10.0   \n",
       "14                                                 NaN               25.0   \n",
       "360                                                NaN               10.0   \n",
       "218              Chef de projet // Responsable Digital                6.0   \n",
       "142                                                NaN                3.0   \n",
       "143  Fonctionnaire, développeur et  architecte SI. ...               40.0   \n",
       "31                                                 NaN                3.0   \n",
       "77                                                 NaN                8.0   \n",
       "284                                                NaN                3.0   \n",
       "358                                                NaN               13.0   \n",
       "139                                                NaN                8.0   \n",
       "386                                                NaN                8.0   \n",
       "291                                                NaN               20.0   \n",
       "\n",
       "                          date  \n",
       "29   2019-07-21T18:02:28+00:00  \n",
       "432  2019-07-01T11:58:29+00:00  \n",
       "174  2019-07-03T18:49:11+00:00  \n",
       "106  2019-07-08T18:35:59+00:00  \n",
       "76   2019-07-19T08:10:56+00:00  \n",
       "290  2019-07-02T13:06:19+00:00  \n",
       "263  2019-07-03T07:56:13+00:00  \n",
       "309  2019-07-02T08:25:37+00:00  \n",
       "14   2019-07-21T22:41:44+00:00  \n",
       "360  2019-07-01T20:00:17+00:00  \n",
       "218  2019-07-03T09:32:40+00:00  \n",
       "142  2019-07-04T11:32:47+00:00  \n",
       "143  2019-07-04T10:53:07+00:00  \n",
       "31   2019-07-21T17:39:42+00:00  \n",
       "77   2019-07-19T07:35:04+00:00  \n",
       "284  2019-07-02T14:49:00+00:00  \n",
       "358  2019-07-01T20:04:02+00:00  \n",
       "139  2019-07-04T12:05:59+00:00  \n",
       "386  2019-07-01T16:57:38+00:00  \n",
       "291  2019-07-02T13:05:27+00:00  "
      ]
     },
     "execution_count": 5,
     "metadata": {},
     "output_type": "execute_result"
    }
   ],
   "source": [
    "public_digital_df.sample(20)"
   ]
  },
  {
   "cell_type": "markdown",
   "id": "fd5e0aa2-a766-44cf-9476-09d32548d245",
   "metadata": {},
   "source": [
    "<span style=\"color: white; font-weight: bold; font-size: 50px;\">Valeurs maquantes</span>"
   ]
  },
  {
   "cell_type": "code",
   "execution_count": 6,
   "id": "040122f7-173f-4697-ae1f-34e504a13465",
   "metadata": {},
   "outputs": [
    {
     "data": {
      "text/html": [
       "<div>\n",
       "<style scoped>\n",
       "    .dataframe tbody tr th:only-of-type {\n",
       "        vertical-align: middle;\n",
       "    }\n",
       "\n",
       "    .dataframe tbody tr th {\n",
       "        vertical-align: top;\n",
       "    }\n",
       "\n",
       "    .dataframe thead th {\n",
       "        text-align: right;\n",
       "    }\n",
       "</style>\n",
       "<table border=\"1\" class=\"dataframe\">\n",
       "  <thead>\n",
       "    <tr style=\"text-align: right;\">\n",
       "      <th></th>\n",
       "      <th>checkbox-themes</th>\n",
       "      <th>radio-consulter-offres-publiques</th>\n",
       "      <th>radio-rejoindre</th>\n",
       "      <th>checkbox-pourquoi</th>\n",
       "      <th>checkbox-souhaits</th>\n",
       "      <th>radio-type-contrat</th>\n",
       "      <th>radio-lieu</th>\n",
       "      <th>text-lieu</th>\n",
       "      <th>number-salaire-min</th>\n",
       "      <th>number-salaire-souhait</th>\n",
       "      <th>checkbox-acceptation</th>\n",
       "      <th>text-condition</th>\n",
       "      <th>radio-genre</th>\n",
       "      <th>radio-metiers</th>\n",
       "      <th>text-autre-metier</th>\n",
       "      <th>number-experience</th>\n",
       "      <th>date</th>\n",
       "    </tr>\n",
       "  </thead>\n",
       "  <tbody>\n",
       "    <tr>\n",
       "      <th>count</th>\n",
       "      <td>448</td>\n",
       "      <td>448</td>\n",
       "      <td>448</td>\n",
       "      <td>448</td>\n",
       "      <td>448</td>\n",
       "      <td>448</td>\n",
       "      <td>448</td>\n",
       "      <td>448</td>\n",
       "      <td>448</td>\n",
       "      <td>448</td>\n",
       "      <td>448</td>\n",
       "      <td>448</td>\n",
       "      <td>448</td>\n",
       "      <td>448</td>\n",
       "      <td>448</td>\n",
       "      <td>448</td>\n",
       "      <td>448</td>\n",
       "    </tr>\n",
       "    <tr>\n",
       "      <th>unique</th>\n",
       "      <td>1</td>\n",
       "      <td>1</td>\n",
       "      <td>1</td>\n",
       "      <td>1</td>\n",
       "      <td>1</td>\n",
       "      <td>1</td>\n",
       "      <td>1</td>\n",
       "      <td>2</td>\n",
       "      <td>1</td>\n",
       "      <td>1</td>\n",
       "      <td>1</td>\n",
       "      <td>2</td>\n",
       "      <td>1</td>\n",
       "      <td>1</td>\n",
       "      <td>2</td>\n",
       "      <td>1</td>\n",
       "      <td>1</td>\n",
       "    </tr>\n",
       "    <tr>\n",
       "      <th>top</th>\n",
       "      <td>False</td>\n",
       "      <td>False</td>\n",
       "      <td>False</td>\n",
       "      <td>False</td>\n",
       "      <td>False</td>\n",
       "      <td>False</td>\n",
       "      <td>False</td>\n",
       "      <td>False</td>\n",
       "      <td>False</td>\n",
       "      <td>False</td>\n",
       "      <td>False</td>\n",
       "      <td>True</td>\n",
       "      <td>False</td>\n",
       "      <td>False</td>\n",
       "      <td>True</td>\n",
       "      <td>False</td>\n",
       "      <td>False</td>\n",
       "    </tr>\n",
       "    <tr>\n",
       "      <th>freq</th>\n",
       "      <td>448</td>\n",
       "      <td>448</td>\n",
       "      <td>448</td>\n",
       "      <td>448</td>\n",
       "      <td>448</td>\n",
       "      <td>448</td>\n",
       "      <td>448</td>\n",
       "      <td>271</td>\n",
       "      <td>448</td>\n",
       "      <td>448</td>\n",
       "      <td>448</td>\n",
       "      <td>371</td>\n",
       "      <td>448</td>\n",
       "      <td>448</td>\n",
       "      <td>312</td>\n",
       "      <td>448</td>\n",
       "      <td>448</td>\n",
       "    </tr>\n",
       "  </tbody>\n",
       "</table>\n",
       "</div>"
      ],
      "text/plain": [
       "       checkbox-themes radio-consulter-offres-publiques radio-rejoindre  \\\n",
       "count              448                              448             448   \n",
       "unique               1                                1               1   \n",
       "top              False                            False           False   \n",
       "freq               448                              448             448   \n",
       "\n",
       "       checkbox-pourquoi checkbox-souhaits radio-type-contrat radio-lieu  \\\n",
       "count                448               448                448        448   \n",
       "unique                 1                 1                  1          1   \n",
       "top                False             False              False      False   \n",
       "freq                 448               448                448        448   \n",
       "\n",
       "       text-lieu number-salaire-min number-salaire-souhait  \\\n",
       "count        448                448                    448   \n",
       "unique         2                  1                      1   \n",
       "top        False              False                  False   \n",
       "freq         271                448                    448   \n",
       "\n",
       "       checkbox-acceptation text-condition radio-genre radio-metiers  \\\n",
       "count                   448            448         448           448   \n",
       "unique                    1              2           1             1   \n",
       "top                   False           True       False         False   \n",
       "freq                    448            371         448           448   \n",
       "\n",
       "       text-autre-metier number-experience   date  \n",
       "count                448               448    448  \n",
       "unique                 2                 1      1  \n",
       "top                 True             False  False  \n",
       "freq                 312               448    448  "
      ]
     },
     "execution_count": 6,
     "metadata": {},
     "output_type": "execute_result"
    }
   ],
   "source": [
    "public_digital_df.isnull().describe() #.isnull retourne true ou false s'il y a une valeur maquante ou pas"
   ]
  },
  {
   "cell_type": "markdown",
   "id": "3830c92f-44f1-4989-9c9c-82113af669d6",
   "metadata": {},
   "source": [
    "<span style=\"color: white; font-weight: bold; font-size: 50px;\">Typage de pandas non adapté aux analyses statistique</span>"
   ]
  },
  {
   "cell_type": "code",
   "execution_count": 7,
   "id": "61894e80-392a-43bc-a8b2-e57621e1a11f",
   "metadata": {},
   "outputs": [
    {
     "name": "stdout",
     "output_type": "stream",
     "text": [
      "<class 'pandas.core.frame.DataFrame'>\n",
      "RangeIndex: 448 entries, 0 to 447\n",
      "Data columns (total 17 columns):\n",
      " #   Column                            Non-Null Count  Dtype  \n",
      "---  ------                            --------------  -----  \n",
      " 0   checkbox-themes                   448 non-null    object \n",
      " 1   radio-consulter-offres-publiques  448 non-null    object \n",
      " 2   radio-rejoindre                   448 non-null    object \n",
      " 3   checkbox-pourquoi                 448 non-null    object \n",
      " 4   checkbox-souhaits                 448 non-null    object \n",
      " 5   radio-type-contrat                448 non-null    object \n",
      " 6   radio-lieu                        448 non-null    object \n",
      " 7   text-lieu                         271 non-null    object \n",
      " 8   number-salaire-min                448 non-null    int64  \n",
      " 9   number-salaire-souhait            448 non-null    int64  \n",
      " 10  checkbox-acceptation              448 non-null    object \n",
      " 11  text-condition                    77 non-null     object \n",
      " 12  radio-genre                       448 non-null    object \n",
      " 13  radio-metiers                     448 non-null    object \n",
      " 14  text-autre-metier                 136 non-null    object \n",
      " 15  number-experience                 448 non-null    float64\n",
      " 16  date                              448 non-null    object \n",
      "dtypes: float64(1), int64(2), object(14)\n",
      "memory usage: 59.6+ KB\n"
     ]
    }
   ],
   "source": [
    "public_digital_df.info()"
   ]
  },
  {
   "cell_type": "code",
   "execution_count": null,
   "id": "48914a03-2bb4-4f28-ac3c-5c9526cfa63d",
   "metadata": {},
   "outputs": [],
   "source": []
  },
  {
   "cell_type": "code",
   "execution_count": 8,
   "id": "4c50d6b4-cc3f-4523-9b9c-855dbe070cf3",
   "metadata": {},
   "outputs": [],
   "source": [
    "non_date_text_columns = [column for column in public_digital_df \n",
    "                         if (not column.startswith(\"text-\")) and (column != \"date\")]\n"
   ]
  },
  {
   "cell_type": "code",
   "execution_count": 9,
   "id": "b216d6ec-946c-4b92-8360-03baf2cd6746",
   "metadata": {},
   "outputs": [
    {
     "data": {
      "text/plain": [
       "['checkbox-themes',\n",
       " 'radio-consulter-offres-publiques',\n",
       " 'radio-rejoindre',\n",
       " 'checkbox-pourquoi',\n",
       " 'checkbox-souhaits',\n",
       " 'radio-type-contrat',\n",
       " 'radio-lieu',\n",
       " 'number-salaire-min',\n",
       " 'number-salaire-souhait',\n",
       " 'checkbox-acceptation',\n",
       " 'radio-genre',\n",
       " 'radio-metiers',\n",
       " 'number-experience']"
      ]
     },
     "execution_count": 9,
     "metadata": {},
     "output_type": "execute_result"
    }
   ],
   "source": [
    "non_date_text_columns"
   ]
  },
  {
   "cell_type": "code",
   "execution_count": 10,
   "id": "08db004d-c7d7-4a45-a51f-845c3625dbfb",
   "metadata": {},
   "outputs": [
    {
     "name": "stdout",
     "output_type": "stream",
     "text": [
      "checkbox-themes\n",
      "nombre de valeurs uniques 344\n",
      "****\n",
      "radio-consulter-offres-publiques\n",
      "nombre de valeurs uniques 2\n",
      "****\n",
      "radio-rejoindre\n",
      "nombre de valeurs uniques 3\n",
      "****\n",
      "checkbox-pourquoi\n",
      "nombre de valeurs uniques 76\n",
      "****\n",
      "checkbox-souhaits\n",
      "nombre de valeurs uniques 15\n",
      "****\n",
      "radio-type-contrat\n",
      "nombre de valeurs uniques 3\n",
      "****\n",
      "radio-lieu\n",
      "nombre de valeurs uniques 3\n",
      "****\n",
      "number-salaire-min\n",
      "nombre de valeurs uniques 52\n",
      "****\n",
      "number-salaire-souhait\n",
      "nombre de valeurs uniques 59\n",
      "****\n",
      "checkbox-acceptation\n",
      "nombre de valeurs uniques 361\n",
      "****\n",
      "radio-genre\n",
      "nombre de valeurs uniques 3\n",
      "****\n",
      "radio-metiers\n",
      "nombre de valeurs uniques 12\n",
      "****\n",
      "number-experience\n",
      "nombre de valeurs uniques 34\n",
      "****\n"
     ]
    }
   ],
   "source": [
    "len(non_date_text_columns)\n",
    "\n",
    "for column in non_date_text_columns:\n",
    "    print(column)\n",
    "    print(\"nombre de valeurs uniques\", public_digital_df[column].nunique())\n",
    "    print('****')\n"
   ]
  },
  {
   "cell_type": "code",
   "execution_count": 11,
   "id": "8f331791-638e-44ac-a992-778f7d2fd27d",
   "metadata": {},
   "outputs": [
    {
     "data": {
      "text/plain": [
       "['radio-type-contrat', 'radio-rejoindre']"
      ]
     },
     "execution_count": 11,
     "metadata": {},
     "output_type": "execute_result"
    }
   ],
   "source": [
    "variables_qualitatives_ordinales = [\"radio-type-contrat\", \"radio-rejoindre\"]\n",
    "variables_qualitatives_ordinales\n"
   ]
  },
  {
   "cell_type": "code",
   "execution_count": 12,
   "id": "7214f48b-61a2-4293-92fd-50963e18af33",
   "metadata": {},
   "outputs": [
    {
     "data": {
      "text/plain": [
       "['radio-genre',\n",
       " 'radio-metiers',\n",
       " 'radio-lieu',\n",
       " 'radio-consulter-offres-publiques',\n",
       " 'checkbox-themes',\n",
       " 'checkbox-souhaits',\n",
       " 'checkbox-acceptation',\n",
       " 'checkbox-pourquoi']"
      ]
     },
     "execution_count": 12,
     "metadata": {},
     "output_type": "execute_result"
    }
   ],
   "source": [
    "variables_qualitatives_nominales = [\"radio-genre\", \"radio-metiers\", \"radio-lieu\", \n",
    "                                    \"radio-consulter-offres-publiques\", \"checkbox-themes\", \n",
    "                                    \"checkbox-souhaits\", \"checkbox-acceptation\", \n",
    "                                    \"checkbox-pourquoi\"]  # Visiblement chaque modalité est une combinaison de modalités\n",
    "variables_qualitatives_nominales"
   ]
  },
  {
   "cell_type": "code",
   "execution_count": 13,
   "id": "5063b07a-4e59-4c5d-98e7-f909bd027c82",
   "metadata": {},
   "outputs": [
    {
     "data": {
      "text/plain": [
       "['number-experience']"
      ]
     },
     "execution_count": 13,
     "metadata": {},
     "output_type": "execute_result"
    }
   ],
   "source": [
    "variables_quantitatives_discretes = [\"number-experience\"]\n",
    "variables_quantitatives_discretes"
   ]
  },
  {
   "cell_type": "code",
   "execution_count": 14,
   "id": "3e7c5245-47f8-4aa7-af2c-47bba4aa0c08",
   "metadata": {},
   "outputs": [
    {
     "data": {
      "text/plain": [
       "['number-salaire-min', 'number-salaire-souhait']"
      ]
     },
     "execution_count": 14,
     "metadata": {},
     "output_type": "execute_result"
    }
   ],
   "source": [
    "variables_quantitatives_continues = [\"number-salaire-min\", \"number-salaire-souhait\"]\n",
    "variables_quantitatives_continues"
   ]
  },
  {
   "cell_type": "code",
   "execution_count": 15,
   "id": "176f35ae-534c-4d18-aad4-d3c555344679",
   "metadata": {},
   "outputs": [
    {
     "data": {
      "text/plain": [
       "0                 Oui\n",
       "1      Je ne sais pas\n",
       "2                 Oui\n",
       "3      Je ne sais pas\n",
       "4                 Oui\n",
       "            ...      \n",
       "443               Oui\n",
       "444               Oui\n",
       "445               Non\n",
       "446               Oui\n",
       "447    Je ne sais pas\n",
       "Name: radio-rejoindre, Length: 448, dtype: object"
      ]
     },
     "execution_count": 15,
     "metadata": {},
     "output_type": "execute_result"
    }
   ],
   "source": [
    "public_digital_df[\"radio-rejoindre\"]"
   ]
  },
  {
   "cell_type": "code",
   "execution_count": 16,
   "id": "5eb45f68-01c0-4e04-af86-306188b9abde",
   "metadata": {},
   "outputs": [],
   "source": [
    "public_digital_df[\"radio-rejoindre\"] = pd.Categorical(public_digital_df[\"radio-rejoindre\"], \n",
    "                                                      categories=[\"Oui\", \"Je ne sais pas\", \"Non\"], \n",
    "                                                      ordered=False)"
   ]
  },
  {
   "cell_type": "code",
   "execution_count": 17,
   "id": "296a778d-6481-4f6d-b2ed-21d59d761ca6",
   "metadata": {},
   "outputs": [
    {
     "data": {
      "text/plain": [
       "0                 Oui\n",
       "1      Je ne sais pas\n",
       "2                 Oui\n",
       "3      Je ne sais pas\n",
       "4                 Oui\n",
       "            ...      \n",
       "443               Oui\n",
       "444               Oui\n",
       "445               Non\n",
       "446               Oui\n",
       "447    Je ne sais pas\n",
       "Name: radio-rejoindre, Length: 448, dtype: category\n",
       "Categories (3, object): ['Oui', 'Je ne sais pas', 'Non']"
      ]
     },
     "execution_count": 17,
     "metadata": {},
     "output_type": "execute_result"
    }
   ],
   "source": [
    "public_digital_df[\"radio-rejoindre\"]"
   ]
  },
  {
   "cell_type": "code",
   "execution_count": 18,
   "id": "0d65e99d-b208-4528-86d7-930bcc31e972",
   "metadata": {},
   "outputs": [],
   "source": [
    "public_digital_df[\"radio-type-contrat\"] = pd.Categorical(public_digital_df[\"radio-type-contrat\"], \n",
    "                                                         categories=[\"CDI\", \"CDD (2-3 ans)\", \"Freelance, portage salarial\"], \n",
    "                                                         ordered=False)"
   ]
  },
  {
   "cell_type": "code",
   "execution_count": 19,
   "id": "5c9a0ff4-7281-4bdc-ab1f-352333c1da96",
   "metadata": {},
   "outputs": [
    {
     "data": {
      "text/plain": [
       "0                    CDD (2-3 ans)\n",
       "1                              CDI\n",
       "2                    CDD (2-3 ans)\n",
       "3                              CDI\n",
       "4                              CDI\n",
       "                  ...             \n",
       "443    Freelance, portage salarial\n",
       "444                  CDD (2-3 ans)\n",
       "445                            CDI\n",
       "446                            CDI\n",
       "447                  CDD (2-3 ans)\n",
       "Name: radio-type-contrat, Length: 448, dtype: category\n",
       "Categories (3, object): ['CDI', 'CDD (2-3 ans)', 'Freelance, portage salarial']"
      ]
     },
     "execution_count": 19,
     "metadata": {},
     "output_type": "execute_result"
    }
   ],
   "source": [
    "public_digital_df[\"radio-type-contrat\"]"
   ]
  },
  {
   "cell_type": "markdown",
   "id": "12bf11ad-3889-443e-8915-ef211cfde2db",
   "metadata": {},
   "source": [
    "<span style=\"color: white; font-weight: bold; font-size: 50px;\">Frequences</span>"
   ]
  },
  {
   "cell_type": "markdown",
   "id": "4862ea7f-a57d-44db-a1f0-9e6460b12846",
   "metadata": {},
   "source": [
    "<span style=\"color: white; font-weight: bold; font-size: 50px;\">Volonté de rejoindre (variable qualitative ordinale)</span>"
   ]
  },
  {
   "cell_type": "code",
   "execution_count": 20,
   "id": "4d638fea-2572-47c8-a7dc-bb4ca9f877e6",
   "metadata": {},
   "outputs": [
    {
     "data": {
      "text/plain": [
       "radio-rejoindre\n",
       "Je ne sais pas    0.47\n",
       "Oui               0.42\n",
       "Non               0.11\n",
       "Name: proportion, dtype: float64"
      ]
     },
     "execution_count": 20,
     "metadata": {},
     "output_type": "execute_result"
    }
   ],
   "source": [
    "public_digital_df[\"radio-rejoindre\"].value_counts(normalize=True).round(2)"
   ]
  },
  {
   "cell_type": "code",
   "execution_count": 21,
   "id": "32434034-108b-4d89-be6e-66b5b198d0f9",
   "metadata": {},
   "outputs": [
    {
     "data": {
      "text/html": [
       "<div>\n",
       "<style scoped>\n",
       "    .dataframe tbody tr th:only-of-type {\n",
       "        vertical-align: middle;\n",
       "    }\n",
       "\n",
       "    .dataframe tbody tr th {\n",
       "        vertical-align: top;\n",
       "    }\n",
       "\n",
       "    .dataframe thead th {\n",
       "        text-align: right;\n",
       "    }\n",
       "</style>\n",
       "<table border=\"1\" class=\"dataframe\">\n",
       "  <thead>\n",
       "    <tr style=\"text-align: right;\">\n",
       "      <th></th>\n",
       "      <th>proportion</th>\n",
       "    </tr>\n",
       "    <tr>\n",
       "      <th>radio-rejoindre</th>\n",
       "      <th></th>\n",
       "    </tr>\n",
       "  </thead>\n",
       "  <tbody>\n",
       "    <tr>\n",
       "      <th>Je ne sais pas</th>\n",
       "      <td>0.47</td>\n",
       "    </tr>\n",
       "    <tr>\n",
       "      <th>Oui</th>\n",
       "      <td>0.42</td>\n",
       "    </tr>\n",
       "    <tr>\n",
       "      <th>Non</th>\n",
       "      <td>0.11</td>\n",
       "    </tr>\n",
       "  </tbody>\n",
       "</table>\n",
       "</div>"
      ],
      "text/plain": [
       "                 proportion\n",
       "radio-rejoindre            \n",
       "Je ne sais pas         0.47\n",
       "Oui                    0.42\n",
       "Non                    0.11"
      ]
     },
     "execution_count": 21,
     "metadata": {},
     "output_type": "execute_result"
    }
   ],
   "source": [
    "public_digital_df[\"radio-rejoindre\"].value_counts(normalize=True).round(2).to_frame()"
   ]
  },
  {
   "cell_type": "code",
   "execution_count": 22,
   "id": "9489c65c-81ea-466f-b6d7-38d43248b815",
   "metadata": {},
   "outputs": [
    {
     "data": {
      "text/plain": [
       "<Axes: ylabel='proportion'>"
      ]
     },
     "execution_count": 22,
     "metadata": {},
     "output_type": "execute_result"
    },
    {
     "data": {
      "image/png": "[encoded data removed]",
      "text/plain": [
       "<Figure size 640x480 with 1 Axes>"
      ]
     },
     "metadata": {},
     "output_type": "display_data"
    }
   ],
   "source": [
    "public_digital_df[\"radio-rejoindre\"].value_counts(normalize=True).round(2).plot(kind=\"pie\")"
   ]
  },
  {
   "cell_type": "code",
   "execution_count": 23,
   "id": "56de9806-7a9c-431e-83f0-b6c2e4a59248",
   "metadata": {},
   "outputs": [
    {
     "data": {
      "text/plain": [
       "<Axes: xlabel='radio-rejoindre'>"
      ]
     },
     "execution_count": 23,
     "metadata": {},
     "output_type": "execute_result"
    },
    {
     "data": {
      "image/png": "[encoded data removed]",
      "text/plain": [
       "<Figure size 640x480 with 1 Axes>"
      ]
     },
     "metadata": {},
     "output_type": "display_data"
    }
   ],
   "source": [
    "public_digital_df[\"radio-rejoindre\"].value_counts(normalize=True).round(2).plot(kind=\"bar\")\n"
   ]
  },
  {
   "cell_type": "code",
   "execution_count": 24,
   "id": "51ba4017-17d0-4ff6-8c07-bcec54038d82",
   "metadata": {},
   "outputs": [
    {
     "data": {
      "text/plain": [
       "<Axes: xlabel='radio-rejoindre'>"
      ]
     },
     "execution_count": 24,
     "metadata": {},
     "output_type": "execute_result"
    },
    {
     "data": {
      "image/png": "[encoded data removed]",
      "text/plain": [
       "<Figure size 640x480 with 1 Axes>"
      ]
     },
     "metadata": {},
     "output_type": "display_data"
    }
   ],
   "source": [
    "public_digital_df[\"radio-rejoindre\"].value_counts(normalize=True).round(2).sort_index().plot(kind=\"bar\")\n"
   ]
  },
  {
   "cell_type": "markdown",
   "id": "4df23f7e-8519-42c1-95a8-fc8b5fea2135",
   "metadata": {},
   "source": [
    "<span style=\"color: white; font-weight: bold; font-size: 50px;\">variable qualitative nominale</span>"
   ]
  },
  {
   "cell_type": "code",
   "execution_count": 25,
   "id": "21f58e24-75bc-44e6-a667-fc2f63248313",
   "metadata": {},
   "outputs": [
    {
     "data": {
      "text/html": [
       "<div>\n",
       "<style scoped>\n",
       "    .dataframe tbody tr th:only-of-type {\n",
       "        vertical-align: middle;\n",
       "    }\n",
       "\n",
       "    .dataframe tbody tr th {\n",
       "        vertical-align: top;\n",
       "    }\n",
       "\n",
       "    .dataframe thead th {\n",
       "        text-align: right;\n",
       "    }\n",
       "</style>\n",
       "<table border=\"1\" class=\"dataframe\">\n",
       "  <thead>\n",
       "    <tr style=\"text-align: right;\">\n",
       "      <th></th>\n",
       "      <th>proportion</th>\n",
       "    </tr>\n",
       "    <tr>\n",
       "      <th>radio-metiers</th>\n",
       "      <th></th>\n",
       "    </tr>\n",
       "  </thead>\n",
       "  <tbody>\n",
       "    <tr>\n",
       "      <th>Autre</th>\n",
       "      <td>0.24</td>\n",
       "    </tr>\n",
       "    <tr>\n",
       "      <th>Développement fullstack</th>\n",
       "      <td>0.20</td>\n",
       "    </tr>\n",
       "    <tr>\n",
       "      <th>Data scientist</th>\n",
       "      <td>0.13</td>\n",
       "    </tr>\n",
       "    <tr>\n",
       "      <th>Product management</th>\n",
       "      <td>0.10</td>\n",
       "    </tr>\n",
       "    <tr>\n",
       "      <th>Administration système</th>\n",
       "      <td>0.09</td>\n",
       "    </tr>\n",
       "    <tr>\n",
       "      <th>Développement backend</th>\n",
       "      <td>0.08</td>\n",
       "    </tr>\n",
       "    <tr>\n",
       "      <th>Design de services</th>\n",
       "      <td>0.04</td>\n",
       "    </tr>\n",
       "    <tr>\n",
       "      <th>Communication</th>\n",
       "      <td>0.04</td>\n",
       "    </tr>\n",
       "    <tr>\n",
       "      <th>Marketing</th>\n",
       "      <td>0.03</td>\n",
       "    </tr>\n",
       "    <tr>\n",
       "      <th>Développement frontend</th>\n",
       "      <td>0.02</td>\n",
       "    </tr>\n",
       "    <tr>\n",
       "      <th>Design UI/UX</th>\n",
       "      <td>0.02</td>\n",
       "    </tr>\n",
       "    <tr>\n",
       "      <th>Développement mobile</th>\n",
       "      <td>0.01</td>\n",
       "    </tr>\n",
       "  </tbody>\n",
       "</table>\n",
       "</div>"
      ],
      "text/plain": [
       "                         proportion\n",
       "radio-metiers                      \n",
       "Autre                          0.24\n",
       "Développement fullstack        0.20\n",
       "Data scientist                 0.13\n",
       "Product management             0.10\n",
       "Administration système         0.09\n",
       "Développement backend          0.08\n",
       "Design de services             0.04\n",
       "Communication                  0.04\n",
       "Marketing                      0.03\n",
       "Développement frontend         0.02\n",
       "Design UI/UX                   0.02\n",
       "Développement mobile           0.01"
      ]
     },
     "execution_count": 25,
     "metadata": {},
     "output_type": "execute_result"
    }
   ],
   "source": [
    "public_digital_df[\"radio-metiers\"].value_counts(normalize=True).round(2).to_frame()\n"
   ]
  },
  {
   "cell_type": "code",
   "execution_count": 26,
   "id": "1f383eca-dedf-4fe4-9e1a-f16d3085a2a4",
   "metadata": {},
   "outputs": [
    {
     "data": {
      "text/plain": [
       "<Axes: ylabel='proportion'>"
      ]
     },
     "execution_count": 26,
     "metadata": {},
     "output_type": "execute_result"
    },
    {
     "data": {
      "image/png": "[encoded data removed]",
      "text/plain": [
       "<Figure size 640x480 with 1 Axes>"
      ]
     },
     "metadata": {},
     "output_type": "display_data"
    }
   ],
   "source": [
    "public_digital_df[\"radio-metiers\"].value_counts(normalize=True).round(2).plot(kind=\"pie\")"
   ]
  },
  {
   "cell_type": "code",
   "execution_count": 27,
   "id": "494705b1-fb0b-48a9-94af-8ebcfac438b6",
   "metadata": {},
   "outputs": [
    {
     "data": {
      "text/plain": [
       "<Axes: xlabel='radio-metiers'>"
      ]
     },
     "execution_count": 27,
     "metadata": {},
     "output_type": "execute_result"
    },
    {
     "data": {
      "image/png": "[encoded data removed]",
      "text/plain": [
       "<Figure size 640x480 with 1 Axes>"
      ]
     },
     "metadata": {},
     "output_type": "display_data"
    }
   ],
   "source": [
    "public_digital_df[\"radio-metiers\"].value_counts(normalize=True).round(2).plot(kind=\"bar\")\n"
   ]
  },
  {
   "cell_type": "code",
   "execution_count": 28,
   "id": "7a3b8ccb-b5ea-4a45-87d4-22a950d07688",
   "metadata": {},
   "outputs": [
    {
     "data": {
      "text/plain": [
       "<Axes: xlabel='radio-metiers'>"
      ]
     },
     "execution_count": 28,
     "metadata": {},
     "output_type": "execute_result"
    },
    {
     "data": {
      "image/png": "[encoded data removed]",
      "text/plain": [
       "<Figure size 640x480 with 1 Axes>"
      ]
     },
     "metadata": {},
     "output_type": "display_data"
    }
   ],
   "source": [
    "public_digital_df[\"radio-metiers\"].value_counts(normalize=True).round(2).sort_index().plot(kind=\"bar\")\n"
   ]
  },
  {
   "cell_type": "markdown",
   "id": "1ec433c9-97c5-4f41-8109-13ea2a80b4ed",
   "metadata": {},
   "source": [
    "<span style=\"color: white; font-weight: bold; font-size: 50px;\"> Experience variable quantitative discret</span>"
   ]
  },
  {
   "cell_type": "code",
   "execution_count": 29,
   "id": "9d9612de-3961-4dee-a19e-93a04bc8a83d",
   "metadata": {},
   "outputs": [
    {
     "data": {
      "text/html": [
       "<div>\n",
       "<style scoped>\n",
       "    .dataframe tbody tr th:only-of-type {\n",
       "        vertical-align: middle;\n",
       "    }\n",
       "\n",
       "    .dataframe tbody tr th {\n",
       "        vertical-align: top;\n",
       "    }\n",
       "\n",
       "    .dataframe thead th {\n",
       "        text-align: right;\n",
       "    }\n",
       "</style>\n",
       "<table border=\"1\" class=\"dataframe\">\n",
       "  <thead>\n",
       "    <tr style=\"text-align: right;\">\n",
       "      <th></th>\n",
       "      <th>proportion</th>\n",
       "    </tr>\n",
       "    <tr>\n",
       "      <th>number-experience</th>\n",
       "      <th></th>\n",
       "    </tr>\n",
       "  </thead>\n",
       "  <tbody>\n",
       "    <tr>\n",
       "      <th>10.0</th>\n",
       "      <td>0.12</td>\n",
       "    </tr>\n",
       "    <tr>\n",
       "      <th>20.0</th>\n",
       "      <td>0.12</td>\n",
       "    </tr>\n",
       "    <tr>\n",
       "      <th>3.0</th>\n",
       "      <td>0.10</td>\n",
       "    </tr>\n",
       "    <tr>\n",
       "      <th>5.0</th>\n",
       "      <td>0.07</td>\n",
       "    </tr>\n",
       "    <tr>\n",
       "      <th>8.0</th>\n",
       "      <td>0.07</td>\n",
       "    </tr>\n",
       "    <tr>\n",
       "      <th>1.0</th>\n",
       "      <td>0.06</td>\n",
       "    </tr>\n",
       "    <tr>\n",
       "      <th>11.0</th>\n",
       "      <td>0.05</td>\n",
       "    </tr>\n",
       "    <tr>\n",
       "      <th>12.0</th>\n",
       "      <td>0.05</td>\n",
       "    </tr>\n",
       "    <tr>\n",
       "      <th>15.0</th>\n",
       "      <td>0.05</td>\n",
       "    </tr>\n",
       "    <tr>\n",
       "      <th>2.0</th>\n",
       "      <td>0.04</td>\n",
       "    </tr>\n",
       "  </tbody>\n",
       "</table>\n",
       "</div>"
      ],
      "text/plain": [
       "                   proportion\n",
       "number-experience            \n",
       "10.0                     0.12\n",
       "20.0                     0.12\n",
       "3.0                      0.10\n",
       "5.0                      0.07\n",
       "8.0                      0.07\n",
       "1.0                      0.06\n",
       "11.0                     0.05\n",
       "12.0                     0.05\n",
       "15.0                     0.05\n",
       "2.0                      0.04"
      ]
     },
     "execution_count": 29,
     "metadata": {},
     "output_type": "execute_result"
    }
   ],
   "source": [
    "public_digital_df[\"number-experience\"].value_counts(normalize=True).round(2).to_frame().head(10)\n"
   ]
  },
  {
   "cell_type": "code",
   "execution_count": 30,
   "id": "8eed4fa7-8b48-4d35-98c5-2a6984498b04",
   "metadata": {},
   "outputs": [
    {
     "data": {
      "text/plain": [
       "<Axes: ylabel='proportion'>"
      ]
     },
     "execution_count": 30,
     "metadata": {},
     "output_type": "execute_result"
    },
    {
     "data": {
      "image/png": "[encoded data removed]",
      "text/plain": [
       "<Figure size 640x480 with 1 Axes>"
      ]
     },
     "metadata": {},
     "output_type": "display_data"
    }
   ],
   "source": [
    "public_digital_df[\"number-experience\"].value_counts(normalize=True).round(2).sort_index().plot(kind=\"pie\")"
   ]
  },
  {
   "cell_type": "markdown",
   "id": "4684c84c-64c2-4298-9205-8b9557a955f9",
   "metadata": {},
   "source": [
    "<span style=\"color: white; font-weight: bold; font-size: 50px;\"> La discretisation</span>"
   ]
  },
  {
   "cell_type": "code",
   "execution_count": 31,
   "id": "e364bcf9-bfac-40c4-bc07-8880a364a849",
   "metadata": {},
   "outputs": [
    {
     "data": {
      "text/html": [
       "<div>\n",
       "<style scoped>\n",
       "    .dataframe tbody tr th:only-of-type {\n",
       "        vertical-align: middle;\n",
       "    }\n",
       "\n",
       "    .dataframe tbody tr th {\n",
       "        vertical-align: top;\n",
       "    }\n",
       "\n",
       "    .dataframe thead th {\n",
       "        text-align: right;\n",
       "    }\n",
       "</style>\n",
       "<table border=\"1\" class=\"dataframe\">\n",
       "  <thead>\n",
       "    <tr style=\"text-align: right;\">\n",
       "      <th></th>\n",
       "      <th>proportion</th>\n",
       "    </tr>\n",
       "    <tr>\n",
       "      <th>number-experience</th>\n",
       "      <th></th>\n",
       "    </tr>\n",
       "  </thead>\n",
       "  <tbody>\n",
       "    <tr>\n",
       "      <th>(0.0, 2.0]</th>\n",
       "      <td>0.10</td>\n",
       "    </tr>\n",
       "    <tr>\n",
       "      <th>(2.0, 5.0]</th>\n",
       "      <td>0.21</td>\n",
       "    </tr>\n",
       "    <tr>\n",
       "      <th>(5.0, 10.0]</th>\n",
       "      <td>0.26</td>\n",
       "    </tr>\n",
       "    <tr>\n",
       "      <th>(10.0, 15.0]</th>\n",
       "      <td>0.19</td>\n",
       "    </tr>\n",
       "    <tr>\n",
       "      <th>(15.0, 20.0]</th>\n",
       "      <td>0.17</td>\n",
       "    </tr>\n",
       "    <tr>\n",
       "      <th>(20.0, inf]</th>\n",
       "      <td>0.08</td>\n",
       "    </tr>\n",
       "  </tbody>\n",
       "</table>\n",
       "</div>"
      ],
      "text/plain": [
       "                   proportion\n",
       "number-experience            \n",
       "(0.0, 2.0]               0.10\n",
       "(2.0, 5.0]               0.21\n",
       "(5.0, 10.0]              0.26\n",
       "(10.0, 15.0]             0.19\n",
       "(15.0, 20.0]             0.17\n",
       "(20.0, inf]              0.08"
      ]
     },
     "execution_count": 31,
     "metadata": {},
     "output_type": "execute_result"
    }
   ],
   "source": [
    "pd.cut(public_digital_df[\"number-experience\"], [0,2,5,10,15,20,np.inf]).value_counts(normalize=True).round(2).sort_index().to_frame()\n",
    "#entre 0 et 2 ans entre 2 et 5 disons c'est les confirment entre 5 et 10 ans les senior et entre 10 et 15 ans les managers etc\n",
    "# du coup apres dans le tableau voir 10 des gens qui ont entre 0 et 2 année d'expérience etc"
   ]
  },
  {
   "cell_type": "markdown",
   "id": "a55ef369-6bf2-4d36-9083-3a95e5b34156",
   "metadata": {
    "scrolled": true
   },
   "source": [
    "<span style=\"color: white; font-weight: bold; font-size: 50px;\"> Valeur quantitative continue</span>"
   ]
  },
  {
   "cell_type": "code",
   "execution_count": 32,
   "id": "66ee5e6d-142e-4c66-9d4b-f916d505dace",
   "metadata": {},
   "outputs": [
    {
     "data": {
      "text/html": [
       "<div>\n",
       "<style scoped>\n",
       "    .dataframe tbody tr th:only-of-type {\n",
       "        vertical-align: middle;\n",
       "    }\n",
       "\n",
       "    .dataframe tbody tr th {\n",
       "        vertical-align: top;\n",
       "    }\n",
       "\n",
       "    .dataframe thead th {\n",
       "        text-align: right;\n",
       "    }\n",
       "</style>\n",
       "<table border=\"1\" class=\"dataframe\">\n",
       "  <thead>\n",
       "    <tr style=\"text-align: right;\">\n",
       "      <th></th>\n",
       "      <th>proportion</th>\n",
       "    </tr>\n",
       "    <tr>\n",
       "      <th>number-salaire-min</th>\n",
       "      <th></th>\n",
       "    </tr>\n",
       "  </thead>\n",
       "  <tbody>\n",
       "    <tr>\n",
       "      <th>(0.0, 2000.0]</th>\n",
       "      <td>0.18</td>\n",
       "    </tr>\n",
       "    <tr>\n",
       "      <th>(2000.0, 3000.0]</th>\n",
       "      <td>0.50</td>\n",
       "    </tr>\n",
       "    <tr>\n",
       "      <th>(3000.0, 4000.0]</th>\n",
       "      <td>0.22</td>\n",
       "    </tr>\n",
       "    <tr>\n",
       "      <th>(4000.0, 5000.0]</th>\n",
       "      <td>0.07</td>\n",
       "    </tr>\n",
       "    <tr>\n",
       "      <th>(5000.0, inf]</th>\n",
       "      <td>0.04</td>\n",
       "    </tr>\n",
       "  </tbody>\n",
       "</table>\n",
       "</div>"
      ],
      "text/plain": [
       "                    proportion\n",
       "number-salaire-min            \n",
       "(0.0, 2000.0]             0.18\n",
       "(2000.0, 3000.0]          0.50\n",
       "(3000.0, 4000.0]          0.22\n",
       "(4000.0, 5000.0]          0.07\n",
       "(5000.0, inf]             0.04"
      ]
     },
     "execution_count": 32,
     "metadata": {},
     "output_type": "execute_result"
    }
   ],
   "source": [
    "pd.cut(public_digital_df[\"number-salaire-min\"], [0,2000,3000,4000,5000,np.inf]).value_counts(normalize=True).round(2).sort_index().to_frame()\n",
    "#cut pour couper en intervalle"
   ]
  },
  {
   "cell_type": "code",
   "execution_count": 33,
   "id": "de39e7f6-12f8-41a3-973a-8ef5be0d404f",
   "metadata": {},
   "outputs": [
    {
     "data": {
      "text/plain": [
       "<Axes: ylabel='proportion'>"
      ]
     },
     "execution_count": 33,
     "metadata": {},
     "output_type": "execute_result"
    },
    {
     "data": {
      "image/png": "[encoded data removed]",
      "text/plain": [
       "<Figure size 640x480 with 1 Axes>"
      ]
     },
     "metadata": {},
     "output_type": "display_data"
    }
   ],
   "source": [
    "pd.cut(public_digital_df[\"number-salaire-min\"], [0,2000,3000,4000,5000,np.inf]).value_counts(normalize=True).round(2).plot(kind=\"pie\")"
   ]
  },
  {
   "cell_type": "code",
   "execution_count": 34,
   "id": "e94b708e-8c81-49f9-89bf-364fe2ec8c9b",
   "metadata": {},
   "outputs": [
    {
     "data": {
      "text/html": [
       "<div>\n",
       "<style scoped>\n",
       "    .dataframe tbody tr th:only-of-type {\n",
       "        vertical-align: middle;\n",
       "    }\n",
       "\n",
       "    .dataframe tbody tr th {\n",
       "        vertical-align: top;\n",
       "    }\n",
       "\n",
       "    .dataframe thead th {\n",
       "        text-align: right;\n",
       "    }\n",
       "</style>\n",
       "<table border=\"1\" class=\"dataframe\">\n",
       "  <thead>\n",
       "    <tr style=\"text-align: right;\">\n",
       "      <th>radio-metiers</th>\n",
       "      <th>Administration système</th>\n",
       "      <th>Autre</th>\n",
       "      <th>Communication</th>\n",
       "      <th>Data scientist</th>\n",
       "      <th>Design UI/UX</th>\n",
       "      <th>Design de services</th>\n",
       "      <th>Développement backend</th>\n",
       "      <th>Développement frontend</th>\n",
       "      <th>Développement fullstack</th>\n",
       "      <th>Développement mobile</th>\n",
       "      <th>Marketing</th>\n",
       "      <th>Product management</th>\n",
       "      <th>All</th>\n",
       "    </tr>\n",
       "    <tr>\n",
       "      <th>radio-rejoindre</th>\n",
       "      <th></th>\n",
       "      <th></th>\n",
       "      <th></th>\n",
       "      <th></th>\n",
       "      <th></th>\n",
       "      <th></th>\n",
       "      <th></th>\n",
       "      <th></th>\n",
       "      <th></th>\n",
       "      <th></th>\n",
       "      <th></th>\n",
       "      <th></th>\n",
       "      <th></th>\n",
       "    </tr>\n",
       "  </thead>\n",
       "  <tbody>\n",
       "    <tr>\n",
       "      <th>Oui</th>\n",
       "      <td>0.04</td>\n",
       "      <td>0.11</td>\n",
       "      <td>0.02</td>\n",
       "      <td>0.07</td>\n",
       "      <td>0.00</td>\n",
       "      <td>0.03</td>\n",
       "      <td>0.02</td>\n",
       "      <td>0.00</td>\n",
       "      <td>0.07</td>\n",
       "      <td>0.00</td>\n",
       "      <td>0.01</td>\n",
       "      <td>0.04</td>\n",
       "      <td>0.42</td>\n",
       "    </tr>\n",
       "    <tr>\n",
       "      <th>Je ne sais pas</th>\n",
       "      <td>0.04</td>\n",
       "      <td>0.11</td>\n",
       "      <td>0.01</td>\n",
       "      <td>0.06</td>\n",
       "      <td>0.01</td>\n",
       "      <td>0.02</td>\n",
       "      <td>0.04</td>\n",
       "      <td>0.02</td>\n",
       "      <td>0.09</td>\n",
       "      <td>0.01</td>\n",
       "      <td>0.02</td>\n",
       "      <td>0.05</td>\n",
       "      <td>0.47</td>\n",
       "    </tr>\n",
       "    <tr>\n",
       "      <th>Non</th>\n",
       "      <td>0.01</td>\n",
       "      <td>0.02</td>\n",
       "      <td>0.01</td>\n",
       "      <td>0.01</td>\n",
       "      <td>0.00</td>\n",
       "      <td>0.00</td>\n",
       "      <td>0.01</td>\n",
       "      <td>0.00</td>\n",
       "      <td>0.04</td>\n",
       "      <td>0.00</td>\n",
       "      <td>0.00</td>\n",
       "      <td>0.01</td>\n",
       "      <td>0.11</td>\n",
       "    </tr>\n",
       "    <tr>\n",
       "      <th>All</th>\n",
       "      <td>0.09</td>\n",
       "      <td>0.24</td>\n",
       "      <td>0.04</td>\n",
       "      <td>0.13</td>\n",
       "      <td>0.02</td>\n",
       "      <td>0.04</td>\n",
       "      <td>0.08</td>\n",
       "      <td>0.02</td>\n",
       "      <td>0.20</td>\n",
       "      <td>0.01</td>\n",
       "      <td>0.03</td>\n",
       "      <td>0.10</td>\n",
       "      <td>1.00</td>\n",
       "    </tr>\n",
       "  </tbody>\n",
       "</table>\n",
       "</div>"
      ],
      "text/plain": [
       "radio-metiers    Administration système  Autre  Communication  Data scientist  \\\n",
       "radio-rejoindre                                                                 \n",
       "Oui                                0.04   0.11           0.02            0.07   \n",
       "Je ne sais pas                     0.04   0.11           0.01            0.06   \n",
       "Non                                0.01   0.02           0.01            0.01   \n",
       "All                                0.09   0.24           0.04            0.13   \n",
       "\n",
       "radio-metiers    Design UI/UX  Design de services  Développement backend  \\\n",
       "radio-rejoindre                                                            \n",
       "Oui                      0.00                0.03                   0.02   \n",
       "Je ne sais pas           0.01                0.02                   0.04   \n",
       "Non                      0.00                0.00                   0.01   \n",
       "All                      0.02                0.04                   0.08   \n",
       "\n",
       "radio-metiers    Développement frontend  Développement fullstack  \\\n",
       "radio-rejoindre                                                    \n",
       "Oui                                0.00                     0.07   \n",
       "Je ne sais pas                     0.02                     0.09   \n",
       "Non                                0.00                     0.04   \n",
       "All                                0.02                     0.20   \n",
       "\n",
       "radio-metiers    Développement mobile  Marketing  Product management   All  \n",
       "radio-rejoindre                                                             \n",
       "Oui                              0.00       0.01                0.04  0.42  \n",
       "Je ne sais pas                   0.01       0.02                0.05  0.47  \n",
       "Non                              0.00       0.00                0.01  0.11  \n",
       "All                              0.01       0.03                0.10  1.00  "
      ]
     },
     "execution_count": 34,
     "metadata": {},
     "output_type": "execute_result"
    }
   ],
   "source": [
    "pd.crosstab(public_digital_df[\"radio-rejoindre\"],\n",
    "            public_digital_df[\"radio-metiers\"],\n",
    "            normalize=True,\n",
    "            margins=True).round(2)\n",
    "#on peut voir 4% de l'echantillon a repondu OUI au niveau de l'administration\n",
    "            "
   ]
  },
  {
   "cell_type": "markdown",
   "id": "a161747f-8155-4270-bc4b-c88822a68ac6",
   "metadata": {},
   "source": [
    "<span style=\"color: white; font-weight: bold; font-size: 50px;\"> Salaire minimum souhaité</span>"
   ]
  },
  {
   "cell_type": "code",
   "execution_count": 35,
   "id": "8d0ace98-0575-4567-a2bd-983c700542de",
   "metadata": {},
   "outputs": [
    {
     "data": {
      "text/plain": [
       "10.879464285714286"
      ]
     },
     "execution_count": 35,
     "metadata": {},
     "output_type": "execute_result"
    }
   ],
   "source": [
    "public_digital_df[\"number-experience\"].mean()"
   ]
  },
  {
   "cell_type": "markdown",
   "id": "d88c241b-08b9-48bd-adf4-09f1a0bf4f3e",
   "metadata": {},
   "source": [
    "<span style=\"color: blue; font-weight: bold; font-size: 50px;\"> Salaire Moyenne souhaité</span>"
   ]
  },
  {
   "cell_type": "code",
   "execution_count": 36,
   "id": "84e61b3b-c27a-4baa-84ae-404508d2a72f",
   "metadata": {},
   "outputs": [
    {
     "data": {
      "text/plain": [
       "<matplotlib.lines.Line2D at 0x2aaf05f5250>"
      ]
     },
     "execution_count": 36,
     "metadata": {},
     "output_type": "execute_result"
    },
    {
     "data": {
      "image/png": "[encoded data removed]",
      "text/plain": [
       "<Figure size 640x480 with 1 Axes>"
      ]
     },
     "metadata": {},
     "output_type": "display_data"
    }
   ],
   "source": [
    "# Création de l'histogramme\n",
    "bar_plot = public_digital_df[\"number-experience\"].plot(kind='hist')\n",
    "\n",
    "# Ajout de la ligne représentant la moyenne\n",
    "mean_value = public_digital_df[\"number-experience\"].mean()\n",
    "bar_plot.axvline(mean_value, color='red', linewidth=2)"
   ]
  },
  {
   "cell_type": "code",
   "execution_count": 37,
   "id": "e8554f5f-9070-4286-ad7d-7c06cb4ea97a",
   "metadata": {},
   "outputs": [
    {
     "data": {
      "text/plain": [
       "<matplotlib.lines.Line2D at 0x2aaf0adce50>"
      ]
     },
     "execution_count": 37,
     "metadata": {},
     "output_type": "execute_result"
    },
    {
     "data": {
      "image/png": "[encoded data removed]",
      "text/plain": [
       "<Figure size 640x480 with 1 Axes>"
      ]
     },
     "metadata": {},
     "output_type": "display_data"
    }
   ],
   "source": [
    "# Création de l'histogramme\n",
    "bar_plot = public_digital_df[\"number-salaire-min\"].plot(kind='hist')\n",
    "\n",
    "# Ajout de la ligne représentant la moyenne\n",
    "mean_value = public_digital_df[\"number-salaire-min\"].mean()\n",
    "bar_plot.axvline(mean_value, color='red', linewidth=2)"
   ]
  },
  {
   "cell_type": "code",
   "execution_count": 38,
   "id": "64667eec-0216-4f91-8209-b06ac258c32a",
   "metadata": {},
   "outputs": [
    {
     "data": {
      "text/plain": [
       "2993.3816964285716"
      ]
     },
     "execution_count": 38,
     "metadata": {},
     "output_type": "execute_result"
    }
   ],
   "source": [
    "public_digital_df[\"number-salaire-min\"].mean()"
   ]
  },
  {
   "cell_type": "markdown",
   "id": "79c8acf6-92af-41a3-b61b-2e04961137ec",
   "metadata": {
    "scrolled": true
   },
   "source": [
    "<span style=\"color: white; font-weight: bold; font-size: 50px;\"> Salaire moyen souhaité</span>"
   ]
  },
  {
   "cell_type": "code",
   "execution_count": 39,
   "id": "1ec46362-f623-41e1-bdb8-58a9c858ae83",
   "metadata": {},
   "outputs": [
    {
     "data": {
      "text/plain": [
       "0      True\n",
       "1      True\n",
       "2      True\n",
       "3      True\n",
       "4      True\n",
       "       ... \n",
       "443    True\n",
       "444    True\n",
       "445    True\n",
       "446    True\n",
       "447    True\n",
       "Name: number-salaire-souhait, Length: 448, dtype: bool"
      ]
     },
     "execution_count": 39,
     "metadata": {},
     "output_type": "execute_result"
    }
   ],
   "source": [
    "salaire_souhait_outliers_mask = public_digital_df[\"number-salaire-souhait\"].between(0, 6000)\n",
    "salaire_souhait_outliers_mask\n"
   ]
  },
  {
   "cell_type": "code",
   "execution_count": 40,
   "id": "b698da29-26d5-4bbd-b3a0-6fb07f180e76",
   "metadata": {},
   "outputs": [
    {
     "data": {
      "text/plain": [
       "number-salaire-souhait\n",
       "True     431\n",
       "False     17\n",
       "Name: count, dtype: int64"
      ]
     },
     "execution_count": 40,
     "metadata": {},
     "output_type": "execute_result"
    }
   ],
   "source": [
    "salaire_souhait_outliers_mask.value_counts()\n",
    "\n"
   ]
  },
  {
   "cell_type": "code",
   "execution_count": 41,
   "id": "9c1b9b14-bab3-40d1-83ca-3bf5c08ce944",
   "metadata": {},
   "outputs": [
    {
     "data": {
      "text/plain": [
       "3474.8051044083527"
      ]
     },
     "execution_count": 41,
     "metadata": {},
     "output_type": "execute_result"
    }
   ],
   "source": [
    "public_digital_df[salaire_souhait_outliers_mask][\"number-salaire-souhait\"].mean()\n",
    "#on peut constaté une baisse de 10% apres déduction des 17 false \n"
   ]
  },
  {
   "cell_type": "markdown",
   "id": "ff68353c-1ee2-4292-9799-a9d52c408140",
   "metadata": {},
   "source": [
    "<span style=\"color: white; font-weight: bold; font-size: 50px;\"> Moyenne des expériences, salaire souhaité min et salaire souhaité dont je veux la moyenne mais par type de contrat</span>"
   ]
  },
  {
   "cell_type": "code",
   "execution_count": 42,
   "id": "c791b17c-ea95-4d17-831a-e627d51f7c30",
   "metadata": {},
   "outputs": [
    {
     "name": "stderr",
     "output_type": "stream",
     "text": [
      "C:\\Users\\PC\\AppData\\Local\\Temp\\ipykernel_1596\\2344721647.py:1: FutureWarning: The default of observed=False is deprecated and will be changed to True in a future version of pandas. Pass observed=False to retain current behavior or observed=True to adopt the future default and silence this warning.\n",
      "  public_digital_df.groupby([\"radio-type-contrat\"])[[\"number-experience\", \"number-salaire-min\", \"number-salaire-souhait\"]].agg([\"mean\"])\n"
     ]
    },
    {
     "data": {
      "text/html": [
       "<div>\n",
       "<style scoped>\n",
       "    .dataframe tbody tr th:only-of-type {\n",
       "        vertical-align: middle;\n",
       "    }\n",
       "\n",
       "    .dataframe tbody tr th {\n",
       "        vertical-align: top;\n",
       "    }\n",
       "\n",
       "    .dataframe thead tr th {\n",
       "        text-align: left;\n",
       "    }\n",
       "\n",
       "    .dataframe thead tr:last-of-type th {\n",
       "        text-align: right;\n",
       "    }\n",
       "</style>\n",
       "<table border=\"1\" class=\"dataframe\">\n",
       "  <thead>\n",
       "    <tr>\n",
       "      <th></th>\n",
       "      <th>number-experience</th>\n",
       "      <th>number-salaire-min</th>\n",
       "      <th>number-salaire-souhait</th>\n",
       "    </tr>\n",
       "    <tr>\n",
       "      <th></th>\n",
       "      <th>mean</th>\n",
       "      <th>mean</th>\n",
       "      <th>mean</th>\n",
       "    </tr>\n",
       "    <tr>\n",
       "      <th>radio-type-contrat</th>\n",
       "      <th></th>\n",
       "      <th></th>\n",
       "      <th></th>\n",
       "    </tr>\n",
       "  </thead>\n",
       "  <tbody>\n",
       "    <tr>\n",
       "      <th>CDI</th>\n",
       "      <td>10.902857</td>\n",
       "      <td>2993.845714</td>\n",
       "      <td>3612.117143</td>\n",
       "    </tr>\n",
       "    <tr>\n",
       "      <th>CDD (2-3 ans)</th>\n",
       "      <td>8.590909</td>\n",
       "      <td>2671.590909</td>\n",
       "      <td>3236.363636</td>\n",
       "    </tr>\n",
       "    <tr>\n",
       "      <th>Freelance, portage salarial</th>\n",
       "      <td>12.592593</td>\n",
       "      <td>3252.574074</td>\n",
       "      <td>4129.611111</td>\n",
       "    </tr>\n",
       "  </tbody>\n",
       "</table>\n",
       "</div>"
      ],
      "text/plain": [
       "                            number-experience number-salaire-min  \\\n",
       "                                         mean               mean   \n",
       "radio-type-contrat                                                 \n",
       "CDI                                 10.902857        2993.845714   \n",
       "CDD (2-3 ans)                        8.590909        2671.590909   \n",
       "Freelance, portage salarial         12.592593        3252.574074   \n",
       "\n",
       "                            number-salaire-souhait  \n",
       "                                              mean  \n",
       "radio-type-contrat                                  \n",
       "CDI                                    3612.117143  \n",
       "CDD (2-3 ans)                          3236.363636  \n",
       "Freelance, portage salarial            4129.611111  "
      ]
     },
     "execution_count": 42,
     "metadata": {},
     "output_type": "execute_result"
    }
   ],
   "source": [
    "public_digital_df.groupby([\"radio-type-contrat\"])[[\"number-experience\", \"number-salaire-min\", \"number-salaire-souhait\"]].agg([\"mean\"])\n"
   ]
  },
  {
   "cell_type": "markdown",
   "id": "a7e67cc7-320d-46fd-a575-0038e6181536",
   "metadata": {},
   "source": [
    "<span style=\"color: white; font-weight: bold; font-size: 50px;\"> Quantiles</span>"
   ]
  },
  {
   "cell_type": "code",
   "execution_count": 43,
   "id": "3ac0c0c8-a76c-4ec6-a271-2195fda0819c",
   "metadata": {},
   "outputs": [],
   "source": [
    "Age = [32, 45, 27, 32, 27, 50, 45, 40, 32, 27, 40]"
   ]
  },
  {
   "cell_type": "code",
   "execution_count": 44,
   "id": "62fe37b6-3af3-4dea-be5f-d247526a910f",
   "metadata": {},
   "outputs": [
    {
     "data": {
      "text/plain": [
       "11"
      ]
     },
     "execution_count": 44,
     "metadata": {},
     "output_type": "execute_result"
    }
   ],
   "source": [
    "len(Age)"
   ]
  },
  {
   "cell_type": "code",
   "execution_count": 45,
   "id": "bd5581eb-52cb-4cfb-9cb6-6540771745e8",
   "metadata": {},
   "outputs": [
    {
     "data": {
      "text/plain": [
       "[27, 27, 27, 32, 32, 32, 40, 40, 45, 45, 50]"
      ]
     },
     "execution_count": 45,
     "metadata": {},
     "output_type": "execute_result"
    }
   ],
   "source": [
    "sorted(Age)"
   ]
  },
  {
   "cell_type": "code",
   "execution_count": 46,
   "id": "46db1c6a-4680-46ef-b5a4-107521f166b9",
   "metadata": {},
   "outputs": [
    {
     "data": {
      "text/plain": [
       "29.5"
      ]
     },
     "execution_count": 46,
     "metadata": {},
     "output_type": "execute_result"
    }
   ],
   "source": [
    "np.quantile(Age, q=0.25)"
   ]
  },
  {
   "cell_type": "markdown",
   "id": "3910bfc8-b849-44c4-b9aa-7ab3b8306196",
   "metadata": {},
   "source": [
    "<span style=\"color: white; font-weight: bold; font-size: 50px;\"> Position=q×(Taille−1) </br> où \n",
    "𝑞=0.25 q=0.25 et la taille de la liste est 11, ce qui donne une position de 2.5. </br> Valeur du quartile=0.5×27+0.5×32=29.5</span>"
   ]
  },
  {
   "cell_type": "code",
   "execution_count": 47,
   "id": "b2fe22c5-b1dc-4f9d-9092-b80071f7bbff",
   "metadata": {},
   "outputs": [
    {
     "data": {
      "text/plain": [
       "(array([0. , 0.1, 0.2, 0.3, 0.4, 0.5, 0.6, 0.7, 0.8, 0.9, 1. ]),\n",
       " array([0.  , 0.25, 0.5 , 0.75, 1.  ]))"
      ]
     },
     "execution_count": 47,
     "metadata": {},
     "output_type": "execute_result"
    }
   ],
   "source": [
    "np.linspace(0, 1, 11), np.linspace(0, 1, 5)"
   ]
  },
  {
   "cell_type": "code",
   "execution_count": 48,
   "id": "a54ca1bd-5e7e-41f1-8fde-eb4fd5cee975",
   "metadata": {},
   "outputs": [],
   "source": [
    "deciles=np.linspace(0, 1, 11)\n",
    "quartiles=np.linspace(0, 1, 5)"
   ]
  },
  {
   "cell_type": "markdown",
   "id": "20d082ef-1db6-496a-8bd2-f7bb9665ca98",
   "metadata": {},
   "source": [
    "<span style=\"color: white; font-weight: bold; font-size: 50px;\"> Les quartiles</span>"
   ]
  },
  {
   "cell_type": "code",
   "execution_count": 49,
   "id": "228b8466-9728-45c9-abf1-a343542b995e",
   "metadata": {},
   "outputs": [
    {
     "data": {
      "text/plain": [
       "count    448.000000\n",
       "mean      10.879464\n",
       "std        7.365041\n",
       "min        1.000000\n",
       "25%        5.000000\n",
       "50%       10.000000\n",
       "75%       15.000000\n",
       "max       40.000000\n",
       "Name: number-experience, dtype: float64"
      ]
     },
     "execution_count": 49,
     "metadata": {},
     "output_type": "execute_result"
    }
   ],
   "source": [
    "public_digital_df[\"number-experience\"].describe()\n",
    "# on peut voir que le quartile 0 c'est le minimum et la qaurtile 5 est le maximum et on voit que j'ai 4 intervalles a partir de min a max"
   ]
  },
  {
   "cell_type": "code",
   "execution_count": 50,
   "id": "78de9ab7-5656-45c1-92e8-748215997aca",
   "metadata": {},
   "outputs": [
    {
     "data": {
      "text/plain": [
       "count    448.000000\n",
       "mean      10.879464\n",
       "std        7.365041\n",
       "min        1.000000\n",
       "0%         1.000000\n",
       "10%        2.700000\n",
       "20%        3.500000\n",
       "30%        5.000000\n",
       "40%        8.000000\n",
       "50%       10.000000\n",
       "60%       11.000000\n",
       "70%       14.000000\n",
       "80%       19.000000\n",
       "90%       20.000000\n",
       "100%      40.000000\n",
       "max       40.000000\n",
       "Name: number-experience, dtype: float64"
      ]
     },
     "execution_count": 50,
     "metadata": {},
     "output_type": "execute_result"
    }
   ],
   "source": [
    "public_digital_df[\"number-experience\"].describe(percentiles=deciles)"
   ]
  },
  {
   "cell_type": "markdown",
   "id": "f849e85e-dc71-4a86-b12d-54bfa81157a9",
   "metadata": {},
   "source": [
    "<span style=\"color: white; font-weight: bold; font-size: 50px;\"> IQR et etendue expérience</span>"
   ]
  },
  {
   "cell_type": "code",
   "execution_count": 58,
   "id": "59ed5d59-0232-4aea-a44a-cf17365d96b2",
   "metadata": {},
   "outputs": [
    {
     "data": {
      "text/plain": [
       "39.0"
      ]
     },
     "execution_count": 58,
     "metadata": {},
     "output_type": "execute_result"
    }
   ],
   "source": [
    "public_digital_df[\"number-experience\"].min()\n",
    "public_digital_df[\"number-experience\"].max()\n",
    "public_digital_df[\"number-experience\"].max() - public_digital_df[\"number-experience\"].min()\n"
   ]
  },
  {
   "cell_type": "markdown",
   "id": "4fdf826f-1268-4a89-acef-0dae638301e9",
   "metadata": {},
   "source": [
    "<span style=\"color: white; font-weight: bold; font-size: 50px;\"> IQR</span>"
   ]
  },
  {
   "cell_type": "code",
   "execution_count": 52,
   "id": "6933ce05-6fba-4247-a9ac-8a47437003a6",
   "metadata": {},
   "outputs": [
    {
     "data": {
      "text/plain": [
       "10.0"
      ]
     },
     "execution_count": 52,
     "metadata": {},
     "output_type": "execute_result"
    }
   ],
   "source": [
    "public_digital_df[\"number-experience\"].quantile(q=0.25# premiere quartile ce qui fera 5\n",
    "public_digital_df[\"number-experience\"].quantile(q=0.75),# Troisieme quartile ce qui fera 15\n",
    "public_digital_df[\"number-experience\"].quantile(q=0.75) - public_digital_df[\"number-experience\"].quantile(q=0.25)\n"
   ]
  },
  {
   "cell_type": "code",
   "execution_count": 53,
   "id": "86d83204-4930-43d7-b45d-26a079694dcb",
   "metadata": {},
   "outputs": [
    {
     "data": {
      "text/plain": [
       "<matplotlib.lines.Line2D at 0x2aaf05f66d0>"
      ]
     },
     "execution_count": 53,
     "metadata": {},
     "output_type": "execute_result"
    },
    {
     "data": {
      "image/png": "[encoded data removed]",
      "text/plain": [
       "<Figure size 640x480 with 1 Axes>"
      ]
     },
     "metadata": {},
     "output_type": "display_data"
    }
   ],
   "source": [
    "bar_plot = public_digital_df[\"number-experience\"].plot(kind='hist')\n",
    "bar_plot.axvline(public_digital_df[\"number-experience\"].quantile(q=0.25), color='red', linewidth=2)\n",
    "bar_plot.axvline(public_digital_df[\"number-experience\"].quantile(q=0.75), color='red', linewidth=2)\n"
   ]
  },
  {
   "cell_type": "code",
   "execution_count": null,
   "id": "266f1fe6-c86b-43cc-85a0-245dbbf82c0e",
   "metadata": {},
   "outputs": [],
   "source": []
  },
  {
   "cell_type": "code",
   "execution_count": null,
   "id": "db311bbb-2d25-4cd3-a908-d2f0d52ed465",
   "metadata": {},
   "outputs": [],
   "source": []
  },
  {
   "cell_type": "markdown",
   "id": "55faa87b-c948-4213-a941-c2526dd0b339",
   "metadata": {},
   "source": [
    "<span style=\"color: white; font-weight: bold; font-size: 50px;\"> Moyenne et medianes et IQR des experiences, salaires souhaités et min par contrat</span>"
   ]
  },
  {
   "cell_type": "code",
   "execution_count": 61,
   "id": "c2f08b01-1289-4f98-9017-ac43eb46019b",
   "metadata": {},
   "outputs": [],
   "source": [
    "from scipy.stats import iqr # ça nous permettra de ne pas de ne pas calculer l'etendu max-min\n"
   ]
  },
  {
   "cell_type": "code",
   "execution_count": 62,
   "id": "6d2b1d20-059f-47d3-897f-80cb7e4a5c60",
   "metadata": {},
   "outputs": [
    {
     "data": {
      "text/plain": [
       "10.0"
      ]
     },
     "execution_count": 62,
     "metadata": {},
     "output_type": "execute_result"
    }
   ],
   "source": [
    "iqr(public_digital_df[\"number-experience\"])\n"
   ]
  },
  {
   "cell_type": "code",
   "execution_count": 63,
   "id": "a69b7a4c-7d7b-4b5d-86f0-8af65e495198",
   "metadata": {},
   "outputs": [
    {
     "data": {
      "text/plain": [
       "count    448.000000\n",
       "mean      10.879464\n",
       "std        7.365041\n",
       "min        1.000000\n",
       "25%        5.000000\n",
       "50%       10.000000\n",
       "75%       15.000000\n",
       "max       40.000000\n",
       "Name: number-experience, dtype: float64"
      ]
     },
     "execution_count": 63,
     "metadata": {},
     "output_type": "execute_result"
    }
   ],
   "source": [
    "public_digital_df[\"number-experience\"].describe()\n"
   ]
  },
  {
   "cell_type": "code",
   "execution_count": 64,
   "id": "57635d9e-7792-41c7-b42b-c7e84189a723",
   "metadata": {},
   "outputs": [
    {
     "name": "stderr",
     "output_type": "stream",
     "text": [
      "C:\\Users\\PC\\AppData\\Local\\Temp\\ipykernel_1596\\3109332858.py:1: FutureWarning: The default of observed=False is deprecated and will be changed to True in a future version of pandas. Pass observed=False to retain current behavior or observed=True to adopt the future default and silence this warning.\n",
      "  public_digital_df.groupby([\"radio-type-contrat\"])[[\"number-experience\", \"number-salaire-min\", \"number-salaire-souhait\"]].agg([\"mean\", \"median\", iqr])\n"
     ]
    },
    {
     "data": {
      "text/html": [
       "<div>\n",
       "<style scoped>\n",
       "    .dataframe tbody tr th:only-of-type {\n",
       "        vertical-align: middle;\n",
       "    }\n",
       "\n",
       "    .dataframe tbody tr th {\n",
       "        vertical-align: top;\n",
       "    }\n",
       "\n",
       "    .dataframe thead tr th {\n",
       "        text-align: left;\n",
       "    }\n",
       "\n",
       "    .dataframe thead tr:last-of-type th {\n",
       "        text-align: right;\n",
       "    }\n",
       "</style>\n",
       "<table border=\"1\" class=\"dataframe\">\n",
       "  <thead>\n",
       "    <tr>\n",
       "      <th></th>\n",
       "      <th colspan=\"3\" halign=\"left\">number-experience</th>\n",
       "      <th colspan=\"3\" halign=\"left\">number-salaire-min</th>\n",
       "      <th colspan=\"3\" halign=\"left\">number-salaire-souhait</th>\n",
       "    </tr>\n",
       "    <tr>\n",
       "      <th></th>\n",
       "      <th>mean</th>\n",
       "      <th>median</th>\n",
       "      <th>iqr</th>\n",
       "      <th>mean</th>\n",
       "      <th>median</th>\n",
       "      <th>iqr</th>\n",
       "      <th>mean</th>\n",
       "      <th>median</th>\n",
       "      <th>iqr</th>\n",
       "    </tr>\n",
       "    <tr>\n",
       "      <th>radio-type-contrat</th>\n",
       "      <th></th>\n",
       "      <th></th>\n",
       "      <th></th>\n",
       "      <th></th>\n",
       "      <th></th>\n",
       "      <th></th>\n",
       "      <th></th>\n",
       "      <th></th>\n",
       "      <th></th>\n",
       "    </tr>\n",
       "  </thead>\n",
       "  <tbody>\n",
       "    <tr>\n",
       "      <th>CDI</th>\n",
       "      <td>10.902857</td>\n",
       "      <td>10.0</td>\n",
       "      <td>10.75</td>\n",
       "      <td>2993.845714</td>\n",
       "      <td>2900.0</td>\n",
       "      <td>1100.0</td>\n",
       "      <td>3612.117143</td>\n",
       "      <td>3500.0</td>\n",
       "      <td>1200.0</td>\n",
       "    </tr>\n",
       "    <tr>\n",
       "      <th>CDD (2-3 ans)</th>\n",
       "      <td>8.590909</td>\n",
       "      <td>7.0</td>\n",
       "      <td>7.25</td>\n",
       "      <td>2671.590909</td>\n",
       "      <td>2500.0</td>\n",
       "      <td>925.0</td>\n",
       "      <td>3236.363636</td>\n",
       "      <td>3000.0</td>\n",
       "      <td>950.0</td>\n",
       "    </tr>\n",
       "    <tr>\n",
       "      <th>Freelance, portage salarial</th>\n",
       "      <td>12.592593</td>\n",
       "      <td>11.0</td>\n",
       "      <td>9.00</td>\n",
       "      <td>3252.574074</td>\n",
       "      <td>3000.0</td>\n",
       "      <td>1800.0</td>\n",
       "      <td>4129.611111</td>\n",
       "      <td>3750.0</td>\n",
       "      <td>2000.0</td>\n",
       "    </tr>\n",
       "  </tbody>\n",
       "</table>\n",
       "</div>"
      ],
      "text/plain": [
       "                            number-experience                \\\n",
       "                                         mean median    iqr   \n",
       "radio-type-contrat                                            \n",
       "CDI                                 10.902857   10.0  10.75   \n",
       "CDD (2-3 ans)                        8.590909    7.0   7.25   \n",
       "Freelance, portage salarial         12.592593   11.0   9.00   \n",
       "\n",
       "                            number-salaire-min                  \\\n",
       "                                          mean  median     iqr   \n",
       "radio-type-contrat                                               \n",
       "CDI                                2993.845714  2900.0  1100.0   \n",
       "CDD (2-3 ans)                      2671.590909  2500.0   925.0   \n",
       "Freelance, portage salarial        3252.574074  3000.0  1800.0   \n",
       "\n",
       "                            number-salaire-souhait                  \n",
       "                                              mean  median     iqr  \n",
       "radio-type-contrat                                                  \n",
       "CDI                                    3612.117143  3500.0  1200.0  \n",
       "CDD (2-3 ans)                          3236.363636  3000.0   950.0  \n",
       "Freelance, portage salarial            4129.611111  3750.0  2000.0  "
      ]
     },
     "execution_count": 64,
     "metadata": {},
     "output_type": "execute_result"
    }
   ],
   "source": [
    "public_digital_df.groupby([\"radio-type-contrat\"])[[\"number-experience\", \"number-salaire-min\", \"number-salaire-souhait\"]].agg([\"mean\", \"median\", iqr])\n"
   ]
  },
  {
   "cell_type": "code",
   "execution_count": null,
   "id": "646c7a6e-b116-47ee-833a-8c5909cfe5e2",
   "metadata": {},
   "outputs": [],
   "source": []
  }
 ],
 "metadata": {
  "kernelspec": {
   "display_name": "Python 3 (ipykernel)",
   "language": "python",
   "name": "python3"
  },
  "language_info": {
   "codemirror_mode": {
    "name": "ipython",
    "version": 3
   },
   "file_extension": ".py",
   "mimetype": "text/x-python",
   "name": "python",
   "nbconvert_exporter": "python",
   "pygments_lexer": "ipython3",
   "version": "3.11.7"
  }
 },
 "nbformat": 4,
 "nbformat_minor": 5
}
